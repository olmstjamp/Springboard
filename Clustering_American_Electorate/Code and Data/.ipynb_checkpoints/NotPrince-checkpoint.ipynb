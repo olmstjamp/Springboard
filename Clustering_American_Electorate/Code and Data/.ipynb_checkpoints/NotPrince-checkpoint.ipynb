{
 "cells": [
  {
   "cell_type": "code",
   "execution_count": 1,
   "metadata": {},
   "outputs": [],
   "source": [
    "import pandas as pd\n",
    "import prince\n",
    "from mca import MCA\n",
    "from matplotlib import pyplot as plt\n",
    "import numpy as np\n",
    "from scipy import stats as ss\n",
    "import seaborn as sns\n",
    "import warnings\n",
    "warnings.filterwarnings(action='once')\n",
    "%matplotlib inline"
   ]
  },
  {
   "cell_type": "code",
   "execution_count": 2,
   "metadata": {},
   "outputs": [
    {
     "data": {
      "text/html": [
       "<div>\n",
       "<style scoped>\n",
       "    .dataframe tbody tr th:only-of-type {\n",
       "        vertical-align: middle;\n",
       "    }\n",
       "\n",
       "    .dataframe tbody tr th {\n",
       "        vertical-align: top;\n",
       "    }\n",
       "\n",
       "    .dataframe thead tr th {\n",
       "        text-align: left;\n",
       "    }\n",
       "</style>\n",
       "<table border=\"1\" class=\"dataframe\">\n",
       "  <thead>\n",
       "    <tr>\n",
       "      <th>Col_name</th>\n",
       "      <th>case_identifier</th>\n",
       "      <th>caseid</th>\n",
       "      <th>weight_panel</th>\n",
       "      <th>weight_latino</th>\n",
       "      <th>weight_18_24</th>\n",
       "      <th>weight_overall</th>\n",
       "      <th>cassfullcd</th>\n",
       "      <th>add_confirm_2018</th>\n",
       "      <th>votereg_2018</th>\n",
       "      <th>votereg_f_2018</th>\n",
       "      <th>...</th>\n",
       "      <th>faminc_baseline</th>\n",
       "      <th>prim12_baseline</th>\n",
       "      <th>post_inputstate_2012</th>\n",
       "      <th>post_turnout12_2012</th>\n",
       "      <th>post_turnout_method12_2012</th>\n",
       "      <th>post_presvote12_2012</th>\n",
       "      <th>post_pid7_2012</th>\n",
       "      <th>post_pid3_2012</th>\n",
       "      <th>post_ideo5_2012</th>\n",
       "      <th>post_newsint_2012</th>\n",
       "    </tr>\n",
       "    <tr>\n",
       "      <th>Year</th>\n",
       "      <th>Other</th>\n",
       "      <th>Other</th>\n",
       "      <th>Other</th>\n",
       "      <th>Other</th>\n",
       "      <th>Other</th>\n",
       "      <th>Other</th>\n",
       "      <th>Other</th>\n",
       "      <th>2018</th>\n",
       "      <th>2018</th>\n",
       "      <th>2018</th>\n",
       "      <th>...</th>\n",
       "      <th>2011</th>\n",
       "      <th>2011</th>\n",
       "      <th>2012</th>\n",
       "      <th>2012</th>\n",
       "      <th>2012</th>\n",
       "      <th>2012</th>\n",
       "      <th>2012</th>\n",
       "      <th>2012</th>\n",
       "      <th>2012</th>\n",
       "      <th>2012</th>\n",
       "    </tr>\n",
       "    <tr>\n",
       "      <th>Type</th>\n",
       "      <th>ID</th>\n",
       "      <th>ID</th>\n",
       "      <th>Weight</th>\n",
       "      <th>Weight</th>\n",
       "      <th>Weight</th>\n",
       "      <th>Weight</th>\n",
       "      <th>ID</th>\n",
       "      <th>Cat</th>\n",
       "      <th>Cat</th>\n",
       "      <th>Cat</th>\n",
       "      <th>...</th>\n",
       "      <th>Cat_O_DN</th>\n",
       "      <th>Cat</th>\n",
       "      <th>Cat</th>\n",
       "      <th>Cat</th>\n",
       "      <th>Cat</th>\n",
       "      <th>Cat</th>\n",
       "      <th>Cat_O_DN</th>\n",
       "      <th>Cat</th>\n",
       "      <th>Cat_O_DN</th>\n",
       "      <th>Cat_O_DN</th>\n",
       "    </tr>\n",
       "    <tr>\n",
       "      <th>Section</th>\n",
       "      <th>ID</th>\n",
       "      <th>ID</th>\n",
       "      <th>Weight</th>\n",
       "      <th>Weight</th>\n",
       "      <th>Weight</th>\n",
       "      <th>Weight</th>\n",
       "      <th>ID</th>\n",
       "      <th>ID</th>\n",
       "      <th>ID</th>\n",
       "      <th>ID</th>\n",
       "      <th>...</th>\n",
       "      <th>RespInfo</th>\n",
       "      <th>Voting</th>\n",
       "      <th>ID</th>\n",
       "      <th>Voting</th>\n",
       "      <th>Voting</th>\n",
       "      <th>Voting</th>\n",
       "      <th>PolIden</th>\n",
       "      <th>PolIden</th>\n",
       "      <th>PolIden</th>\n",
       "      <th>Engagement</th>\n",
       "    </tr>\n",
       "  </thead>\n",
       "  <tbody>\n",
       "    <tr>\n",
       "      <th>0</th>\n",
       "      <td>779.0</td>\n",
       "      <td>382484815.0</td>\n",
       "      <td>0.502544</td>\n",
       "      <td>NaN</td>\n",
       "      <td>NaN</td>\n",
       "      <td>0.359510</td>\n",
       "      <td>602.0</td>\n",
       "      <td>1.0</td>\n",
       "      <td>1.0</td>\n",
       "      <td>1.0</td>\n",
       "      <td>...</td>\n",
       "      <td>6.0</td>\n",
       "      <td>1.0</td>\n",
       "      <td>32.0</td>\n",
       "      <td>5.0</td>\n",
       "      <td>4.0</td>\n",
       "      <td>1.0</td>\n",
       "      <td>2.0</td>\n",
       "      <td>1.0</td>\n",
       "      <td>3.0</td>\n",
       "      <td>1.0</td>\n",
       "    </tr>\n",
       "    <tr>\n",
       "      <th>1</th>\n",
       "      <td>2108.0</td>\n",
       "      <td>382162624.0</td>\n",
       "      <td>0.388691</td>\n",
       "      <td>NaN</td>\n",
       "      <td>NaN</td>\n",
       "      <td>0.736387</td>\n",
       "      <td>405.0</td>\n",
       "      <td>1.0</td>\n",
       "      <td>1.0</td>\n",
       "      <td>1.0</td>\n",
       "      <td>...</td>\n",
       "      <td>8.0</td>\n",
       "      <td>2.0</td>\n",
       "      <td>4.0</td>\n",
       "      <td>5.0</td>\n",
       "      <td>4.0</td>\n",
       "      <td>2.0</td>\n",
       "      <td>7.0</td>\n",
       "      <td>2.0</td>\n",
       "      <td>4.0</td>\n",
       "      <td>1.0</td>\n",
       "    </tr>\n",
       "    <tr>\n",
       "      <th>2</th>\n",
       "      <td>2597.0</td>\n",
       "      <td>382165114.0</td>\n",
       "      <td>0.684193</td>\n",
       "      <td>NaN</td>\n",
       "      <td>NaN</td>\n",
       "      <td>0.631656</td>\n",
       "      <td>5506.0</td>\n",
       "      <td>1.0</td>\n",
       "      <td>1.0</td>\n",
       "      <td>1.0</td>\n",
       "      <td>...</td>\n",
       "      <td>5.0</td>\n",
       "      <td>1.0</td>\n",
       "      <td>55.0</td>\n",
       "      <td>5.0</td>\n",
       "      <td>4.0</td>\n",
       "      <td>2.0</td>\n",
       "      <td>7.0</td>\n",
       "      <td>2.0</td>\n",
       "      <td>3.0</td>\n",
       "      <td>1.0</td>\n",
       "    </tr>\n",
       "    <tr>\n",
       "      <th>3</th>\n",
       "      <td>4460.0</td>\n",
       "      <td>382338436.0</td>\n",
       "      <td>0.322488</td>\n",
       "      <td>NaN</td>\n",
       "      <td>NaN</td>\n",
       "      <td>0.488005</td>\n",
       "      <td>4828.0</td>\n",
       "      <td>2.0</td>\n",
       "      <td>1.0</td>\n",
       "      <td>1.0</td>\n",
       "      <td>...</td>\n",
       "      <td>10.0</td>\n",
       "      <td>2.0</td>\n",
       "      <td>48.0</td>\n",
       "      <td>5.0</td>\n",
       "      <td>4.0</td>\n",
       "      <td>2.0</td>\n",
       "      <td>7.0</td>\n",
       "      <td>2.0</td>\n",
       "      <td>4.0</td>\n",
       "      <td>1.0</td>\n",
       "    </tr>\n",
       "    <tr>\n",
       "      <th>4</th>\n",
       "      <td>5225.0</td>\n",
       "      <td>382487100.0</td>\n",
       "      <td>0.594111</td>\n",
       "      <td>NaN</td>\n",
       "      <td>NaN</td>\n",
       "      <td>0.513802</td>\n",
       "      <td>602.0</td>\n",
       "      <td>1.0</td>\n",
       "      <td>1.0</td>\n",
       "      <td>1.0</td>\n",
       "      <td>...</td>\n",
       "      <td>4.0</td>\n",
       "      <td>1.0</td>\n",
       "      <td>6.0</td>\n",
       "      <td>5.0</td>\n",
       "      <td>5.0</td>\n",
       "      <td>1.0</td>\n",
       "      <td>1.0</td>\n",
       "      <td>1.0</td>\n",
       "      <td>1.0</td>\n",
       "      <td>1.0</td>\n",
       "    </tr>\n",
       "  </tbody>\n",
       "</table>\n",
       "<p>5 rows × 829 columns</p>\n",
       "</div>"
      ],
      "text/plain": [
       "Col_name case_identifier       caseid weight_panel weight_latino weight_18_24  \\\n",
       "Year               Other        Other        Other         Other        Other   \n",
       "Type                  ID           ID       Weight        Weight       Weight   \n",
       "Section               ID           ID       Weight        Weight       Weight   \n",
       "0                  779.0  382484815.0     0.502544           NaN          NaN   \n",
       "1                 2108.0  382162624.0     0.388691           NaN          NaN   \n",
       "2                 2597.0  382165114.0     0.684193           NaN          NaN   \n",
       "3                 4460.0  382338436.0     0.322488           NaN          NaN   \n",
       "4                 5225.0  382487100.0     0.594111           NaN          NaN   \n",
       "\n",
       "Col_name weight_overall cassfullcd add_confirm_2018 votereg_2018  \\\n",
       "Year              Other      Other             2018         2018   \n",
       "Type             Weight         ID              Cat          Cat   \n",
       "Section          Weight         ID               ID           ID   \n",
       "0              0.359510      602.0              1.0          1.0   \n",
       "1              0.736387      405.0              1.0          1.0   \n",
       "2              0.631656     5506.0              1.0          1.0   \n",
       "3              0.488005     4828.0              2.0          1.0   \n",
       "4              0.513802      602.0              1.0          1.0   \n",
       "\n",
       "Col_name votereg_f_2018  ... faminc_baseline prim12_baseline  \\\n",
       "Year               2018  ...            2011            2011   \n",
       "Type                Cat  ...        Cat_O_DN             Cat   \n",
       "Section              ID  ...        RespInfo          Voting   \n",
       "0                   1.0  ...             6.0             1.0   \n",
       "1                   1.0  ...             8.0             2.0   \n",
       "2                   1.0  ...             5.0             1.0   \n",
       "3                   1.0  ...            10.0             2.0   \n",
       "4                   1.0  ...             4.0             1.0   \n",
       "\n",
       "Col_name post_inputstate_2012 post_turnout12_2012 post_turnout_method12_2012  \\\n",
       "Year                     2012                2012                       2012   \n",
       "Type                      Cat                 Cat                        Cat   \n",
       "Section                    ID              Voting                     Voting   \n",
       "0                        32.0                 5.0                        4.0   \n",
       "1                         4.0                 5.0                        4.0   \n",
       "2                        55.0                 5.0                        4.0   \n",
       "3                        48.0                 5.0                        4.0   \n",
       "4                         6.0                 5.0                        5.0   \n",
       "\n",
       "Col_name post_presvote12_2012 post_pid7_2012 post_pid3_2012 post_ideo5_2012  \\\n",
       "Year                     2012           2012           2012            2012   \n",
       "Type                      Cat       Cat_O_DN            Cat        Cat_O_DN   \n",
       "Section                Voting        PolIden        PolIden         PolIden   \n",
       "0                         1.0            2.0            1.0             3.0   \n",
       "1                         2.0            7.0            2.0             4.0   \n",
       "2                         2.0            7.0            2.0             3.0   \n",
       "3                         2.0            7.0            2.0             4.0   \n",
       "4                         1.0            1.0            1.0             1.0   \n",
       "\n",
       "Col_name post_newsint_2012  \n",
       "Year                  2012  \n",
       "Type              Cat_O_DN  \n",
       "Section         Engagement  \n",
       "0                      1.0  \n",
       "1                      1.0  \n",
       "2                      1.0  \n",
       "3                      1.0  \n",
       "4                      1.0  \n",
       "\n",
       "[5 rows x 829 columns]"
      ]
     },
     "execution_count": 2,
     "metadata": {},
     "output_type": "execute_result"
    }
   ],
   "source": [
    "data = pd.read_csv(\"CleanedData.csv\", header=[0,1,2,3], index_col=0)\n",
    "data.head()"
   ]
  },
  {
   "cell_type": "code",
   "execution_count": 3,
   "metadata": {},
   "outputs": [
    {
     "data": {
      "text/plain": [
       "Section\n",
       "AmericanID               8\n",
       "Blame                    5\n",
       "Cultural                10\n",
       "Direction               28\n",
       "Economics               12\n",
       "Egalitarian              4\n",
       "Elections               16\n",
       "Engagement               7\n",
       "FavTemp                 40\n",
       "HeadtoHead               4\n",
       "Health                   9\n",
       "ID                      17\n",
       "Immigration             31\n",
       "Institutions             8\n",
       "IssueImportance         61\n",
       "Knowledge               13\n",
       "MediaConsump            45\n",
       "MiscIssue               18\n",
       "Muslim                  13\n",
       "OrgMembership           22\n",
       "Parties                  8\n",
       "PartyAgendaD            12\n",
       "PartyAgendaR            12\n",
       "PersonalRepFeelings      9\n",
       "PolContrib               7\n",
       "PolIden                 32\n",
       "Pol_Approval            40\n",
       "Pol_Views               13\n",
       "Proud                    6\n",
       "Race                    20\n",
       "RespInfo               142\n",
       "RiggedOccur             11\n",
       "Russia                   9\n",
       "Sex/MeToo               24\n",
       "Social_Conformity        4\n",
       "Systems/Democracy       16\n",
       "Taxes                   19\n",
       "Trade                    8\n",
       "TrumpPromise            14\n",
       "Trust                   13\n",
       "Volunteer               18\n",
       "Voting                  15\n",
       "Weight                   6\n",
       "dtype: int64"
      ]
     },
     "execution_count": 3,
     "metadata": {},
     "output_type": "execute_result"
    }
   ],
   "source": [
    "data.sum().groupby(by='Section').count()"
   ]
  },
  {
   "cell_type": "code",
   "execution_count": 4,
   "metadata": {},
   "outputs": [],
   "source": [
    "#This function just is a simplified way to get a slice from a multiindexed column\n",
    "get_slice = lambda name, level: data.loc[:,data.columns.get_level_values(level)==name].droplevel(level=[1,2,3],axis=1)"
   ]
  },
  {
   "cell_type": "code",
   "execution_count": 5,
   "metadata": {},
   "outputs": [
    {
     "name": "stdout",
     "output_type": "stream",
     "text": [
      "61\n"
     ]
    },
    {
     "data": {
      "text/html": [
       "<div>\n",
       "<style scoped>\n",
       "    .dataframe tbody tr th:only-of-type {\n",
       "        vertical-align: middle;\n",
       "    }\n",
       "\n",
       "    .dataframe tbody tr th {\n",
       "        vertical-align: top;\n",
       "    }\n",
       "\n",
       "    .dataframe thead th {\n",
       "        text-align: right;\n",
       "    }\n",
       "</style>\n",
       "<table border=\"1\" class=\"dataframe\">\n",
       "  <thead>\n",
       "    <tr style=\"text-align: right;\">\n",
       "      <th>Col_name</th>\n",
       "      <th>imiss_a_2017</th>\n",
       "      <th>imiss_b_2017</th>\n",
       "      <th>imiss_c_2017</th>\n",
       "      <th>imiss_d_2017</th>\n",
       "      <th>imiss_e_2017</th>\n",
       "      <th>imiss_f_2017</th>\n",
       "      <th>imiss_g_2017</th>\n",
       "      <th>imiss_h_2017</th>\n",
       "      <th>imiss_i_2017</th>\n",
       "      <th>imiss_j_2017</th>\n",
       "      <th>...</th>\n",
       "      <th>imiss_g_baseline</th>\n",
       "      <th>imiss_h_baseline</th>\n",
       "      <th>imiss_j_baseline</th>\n",
       "      <th>imiss_m_baseline</th>\n",
       "      <th>imiss_p_baseline</th>\n",
       "      <th>imiss_q_baseline</th>\n",
       "      <th>imiss_r_baseline</th>\n",
       "      <th>imiss_s_baseline</th>\n",
       "      <th>imiss_t_baseline</th>\n",
       "      <th>imissf_baseline</th>\n",
       "    </tr>\n",
       "  </thead>\n",
       "  <tbody>\n",
       "    <tr>\n",
       "      <th>0</th>\n",
       "      <td>1.0</td>\n",
       "      <td>2.0</td>\n",
       "      <td>2.0</td>\n",
       "      <td>1.0</td>\n",
       "      <td>1.0</td>\n",
       "      <td>2.0</td>\n",
       "      <td>1.0</td>\n",
       "      <td>1.0</td>\n",
       "      <td>2.0</td>\n",
       "      <td>1.0</td>\n",
       "      <td>...</td>\n",
       "      <td>1.0</td>\n",
       "      <td>1.0</td>\n",
       "      <td>1.0</td>\n",
       "      <td>1.0</td>\n",
       "      <td>1.0</td>\n",
       "      <td>1.0</td>\n",
       "      <td>1.0</td>\n",
       "      <td>1.0</td>\n",
       "      <td>3.0</td>\n",
       "      <td>8.0</td>\n",
       "    </tr>\n",
       "    <tr>\n",
       "      <th>1</th>\n",
       "      <td>1.0</td>\n",
       "      <td>1.0</td>\n",
       "      <td>2.0</td>\n",
       "      <td>3.0</td>\n",
       "      <td>1.0</td>\n",
       "      <td>1.0</td>\n",
       "      <td>4.0</td>\n",
       "      <td>3.0</td>\n",
       "      <td>3.0</td>\n",
       "      <td>1.0</td>\n",
       "      <td>...</td>\n",
       "      <td>2.0</td>\n",
       "      <td>3.0</td>\n",
       "      <td>1.0</td>\n",
       "      <td>2.0</td>\n",
       "      <td>1.0</td>\n",
       "      <td>1.0</td>\n",
       "      <td>1.0</td>\n",
       "      <td>1.0</td>\n",
       "      <td>1.0</td>\n",
       "      <td>2.0</td>\n",
       "    </tr>\n",
       "    <tr>\n",
       "      <th>2</th>\n",
       "      <td>1.0</td>\n",
       "      <td>1.0</td>\n",
       "      <td>2.0</td>\n",
       "      <td>1.0</td>\n",
       "      <td>3.0</td>\n",
       "      <td>1.0</td>\n",
       "      <td>2.0</td>\n",
       "      <td>1.0</td>\n",
       "      <td>3.0</td>\n",
       "      <td>1.0</td>\n",
       "      <td>...</td>\n",
       "      <td>4.0</td>\n",
       "      <td>2.0</td>\n",
       "      <td>1.0</td>\n",
       "      <td>1.0</td>\n",
       "      <td>2.0</td>\n",
       "      <td>3.0</td>\n",
       "      <td>1.0</td>\n",
       "      <td>1.0</td>\n",
       "      <td>4.0</td>\n",
       "      <td>2.0</td>\n",
       "    </tr>\n",
       "    <tr>\n",
       "      <th>3</th>\n",
       "      <td>1.0</td>\n",
       "      <td>1.0</td>\n",
       "      <td>2.0</td>\n",
       "      <td>1.0</td>\n",
       "      <td>1.0</td>\n",
       "      <td>1.0</td>\n",
       "      <td>3.0</td>\n",
       "      <td>1.0</td>\n",
       "      <td>2.0</td>\n",
       "      <td>1.0</td>\n",
       "      <td>...</td>\n",
       "      <td>3.0</td>\n",
       "      <td>1.0</td>\n",
       "      <td>1.0</td>\n",
       "      <td>2.0</td>\n",
       "      <td>1.0</td>\n",
       "      <td>1.0</td>\n",
       "      <td>2.0</td>\n",
       "      <td>2.0</td>\n",
       "      <td>2.0</td>\n",
       "      <td>2.0</td>\n",
       "    </tr>\n",
       "    <tr>\n",
       "      <th>4</th>\n",
       "      <td>2.0</td>\n",
       "      <td>2.0</td>\n",
       "      <td>2.0</td>\n",
       "      <td>1.0</td>\n",
       "      <td>4.0</td>\n",
       "      <td>2.0</td>\n",
       "      <td>1.0</td>\n",
       "      <td>1.0</td>\n",
       "      <td>1.0</td>\n",
       "      <td>1.0</td>\n",
       "      <td>...</td>\n",
       "      <td>1.0</td>\n",
       "      <td>1.0</td>\n",
       "      <td>1.0</td>\n",
       "      <td>1.0</td>\n",
       "      <td>3.0</td>\n",
       "      <td>1.0</td>\n",
       "      <td>2.0</td>\n",
       "      <td>1.0</td>\n",
       "      <td>1.0</td>\n",
       "      <td>4.0</td>\n",
       "    </tr>\n",
       "  </tbody>\n",
       "</table>\n",
       "<p>5 rows × 61 columns</p>\n",
       "</div>"
      ],
      "text/plain": [
       "Col_name  imiss_a_2017  imiss_b_2017  imiss_c_2017  imiss_d_2017  \\\n",
       "0                  1.0           2.0           2.0           1.0   \n",
       "1                  1.0           1.0           2.0           3.0   \n",
       "2                  1.0           1.0           2.0           1.0   \n",
       "3                  1.0           1.0           2.0           1.0   \n",
       "4                  2.0           2.0           2.0           1.0   \n",
       "\n",
       "Col_name  imiss_e_2017  imiss_f_2017  imiss_g_2017  imiss_h_2017  \\\n",
       "0                  1.0           2.0           1.0           1.0   \n",
       "1                  1.0           1.0           4.0           3.0   \n",
       "2                  3.0           1.0           2.0           1.0   \n",
       "3                  1.0           1.0           3.0           1.0   \n",
       "4                  4.0           2.0           1.0           1.0   \n",
       "\n",
       "Col_name  imiss_i_2017  imiss_j_2017  ...  imiss_g_baseline  imiss_h_baseline  \\\n",
       "0                  2.0           1.0  ...               1.0               1.0   \n",
       "1                  3.0           1.0  ...               2.0               3.0   \n",
       "2                  3.0           1.0  ...               4.0               2.0   \n",
       "3                  2.0           1.0  ...               3.0               1.0   \n",
       "4                  1.0           1.0  ...               1.0               1.0   \n",
       "\n",
       "Col_name  imiss_j_baseline  imiss_m_baseline  imiss_p_baseline  \\\n",
       "0                      1.0               1.0               1.0   \n",
       "1                      1.0               2.0               1.0   \n",
       "2                      1.0               1.0               2.0   \n",
       "3                      1.0               2.0               1.0   \n",
       "4                      1.0               1.0               3.0   \n",
       "\n",
       "Col_name  imiss_q_baseline  imiss_r_baseline  imiss_s_baseline  \\\n",
       "0                      1.0               1.0               1.0   \n",
       "1                      1.0               1.0               1.0   \n",
       "2                      3.0               1.0               1.0   \n",
       "3                      1.0               2.0               2.0   \n",
       "4                      1.0               2.0               1.0   \n",
       "\n",
       "Col_name  imiss_t_baseline  imissf_baseline  \n",
       "0                      3.0              8.0  \n",
       "1                      1.0              2.0  \n",
       "2                      4.0              2.0  \n",
       "3                      2.0              2.0  \n",
       "4                      1.0              4.0  \n",
       "\n",
       "[5 rows x 61 columns]"
      ]
     },
     "execution_count": 5,
     "metadata": {},
     "output_type": "execute_result"
    }
   ],
   "source": [
    "X = get_slice(\"IssueImportance\",3)\n",
    "print(len(X.columns))\n",
    "X.head()"
   ]
  },
  {
   "cell_type": "code",
   "execution_count": 6,
   "metadata": {},
   "outputs": [],
   "source": [
    "mca_ben = MCA(X)#Which do I use?\n",
    "mca_ind = MCA(X, benzecri=False)\n",
    "mca_ = mca_ind"
   ]
  },
  {
   "cell_type": "code",
   "execution_count": 7,
   "metadata": {},
   "outputs": [
    {
     "data": {
      "text/plain": [
       "array([0.16946019, 0.1624013 ])"
      ]
     },
     "execution_count": 7,
     "metadata": {},
     "output_type": "execute_result"
    }
   ],
   "source": [
    "mca_.expl_var(greenacre=False, N=2)#Which do I use?"
   ]
  },
  {
   "cell_type": "code",
   "execution_count": 8,
   "metadata": {},
   "outputs": [],
   "source": [
    "newpoints = mca_.fs_r(N=2)"
   ]
  },
  {
   "cell_type": "code",
   "execution_count": 31,
   "metadata": {},
   "outputs": [
    {
     "data": {
      "image/png": "[encoded data removed]",
      "text/plain": [
       "<Figure size 432x288 with 1 Axes>"
      ]
     },
     "metadata": {
      "needs_background": "light"
     },
     "output_type": "display_data"
    }
   ],
   "source": [
    "from sklearn.cluster import KMeans\n",
    "Ks = range(2,11)\n",
    "inertias = []\n",
    "\n",
    "for K in Ks:\n",
    "    kmeans = KMeans(n_clusters=K).fit(X)\n",
    "    inertias.append(kmeans.inertia_)\n",
    "    \n",
    "plt.plot(Ks, inertias)\n",
    "plt.title(\"Elbow Method Examination\")\n",
    "plt.xlabel(\"K\")\n",
    "plt.ylabel(\"SS\")\n",
    "plt.show()"
   ]
  },
  {
   "cell_type": "code",
   "execution_count": 37,
   "metadata": {
    "scrolled": true
   },
   "outputs": [
    {
     "data": {
      "text/plain": [
       "<matplotlib.axes._subplots.AxesSubplot at 0x4316ebb0>"
      ]
     },
     "execution_count": 37,
     "metadata": {},
     "output_type": "execute_result"
    },
    {
     "data": {
      "image/png": "[encoded data removed]",
      "text/plain": [
       "<Figure size 432x288 with 1 Axes>"
      ]
     },
     "metadata": {
      "needs_background": "light"
     },
     "output_type": "display_data"
    }
   ],
   "source": [
    "bestK = 5\n",
    "kmeans = KMeans(n_clusters=bestK).fit(X)\n",
    "sns.scatterplot(x=newpoints[:,0], y=newpoints[:,1], hue=kmeans.labels_, palette=\"inferno\")"
   ]
  },
  {
   "cell_type": "code",
   "execution_count": 38,
   "metadata": {},
   "outputs": [
    {
     "name": "stdout",
     "output_type": "stream",
     "text": [
      "[0 1 2 3 4] [  82  120 4272   55  112]\n"
     ]
    },
    {
     "data": {
      "text/plain": [
       "<matplotlib.axes._subplots.AxesSubplot at 0x435ea170>"
      ]
     },
     "execution_count": 38,
     "metadata": {},
     "output_type": "execute_result"
    },
    {
     "data": {
      "image/png": "[encoded data removed]",
      "text/plain": [
       "<Figure size 432x288 with 1 Axes>"
      ]
     },
     "metadata": {
      "needs_background": "light"
     },
     "output_type": "display_data"
    }
   ],
   "source": [
    "labels, counts = np.unique(kmeans.labels_, return_counts=True)\n",
    "print(labels, counts)\n",
    "sns.barplot(labels, counts, palette=\"inferno\")"
   ]
  },
  {
   "cell_type": "code",
   "execution_count": 46,
   "metadata": {},
   "outputs": [
    {
     "data": {
      "text/plain": [
       "<matplotlib.axes._subplots.AxesSubplot at 0x4474bb50>"
      ]
     },
     "execution_count": 46,
     "metadata": {},
     "output_type": "execute_result"
    },
    {
     "data": {
      "image/png": "[encoded data removed]",
      "text/plain": [
       "<Figure size 432x288 with 1 Axes>"
      ]
     },
     "metadata": {
      "needs_background": "light"
     },
     "output_type": "display_data"
    }
   ],
   "source": [
    "from sklearn.cluster import DBSCAN\n",
    "\n",
    "DBSCAN_labels = DBSCAN(1).fit_predict(X)\n",
    "sns.scatterplot(x=newpoints[:,0], y=newpoints[:,1], hue=DBSCAN_labels, palette=\"inferno\")"
   ]
  },
  {
   "cell_type": "code",
   "execution_count": 45,
   "metadata": {},
   "outputs": [
    {
     "data": {
      "text/plain": [
       "<matplotlib.axes._subplots.AxesSubplot at 0x446d2190>"
      ]
     },
     "execution_count": 45,
     "metadata": {},
     "output_type": "execute_result"
    },
    {
     "data": {
      "image/png": "[encoded data removed]",
      "text/plain": [
       "<Figure size 432x288 with 1 Axes>"
      ]
     },
     "metadata": {
      "needs_background": "light"
     },
     "output_type": "display_data"
    }
   ],
   "source": [
    "labels, counts = np.unique(DBSCAN_labels, return_counts=True)\n",
    "sns.barplot(labels, counts, palette=\"inferno\")"
   ]
  },
  {
   "cell_type": "markdown",
   "metadata": {},
   "source": [
    "ValueError: Colormap colorblind is not recognized. Possible values are: Accent, Accent_r, Blues, Blues_r, BrBG, BrBG_r, BuGn, BuGn_r, BuPu, BuPu_r, CMRmap, CMRmap_r, Dark2, Dark2_r, GnBu, GnBu_r, Greens, Greens_r, Greys, Greys_r, OrRd, OrRd_r, Oranges, Oranges_r, PRGn, PRGn_r, Paired, Paired_r, Pastel1, Pastel1_r, Pastel2, Pastel2_r, PiYG, PiYG_r, PuBu, PuBuGn, PuBuGn_r, PuBu_r, PuOr, PuOr_r, PuRd, PuRd_r, Purples, Purples_r, RdBu, RdBu_r, RdGy, RdGy_r, RdPu, RdPu_r, RdYlBu, RdYlBu_r, RdYlGn, RdYlGn_r, Reds, Reds_r, Set1, Set1_r, Set2, Set2_r, Set3, Set3_r, Spectral, Spectral_r, Wistia, Wistia_r, YlGn, YlGnBu, YlGnBu_r, YlGn_r, YlOrBr, YlOrBr_r, YlOrRd, YlOrRd_r, afmhot, afmhot_r, autumn, autumn_r, binary, binary_r, bone, bone_r, brg, brg_r, bwr, bwr_r, cividis, cividis_r, cool, cool_r, coolwarm, coolwarm_r, copper, copper_r, cubehelix, cubehelix_r, flag, flag_r, gist_earth, gist_earth_r, gist_gray, gist_gray_r, gist_heat, gist_heat_r, gist_ncar, gist_ncar_r, gist_rainbow, gist_rainbow_r, gist_stern, gist_stern_r, gist_yarg, gist_yarg_r, gnuplot, gnuplot2, gnuplot2_r, gnuplot_r, gray, gray_r, hot, hot_r, hsv, hsv_r, icefire, icefire_r, inferno, inferno_r, jet, jet_r, magma, magma_r, mako, mako_r, nipy_spectral, nipy_spectral_r, ocean, ocean_r, pink, pink_r, plasma, plasma_r, prism, prism_r, rainbow, rainbow_r, rocket, rocket_r, seismic, seismic_r, spring, spring_r, summer, summer_r, tab10, tab10_r, tab20, tab20_r, tab20b, tab20b_r, tab20c, tab20c_r, terrain, terrain_r, twilight, twilight_r, twilight_shifted, twilight_shifted_r, viridis, viridis_r, vlag, vlag_r, winter, winter_r"
   ]
  },
  {
   "cell_type": "code",
   "execution_count": null,
   "metadata": {},
   "outputs": [],
   "source": []
  }
 ],
 "metadata": {
  "kernelspec": {
   "display_name": "Python 3",
   "language": "python",
   "name": "python3"
  },
  "language_info": {
   "codemirror_mode": {
    "name": "ipython",
    "version": 3
   },
   "file_extension": ".py",
   "mimetype": "text/x-python",
   "name": "python",
   "nbconvert_exporter": "python",
   "pygments_lexer": "ipython3",
   "version": "3.7.3"
  }
 },
 "nbformat": 4,
 "nbformat_minor": 2
}
