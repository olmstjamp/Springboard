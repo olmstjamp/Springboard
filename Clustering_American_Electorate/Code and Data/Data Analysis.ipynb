{
 "cells": [
  {
   "cell_type": "code",
   "execution_count": 1,
   "metadata": {},
   "outputs": [],
   "source": [
    "import pandas as pd\n",
    "from matplotlib import pyplot as plt\n",
    "import numpy as np\n",
    "from scipy import stats as ss\n",
    "import seaborn as sns\n",
    "from matplotlib.colors import LinearSegmentedColormap\n",
    "import warnings\n",
    "warnings.filterwarnings(action='once')\n",
    "%matplotlib inline"
   ]
  },
  {
   "cell_type": "code",
   "execution_count": 2,
   "metadata": {},
   "outputs": [],
   "source": [
    "data = pd.read_csv(\"CleanedData.csv\", header=[0,1,2,3], index_col=0)"
   ]
  },
  {
   "cell_type": "code",
   "execution_count": 3,
   "metadata": {},
   "outputs": [],
   "source": [
    "get_slice = lambda name, level: data.loc[:,data.columns.get_level_values(level)==name].droplevel(level=[1,2,3],axis=1)"
   ]
  },
  {
   "cell_type": "code",
   "execution_count": null,
   "metadata": {},
   "outputs": [],
   "source": [
    "#Calculates the Cramer's V for 2 named columns in the survey dataset\n",
    "#and is based off the code block from the article in the 2nd link above.\n",
    "\n",
    "def cramers_v(xname, yname):\n",
    "    x = np.array(data.loc[:,data.columns.get_level_values(0)==xname]).ravel()\n",
    "    y = np.array(data.loc[:,data.columns.get_level_values(0)==yname]).ravel()\n",
    "    confusion_matrix = pd.crosstab(x,y)\n",
    "    chi2 = ss.chi2_contingency(confusion_matrix)[0]\n",
    "    n = confusion_matrix.sum().sum()\n",
    "    phi2 = chi2/n\n",
    "    r,k = confusion_matrix.shape\n",
    "    phi2corr = max(0, phi2-((k-1)*(r-1))/(n-1))\n",
    "    rcorr = r-((r-1)**2)/(n-1)\n",
    "    kcorr = k-((k-1)**2)/(n-1)\n",
    "    return np.round(np.sqrt(phi2corr/min((kcorr-1),(rcorr-1))),2)"
   ]
  },
  {
   "cell_type": "code",
   "execution_count": null,
   "metadata": {},
   "outputs": [],
   "source": [
    "def chi2_test(xname, yname):\n",
    "    x = np.array(data.loc[:,data.columns.get_level_values(0)==xname]).ravel()\n",
    "    y = np.array(data.loc[:,data.columns.get_level_values(0)==yname]).ravel()\n",
    "    confusion_matrix = pd.crosstab(x,y)\n",
    "    chi2 = ss.chi2_contingency(confusion_matrix)\n",
    "    val, p = chi2[0], chi2[1]\n",
    "    \n",
    "    return np.round(p,4)*100"
   ]
  },
  {
   "cell_type": "code",
   "execution_count": null,
   "metadata": {},
   "outputs": [],
   "source": [
    "def get_mat(func, mat_slice,plot,title=\"\",names=[], show_sig=False):\n",
    "    corr = mat_slice.corr()\n",
    "    \n",
    "    for r in mat_slice.columns:\n",
    "        for c in mat_slice.columns:\n",
    "            corr.loc[r,c] = func(r,c)\n",
    "            \n",
    "    if plot==False: return corr\n",
    "    \n",
    "    fsize = max(5,corr.shape[0]-6)\n",
    "    plt.figure(figsize = (fsize,fsize))\n",
    "\n",
    "    ax = sns.heatmap(corr, cmap=\"hot\", annot=True, xticklabels=names, yticklabels=names)\n",
    "    plt.title(title)\n",
    "    plt.xlabel(\"\")\n",
    "    plt.ylabel(\"\")\n",
    "    plt.show()"
   ]
  },
  {
   "cell_type": "code",
   "execution_count": null,
   "metadata": {},
   "outputs": [],
   "source": [
    "slice_example = get_slice(\"PolIden\",3).loc[:,\"selfdescr_ccap_1_baseline\":\"selfdescr_ccap_99_baseline\"]\n",
    "translations = [\"Libertarian\", \"Socialist\", \"Green\", \"Environmentalist\", \"Liberal\", \"Moderate\", \"Conservative\",\\\n",
    "                         \"Radical\", \"Progressive\", \"Traditional\", \"Christian\", \"Feminist\", \"Fundamentalist\", \"None\"]"
   ]
  },
  {
   "cell_type": "code",
   "execution_count": null,
   "metadata": {},
   "outputs": [],
   "source": [
    "get_mat(cramers_v, slice_example, plot=True, title=\"Association (Cramer's V)\", names=translations)"
   ]
  },
  {
   "cell_type": "code",
   "execution_count": null,
   "metadata": {
    "scrolled": false
   },
   "outputs": [],
   "source": [
    "get_mat(chi2_test, slice_example, plot=True, title=\"Test of Indenpendence P-value %\", names=translations)"
   ]
  },
  {
   "cell_type": "code",
   "execution_count": null,
   "metadata": {},
   "outputs": [],
   "source": [
    "slice2 = get_slice(\"Pol_Approval\",3).loc[:,\"fav_trump_2018\":\"fav_mcconnell_2018\"]"
   ]
  },
  {
   "cell_type": "code",
   "execution_count": null,
   "metadata": {},
   "outputs": [],
   "source": [
    "print(slice2.columns)"
   ]
  },
  {
   "cell_type": "code",
   "execution_count": null,
   "metadata": {},
   "outputs": [],
   "source": []
  }
 ],
 "metadata": {
  "kernelspec": {
   "display_name": "Python 3",
   "language": "python",
   "name": "python3"
  },
  "language_info": {
   "codemirror_mode": {
    "name": "ipython",
    "version": 3
   },
   "file_extension": ".py",
   "mimetype": "text/x-python",
   "name": "python",
   "nbconvert_exporter": "python",
   "pygments_lexer": "ipython3",
   "version": "3.7.3"
  }
 },
 "nbformat": 4,
 "nbformat_minor": 2
}
