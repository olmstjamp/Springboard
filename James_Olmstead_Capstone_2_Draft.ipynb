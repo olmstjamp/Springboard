{
  "nbformat": 4,
  "nbformat_minor": 0,
  "metadata": {
    "colab": {
      "name": "James Olmstead Capstone 2 Draft",
      "provenance": [],
      "collapsed_sections": [
        "OA8BhpymdGko",
        "gJSQc8GOdUMW",
        "EO8y8BAHHpjL",
        "AN8ViLqW_LLV",
        "LFMNLLrgEQaf",
        "DPXn3Jfj_lvU",
        "oUypXRligo6-",
        "w9Izdu1XJdjH",
        "G-ZeBeobrIsd",
        "_uyCnLXurMtw",
        "-Iu1ppdmrW5O",
        "r3Keccvs_6s-",
        "8BydXg_yzz9e",
        "nZzSWZEbAN6N",
        "v_ulAD4xJ9pG",
        "fDlMptZJnHad",
        "NPR7sP3Uonvq"
      ],
      "include_colab_link": true
    },
    "kernelspec": {
      "display_name": "Python 3",
      "name": "python3"
    }
  },
  "cells": [
    {
      "cell_type": "markdown",
      "metadata": {
        "id": "view-in-github",
        "colab_type": "text"
      },
      "source": [
        "<a href=\"https://colab.research.google.com/github/olmstjamp/Springboard/blob/master/James_Olmstead_Capstone_2_Draft.ipynb\" target=\"_parent\"><img src=\"https://colab.research.google.com/assets/colab-badge.svg\" alt=\"Open In Colab\"/></a>"
      ]
    },
    {
      "cell_type": "markdown",
      "metadata": {
        "id": "Slp29QGo-FP4"
      },
      "source": [
        "# **Capstone Project 2: Fake News Classifier**\n",
        "By James Olmstead"
      ]
    },
    {
      "cell_type": "markdown",
      "metadata": {
        "id": "OA8BhpymdGko"
      },
      "source": [
        "##Introduction"
      ]
    },
    {
      "cell_type": "markdown",
      "metadata": {
        "id": "wtStRmknPWB-"
      },
      "source": [
        "For my second capstone project, I wanted to utilize a different field of machine learning from my first. To this end, I decided to utilize the natural language toolkit (nltk) library in python to create a fake news classifier. The problem of fake news is quite relevant with the proliferation of social media and with the onslaught of news from a wide range of reputable or not reputable sources. Having a fake news classifier can help social media platforms or other entities flag potentially questionable news stories and either prevent its distribution or warn viewers of its falsity. "
      ]
    },
    {
      "cell_type": "markdown",
      "metadata": {
        "id": "stODcW4I-pil"
      },
      "source": [
        "### Importing Libraries"
      ]
    },
    {
      "cell_type": "code",
      "metadata": {
        "colab": {
          "base_uri": "https://localhost:8080/"
        },
        "id": "drD6komxNLE6",
        "outputId": "cb8217d5-931b-4445-d9ee-27800882573a"
      },
      "source": [
        "import csv\n",
        "import nltk\n",
        "import numpy as np\n",
        "import re\n",
        "import pandas as pd\n",
        "import seaborn as sns\n",
        "from matplotlib import pyplot as plt\n",
        "\n",
        "import warnings\n",
        "warnings.filterwarnings('ignore')\n",
        "\n",
        "from nltk.corpus import stopwords\n",
        "from nltk.tokenize import word_tokenize \n",
        "from nltk.stem import PorterStemmer\n",
        "\n",
        "nltk.download('stopwords')\n",
        "nltk.download('punkt')\n",
        "\n",
        "from sklearn.naive_bayes import MultinomialNB\n",
        "from sklearn.pipeline import make_pipeline, Pipeline\n",
        "from sklearn.feature_extraction.text import TfidfVectorizer\n",
        "from sklearn.feature_selection import chi2\n",
        "from sklearn.metrics import f1_score, precision_recall_fscore_support, make_scorer, confusion_matrix, ConfusionMatrixDisplay\n",
        "from sklearn.model_selection import GridSearchCV, train_test_split"
      ],
      "execution_count": 1,
      "outputs": [
        {
          "output_type": "stream",
          "text": [
            "[nltk_data] Downloading package stopwords to /root/nltk_data...\n",
            "[nltk_data]   Unzipping corpora/stopwords.zip.\n",
            "[nltk_data] Downloading package punkt to /root/nltk_data...\n",
            "[nltk_data]   Unzipping tokenizers/punkt.zip.\n"
          ],
          "name": "stdout"
        }
      ]
    },
    {
      "cell_type": "markdown",
      "metadata": {
        "id": "gJSQc8GOdUMW"
      },
      "source": [
        "## Data"
      ]
    },
    {
      "cell_type": "markdown",
      "metadata": {
        "id": "D79zV7OUdbKF"
      },
      "source": [
        "###Data Description"
      ]
    },
    {
      "cell_type": "markdown",
      "metadata": {
        "id": "WjEiQMzIblRs"
      },
      "source": [
        "The data I use comes from a Kaggle competition. There are 3 raw data sets that come from Kaggle that I’ll be using, with descriptions below directly from the website:"
      ]
    },
    {
      "cell_type": "markdown",
      "metadata": {
        "id": "QVqcStoDRbof"
      },
      "source": [
        "https://www.kaggle.com/c/fakenewskdd2020/overview"
      ]
    },
    {
      "cell_type": "markdown",
      "metadata": {
        "id": "q-WCIvcyHlKe"
      },
      "source": [
        "\n",
        "\n",
        "train.csv: A full training dataset with the following attributes:\n",
        "\n",
        "*   text: text of the article\n",
        "*   label: a label that marks the article as potentially unreliable\n",
        "\n",
        "    *   1: fake\n",
        "    *   0: true"
      ]
    },
    {
      "cell_type": "markdown",
      "metadata": {
        "id": "Dej7FMiqb6XM"
      },
      "source": [
        "test.csv: A test dataset with the following attributes:\n",
        "\n",
        "*   id: the id of the article text\n",
        "*   text: text of the article"
      ]
    },
    {
      "cell_type": "markdown",
      "metadata": {
        "id": "ReTvQ4fHb61C"
      },
      "source": [
        "sample_submission.csv: A sample submission with the following attributes.\n",
        "\n",
        "*   id: the id of the article text from the test data\n",
        "*   label: a label that marks the article as potentially unreliable  \n",
        "\n",
        "    *   1: fake\n",
        "    *   0: true\n"
      ]
    },
    {
      "cell_type": "markdown",
      "metadata": {
        "id": "srgYAozucID0"
      },
      "source": [
        "Note that the test.csv file doesn’t have labels. Since this was a Kaggle competition, I’ll measure my performance of my label predictions of the test set by submitting it to the website in the format demonstrated in sample_submission.csv. Then it will grade the percentage of labels I predicted correctly.  I can also compare my performance to the leaderboard to get a gage on how well I do in predicting the labels. "
      ]
    },
    {
      "cell_type": "markdown",
      "metadata": {
        "id": "EO8y8BAHHpjL"
      },
      "source": [
        "###Data Import"
      ]
    },
    {
      "cell_type": "code",
      "metadata": {
        "id": "Bfw6Kp9fNTJT"
      },
      "source": [
        "#Read in the training data\n",
        "texts_list = []\n",
        "labels_list = []\n",
        "with open('train.csv', \"r\", encoding='utf-8') as csv_file:\n",
        "    file = csv.reader(csv_file)\n",
        "    header = next(file)\n",
        "    if header != None:\n",
        "        \n",
        "        for row in file:\n",
        "            text = ','.join(row)\n",
        "            texts_list.append(text[:-2])\n",
        "            labels_list.append(text[-1:])\n",
        "            \n",
        "train_data = pd.DataFrame({'text': texts_list, 'label': labels_list})"
      ],
      "execution_count": 2,
      "outputs": []
    },
    {
      "cell_type": "markdown",
      "metadata": {
        "id": "xJsMt7oZdvoy"
      },
      "source": [
        "While I had no issues importing the training data, the test data proved more difficult. The raw test.csv file initially had all of the articles separated into different cells every time there was a comma, causing some headaches with how it was being read into the notebook. To avoid this I just converted the file from a .csv to a .txt file.This allowed me to read it neatly without needing to worry about all the commas. "
      ]
    },
    {
      "cell_type": "code",
      "metadata": {
        "id": "id9XuOx7Ocdl"
      },
      "source": [
        "#Reading in the test data\n",
        "IDs_list = []\n",
        "texts_list = []\n",
        "with open('test.txt', \"r\", encoding='utf-8') as file:\n",
        "    header = next(file)\n",
        "\n",
        "    if header != None:\n",
        "        \n",
        "        for row in file.readlines():\n",
        "            text = ''.join(row)\n",
        "\n",
        "            \n",
        "            splitted = text.split(\"\\t\",1)\n",
        "            IDs_list.append(int(splitted[0]))\n",
        "            texts_list.append(splitted[1])\n",
        "\n",
        "test_data = pd.DataFrame({'id': IDs_list, 'text': texts_list})"
      ],
      "execution_count": 3,
      "outputs": []
    },
    {
      "cell_type": "markdown",
      "metadata": {
        "id": "FThHEtLXfoRe"
      },
      "source": [
        "Here is what the data looks like once it is read in. By looking over the data quickly it mostly seemed to be celebrity gossip with some political and entertainment news sprinkled in. "
      ]
    },
    {
      "cell_type": "code",
      "metadata": {
        "colab": {
          "base_uri": "https://localhost:8080/",
          "height": 402
        },
        "id": "ZoyvCS4Pf0b0",
        "outputId": "b01caf4a-3fc3-40bc-f432-906cb3f3329f"
      },
      "source": [
        "train_data"
      ],
      "execution_count": 4,
      "outputs": [
        {
          "output_type": "execute_result",
          "data": {
            "text/html": [
              "<div>\n",
              "<style scoped>\n",
              "    .dataframe tbody tr th:only-of-type {\n",
              "        vertical-align: middle;\n",
              "    }\n",
              "\n",
              "    .dataframe tbody tr th {\n",
              "        vertical-align: top;\n",
              "    }\n",
              "\n",
              "    .dataframe thead th {\n",
              "        text-align: right;\n",
              "    }\n",
              "</style>\n",
              "<table border=\"1\" class=\"dataframe\">\n",
              "  <thead>\n",
              "    <tr style=\"text-align: right;\">\n",
              "      <th></th>\n",
              "      <th>text</th>\n",
              "      <th>label</th>\n",
              "    </tr>\n",
              "  </thead>\n",
              "  <tbody>\n",
              "    <tr>\n",
              "      <th>0</th>\n",
              "      <td>Get the latest from TODAY Sign up for our news...</td>\n",
              "      <td>1</td>\n",
              "    </tr>\n",
              "    <tr>\n",
              "      <th>1</th>\n",
              "      <td>2d  Conan On The Funeral Trump Will Be Invited...</td>\n",
              "      <td>1</td>\n",
              "    </tr>\n",
              "    <tr>\n",
              "      <th>2</th>\n",
              "      <td>It’s safe to say that Instagram Stories has fa...</td>\n",
              "      <td>0</td>\n",
              "    </tr>\n",
              "    <tr>\n",
              "      <th>3</th>\n",
              "      <td>Much like a certain Amazon goddess with a lass...</td>\n",
              "      <td>0</td>\n",
              "    </tr>\n",
              "    <tr>\n",
              "      <th>4</th>\n",
              "      <td>At a time when the perfect outfit is just one ...</td>\n",
              "      <td>0</td>\n",
              "    </tr>\n",
              "    <tr>\n",
              "      <th>...</th>\n",
              "      <td>...</td>\n",
              "      <td>...</td>\n",
              "    </tr>\n",
              "    <tr>\n",
              "      <th>4332</th>\n",
              "      <td>The storybook romance of WWE stars John Cena a...</td>\n",
              "      <td>0</td>\n",
              "    </tr>\n",
              "    <tr>\n",
              "      <th>4333</th>\n",
              "      <td>The actor told friends he’s responsible for en...</td>\n",
              "      <td>0</td>\n",
              "    </tr>\n",
              "    <tr>\n",
              "      <th>4334</th>\n",
              "      <td>Sarah Hyland is getting real.  The Modern Fami...</td>\n",
              "      <td>0</td>\n",
              "    </tr>\n",
              "    <tr>\n",
              "      <th>4335</th>\n",
              "      <td>Production has been suspended on the sixth and...</td>\n",
              "      <td>0</td>\n",
              "    </tr>\n",
              "    <tr>\n",
              "      <th>4336</th>\n",
              "      <td>A jury ruled against Bill Cosby in his sexual ...</td>\n",
              "      <td>0</td>\n",
              "    </tr>\n",
              "  </tbody>\n",
              "</table>\n",
              "<p>4337 rows × 2 columns</p>\n",
              "</div>"
            ],
            "text/plain": [
              "                                                   text label\n",
              "0     Get the latest from TODAY Sign up for our news...     1\n",
              "1     2d  Conan On The Funeral Trump Will Be Invited...     1\n",
              "2     It’s safe to say that Instagram Stories has fa...     0\n",
              "3     Much like a certain Amazon goddess with a lass...     0\n",
              "4     At a time when the perfect outfit is just one ...     0\n",
              "...                                                 ...   ...\n",
              "4332  The storybook romance of WWE stars John Cena a...     0\n",
              "4333  The actor told friends he’s responsible for en...     0\n",
              "4334  Sarah Hyland is getting real.  The Modern Fami...     0\n",
              "4335  Production has been suspended on the sixth and...     0\n",
              "4336  A jury ruled against Bill Cosby in his sexual ...     0\n",
              "\n",
              "[4337 rows x 2 columns]"
            ]
          },
          "metadata": {
            "tags": []
          },
          "execution_count": 4
        }
      ]
    },
    {
      "cell_type": "code",
      "metadata": {
        "colab": {
          "base_uri": "https://localhost:8080/",
          "height": 402
        },
        "id": "nBr-J3BagCTp",
        "outputId": "b7000d76-3e0c-45ab-8119-8a4d6180f045"
      },
      "source": [
        "test_data"
      ],
      "execution_count": 5,
      "outputs": [
        {
          "output_type": "execute_result",
          "data": {
            "text/html": [
              "<div>\n",
              "<style scoped>\n",
              "    .dataframe tbody tr th:only-of-type {\n",
              "        vertical-align: middle;\n",
              "    }\n",
              "\n",
              "    .dataframe tbody tr th {\n",
              "        vertical-align: top;\n",
              "    }\n",
              "\n",
              "    .dataframe thead th {\n",
              "        text-align: right;\n",
              "    }\n",
              "</style>\n",
              "<table border=\"1\" class=\"dataframe\">\n",
              "  <thead>\n",
              "    <tr style=\"text-align: right;\">\n",
              "      <th></th>\n",
              "      <th>id</th>\n",
              "      <th>text</th>\n",
              "    </tr>\n",
              "  </thead>\n",
              "  <tbody>\n",
              "    <tr>\n",
              "      <th>0</th>\n",
              "      <td>2</td>\n",
              "      <td>The 2017 Teen Choice Awards ceremony was held ...</td>\n",
              "    </tr>\n",
              "    <tr>\n",
              "      <th>1</th>\n",
              "      <td>3</td>\n",
              "      <td>The concert, part of “The Joshua Tree Tour,” w...</td>\n",
              "    </tr>\n",
              "    <tr>\n",
              "      <th>2</th>\n",
              "      <td>4</td>\n",
              "      <td>Selena Gomez refuses to talk to her mother abo...</td>\n",
              "    </tr>\n",
              "    <tr>\n",
              "      <th>3</th>\n",
              "      <td>5</td>\n",
              "      <td>This is worse than a lump of coal in your stoc...</td>\n",
              "    </tr>\n",
              "    <tr>\n",
              "      <th>4</th>\n",
              "      <td>6</td>\n",
              "      <td>Luann De Lesseps is going to rehab after her a...</td>\n",
              "    </tr>\n",
              "    <tr>\n",
              "      <th>...</th>\n",
              "      <td>...</td>\n",
              "      <td>...</td>\n",
              "    </tr>\n",
              "    <tr>\n",
              "      <th>1242</th>\n",
              "      <td>1244</td>\n",
              "      <td>Get the latest from TODAY Sign up for our news...</td>\n",
              "    </tr>\n",
              "    <tr>\n",
              "      <th>1243</th>\n",
              "      <td>1245</td>\n",
              "      <td>Jaden Smith claims that the Four Seasons Hotel...</td>\n",
              "    </tr>\n",
              "    <tr>\n",
              "      <th>1244</th>\n",
              "      <td>1246</td>\n",
              "      <td>Overview (3)  Mini Bio (1)  Faith Hill was bor...</td>\n",
              "    </tr>\n",
              "    <tr>\n",
              "      <th>1245</th>\n",
              "      <td>1247</td>\n",
              "      <td>CLOSE Aaron Paul dishes on 'The Path'  Aaron P...</td>\n",
              "    </tr>\n",
              "    <tr>\n",
              "      <th>1246</th>\n",
              "      <td>1248</td>\n",
              "      <td>Meghan Edmonds was showered with love at her b...</td>\n",
              "    </tr>\n",
              "  </tbody>\n",
              "</table>\n",
              "<p>1247 rows × 2 columns</p>\n",
              "</div>"
            ],
            "text/plain": [
              "        id                                               text\n",
              "0        2  The 2017 Teen Choice Awards ceremony was held ...\n",
              "1        3  The concert, part of “The Joshua Tree Tour,” w...\n",
              "2        4  Selena Gomez refuses to talk to her mother abo...\n",
              "3        5  This is worse than a lump of coal in your stoc...\n",
              "4        6  Luann De Lesseps is going to rehab after her a...\n",
              "...    ...                                                ...\n",
              "1242  1244  Get the latest from TODAY Sign up for our news...\n",
              "1243  1245  Jaden Smith claims that the Four Seasons Hotel...\n",
              "1244  1246  Overview (3)  Mini Bio (1)  Faith Hill was bor...\n",
              "1245  1247  CLOSE Aaron Paul dishes on 'The Path'  Aaron P...\n",
              "1246  1248  Meghan Edmonds was showered with love at her b...\n",
              "\n",
              "[1247 rows x 2 columns]"
            ]
          },
          "metadata": {
            "tags": []
          },
          "execution_count": 5
        }
      ]
    },
    {
      "cell_type": "markdown",
      "metadata": {
        "id": "AN8ViLqW_LLV"
      },
      "source": [
        "### Data Cleaning"
      ]
    },
    {
      "cell_type": "markdown",
      "metadata": {
        "id": "7foSqCtreRSP"
      },
      "source": [
        "Since this data was pre-made for the competition, the amount of cleaning I needed to do was minimal. The only real snag was I found that one of the labels in the train data were labeled as the letter “l” instead of the number “1”, so I changed that."
      ]
    },
    {
      "cell_type": "code",
      "metadata": {
        "colab": {
          "base_uri": "https://localhost:8080/"
        },
        "id": "Ui_eEchcNYMB",
        "outputId": "f4d46e06-c8a8-4f9f-f470-2cccb681f784"
      },
      "source": [
        "train_data['label'].value_counts()"
      ],
      "execution_count": 6,
      "outputs": [
        {
          "output_type": "execute_result",
          "data": {
            "text/plain": [
              "0    2588\n",
              "1    1748\n",
              "l       1\n",
              "Name: label, dtype: int64"
            ]
          },
          "metadata": {
            "tags": []
          },
          "execution_count": 6
        }
      ]
    },
    {
      "cell_type": "code",
      "metadata": {
        "id": "QjTMGwWtSpQA"
      },
      "source": [
        "train_data[\"label\"].replace(\"l\",\"1\", inplace=True)"
      ],
      "execution_count": 7,
      "outputs": []
    },
    {
      "cell_type": "code",
      "metadata": {
        "colab": {
          "base_uri": "https://localhost:8080/"
        },
        "id": "7d-tRQO_TSZB",
        "outputId": "97cd1291-1d4f-41a1-fd5d-d34a5ad5bf4a"
      },
      "source": [
        "train_data['label'].value_counts()"
      ],
      "execution_count": 8,
      "outputs": [
        {
          "output_type": "execute_result",
          "data": {
            "text/plain": [
              "0    2588\n",
              "1    1749\n",
              "Name: label, dtype: int64"
            ]
          },
          "metadata": {
            "tags": []
          },
          "execution_count": 8
        }
      ]
    },
    {
      "cell_type": "markdown",
      "metadata": {
        "id": "3auIaWWAecc_"
      },
      "source": [
        "Then I changed the labels from “0” to “Real” and “1” to “Fake” to give the labels a more intuitive meaning."
      ]
    },
    {
      "cell_type": "code",
      "metadata": {
        "id": "MKp7p4KIs9K6"
      },
      "source": [
        "train_data[\"label\"].replace(\"1\",\"Fake\", inplace=True)\n",
        "train_data[\"label\"].replace(\"0\",\"Real\", inplace=True)"
      ],
      "execution_count": 9,
      "outputs": []
    },
    {
      "cell_type": "markdown",
      "metadata": {
        "id": "G3OTMUxiHuOv"
      },
      "source": [
        "Finally, I gave the data more conventional names in machine learning."
      ]
    },
    {
      "cell_type": "code",
      "metadata": {
        "id": "cvNmpXNU6Gon"
      },
      "source": [
        "X_train = train_data['text']\n",
        "y_train = train_data['label']\n",
        "X_test = test_data['text']"
      ],
      "execution_count": 10,
      "outputs": []
    },
    {
      "cell_type": "markdown",
      "metadata": {
        "id": "LFMNLLrgEQaf"
      },
      "source": [
        "## Pre-processing"
      ]
    },
    {
      "cell_type": "markdown",
      "metadata": {
        "id": "SQGFf3NMh8Xp"
      },
      "source": [
        "The next step with the data was to break the texts down into simpler components that may otherwise clutter the algorithm. This is called pre-processing, and for this project can be broken down into 4 parts:\n",
        "1.\tConvert everything to lower-case. This way the algorithm won’t distinguish between “One” and “one”, for example.\n",
        "2.\t Remove special characters like question marks, commas, and periods. This way the algorithm won’t distinguish between “end” and “end!”, for example.\n",
        "3.\tRemove 'Stop Words', which are common words that don’t add anything really meaningful such as “the” and “of”. This helps focus the algorithm on the essential words that make up the meat of the article. The stop words I removed were from the nltk.corpus English library. \n",
        "4.\tApply a stemmer to all the words. This is a bit technical, but it essentially boils down a word to its root. An example would be “going” and “goes” being changed to “go”. There are a few ways to do this stemming, but for this project I used a Porter Stemmer.\n",
        "\n",
        "The function below performs this pre-processing on the X_train and X_test data.\n"
      ]
    },
    {
      "cell_type": "code",
      "metadata": {
        "id": "TsC5XJPBRxCF"
      },
      "source": [
        "def preprocessing(data, stop=False, stem=False):\n",
        "\n",
        "    #1. Makes the text all lower case\n",
        "    data = data.apply(lambda x: x.lower())\n",
        "\n",
        "    #2. Remove special chars\n",
        "    data = data.apply(lambda x: re.sub(\"\\\\W\",\" \",x)) \n",
        "    data_token = data.apply(lambda x: word_tokenize(x))\n",
        "\n",
        "    #3. Remove Stop Words\n",
        "    if stop:\n",
        "        set(stopwords.words('english'))\n",
        "        stop_words = set(stopwords.words('english')) \n",
        "        data_token = data_token.apply(lambda x: [y for y in x if y not in stop_words])\n",
        "\n",
        "    #4. Apply Porter Stemmer\n",
        "    if stem:\n",
        "        ps = PorterStemmer()\n",
        "        data_token = data_token.apply(lambda x: [ps.stem(y) for y in x])\n",
        "\n",
        "    data_train_ready = data_token.apply(lambda x: \" \".join(x))\n",
        "\n",
        "    return data_train_ready"
      ],
      "execution_count": 11,
      "outputs": []
    },
    {
      "cell_type": "markdown",
      "metadata": {
        "id": "ykfyKxZzjc3x"
      },
      "source": [
        "Examples before and after pre-processing. The new data sets are labeled X_train_ready and X_test_ready respectively."
      ]
    },
    {
      "cell_type": "code",
      "metadata": {
        "colab": {
          "base_uri": "https://localhost:8080/"
        },
        "id": "gRoIhu2IRTte",
        "outputId": "8ed6ed8c-3152-48f3-ad21-0dea686a0036"
      },
      "source": [
        "X_train.head()"
      ],
      "execution_count": 12,
      "outputs": [
        {
          "output_type": "execute_result",
          "data": {
            "text/plain": [
              "0    Get the latest from TODAY Sign up for our news...\n",
              "1    2d  Conan On The Funeral Trump Will Be Invited...\n",
              "2    It’s safe to say that Instagram Stories has fa...\n",
              "3    Much like a certain Amazon goddess with a lass...\n",
              "4    At a time when the perfect outfit is just one ...\n",
              "Name: text, dtype: object"
            ]
          },
          "metadata": {
            "tags": []
          },
          "execution_count": 12
        }
      ]
    },
    {
      "cell_type": "code",
      "metadata": {
        "colab": {
          "base_uri": "https://localhost:8080/"
        },
        "id": "vLRlwXRhOdUD",
        "outputId": "49cc1f06-1685-4da3-a0cc-eccb4610af23"
      },
      "source": [
        "X_train_ready = preprocessing(X_train, stop=True, stem=True)\n",
        "X_train_ready.head()"
      ],
      "execution_count": 13,
      "outputs": [
        {
          "output_type": "execute_result",
          "data": {
            "text/plain": [
              "0    get latest today sign newslett one ever truli ...\n",
              "1                  2d conan funer trump invit conan tb\n",
              "2    safe say instagram stori far surpass competito...\n",
              "3    much like certain amazon goddess lasso height ...\n",
              "4    time perfect outfit one click away high demand...\n",
              "Name: text, dtype: object"
            ]
          },
          "metadata": {
            "tags": []
          },
          "execution_count": 13
        }
      ]
    },
    {
      "cell_type": "code",
      "metadata": {
        "colab": {
          "base_uri": "https://localhost:8080/"
        },
        "id": "b8LdegGWcqFB",
        "outputId": "53876f58-f03e-4f2d-850f-ac7fec585b27"
      },
      "source": [
        "X_test.head()"
      ],
      "execution_count": 14,
      "outputs": [
        {
          "output_type": "execute_result",
          "data": {
            "text/plain": [
              "0    The 2017 Teen Choice Awards ceremony was held ...\n",
              "1    The concert, part of “The Joshua Tree Tour,” w...\n",
              "2    Selena Gomez refuses to talk to her mother abo...\n",
              "3    This is worse than a lump of coal in your stoc...\n",
              "4    Luann De Lesseps is going to rehab after her a...\n",
              "Name: text, dtype: object"
            ]
          },
          "metadata": {
            "tags": []
          },
          "execution_count": 14
        }
      ]
    },
    {
      "cell_type": "code",
      "metadata": {
        "colab": {
          "base_uri": "https://localhost:8080/"
        },
        "id": "UFyqH0taHDjj",
        "outputId": "1ef2e092-2a60-4b71-aba1-f1bfadb97d70"
      },
      "source": [
        "X_test_ready = preprocessing(X_test, True, True)\n",
        "X_test_ready.head()"
      ],
      "execution_count": 15,
      "outputs": [
        {
          "output_type": "execute_result",
          "data": {
            "text/plain": [
              "0    2017 teen choic award ceremoni held august 13 ...\n",
              "1    concert part joshua tree tour slate take place...\n",
              "2    selena gomez refus talk mother relationship ju...\n",
              "3    wors lump coal stock exclus learn brad pitt fe...\n",
              "4    luann de lessep go rehab arrest last week real...\n",
              "Name: text, dtype: object"
            ]
          },
          "metadata": {
            "tags": []
          },
          "execution_count": 15
        }
      ]
    },
    {
      "cell_type": "markdown",
      "metadata": {
        "id": "DPXn3Jfj_lvU"
      },
      "source": [
        "## Exploratory Analysis"
      ]
    },
    {
      "cell_type": "markdown",
      "metadata": {
        "id": "oUypXRligo6-"
      },
      "source": [
        "###Train/Test & Fake/Real splits"
      ]
    },
    {
      "cell_type": "markdown",
      "metadata": {
        "id": "QvcO8pQhfCbV"
      },
      "source": [
        "The first thing I wanted to look at was to see the training and test sizes and what proportion of the training set was fake and real."
      ]
    },
    {
      "cell_type": "code",
      "metadata": {
        "id": "BFgCHvftUKOM"
      },
      "source": [
        "#Creating an 'all_data' set which contains both the training and test sets\n",
        "#Only really used for the exploratory analysis\n",
        "test_copy = test_data.copy()\n",
        "test_copy[\"label\"] = \"Test\"\n",
        "all_data = train_data.append(test_copy,ignore_index=True)"
      ],
      "execution_count": 16,
      "outputs": []
    },
    {
      "cell_type": "code",
      "metadata": {
        "colab": {
          "base_uri": "https://localhost:8080/",
          "height": 0
        },
        "id": "KcUJ9ZuZTiaU",
        "outputId": "ca114b82-3622-401f-b1b1-cdd6ad3b7bbf"
      },
      "source": [
        "g = sns.countplot(all_data['label'])\n",
        "plt.title(\"Article Counts\")\n",
        "plt.xlabel(\"Label\")\n",
        "plt.show()"
      ],
      "execution_count": 17,
      "outputs": [
        {
          "output_type": "display_data",
          "data": {
            "image/png": "[encoded data removed]",
            "text/plain": [
              "<Figure size 432x288 with 1 Axes>"
            ]
          },
          "metadata": {
            "tags": [],
            "needs_background": "light"
          }
        }
      ]
    },
    {
      "cell_type": "markdown",
      "metadata": {
        "id": "YZDOZfmXgaXX"
      },
      "source": [
        "These proportions seem pretty standard for a train/test split, with the test set being about 22% of the total data. While I don’t have access to the true labels for the test data, I imagine they will be similarly proportioned to the train set (about 60-40 real-fake)."
      ]
    },
    {
      "cell_type": "markdown",
      "metadata": {
        "id": "zrRB6BKDg0zj"
      },
      "source": [
        "### Word Counts"
      ]
    },
    {
      "cell_type": "markdown",
      "metadata": {
        "id": "_cilotnOgg5L"
      },
      "source": [
        "Next, I wanted to examine the word counts of the articles to see the overall distribution of word counts, and to see if there were any meaningful differences between the training articles that were fake news, real news, and in the test set. "
      ]
    },
    {
      "cell_type": "code",
      "metadata": {
        "colab": {
          "base_uri": "https://localhost:8080/",
          "height": 372
        },
        "id": "dUJwrYC3nm4t",
        "outputId": "6944ae59-8416-49f2-9862-f753135f15b0"
      },
      "source": [
        "word_counts = pd.DataFrame(all_data[\"text\"].apply(lambda x: len(x.split(\" \")))).join(all_data.label)\n",
        "word_counts.columns = [\"Word Count\", \"Label\"]\n",
        "sns.set(rc={'figure.figsize':(9,5)})\n",
        "plt.title(\"Word Counts by Type\")\n",
        "sns.histplot(data = word_counts, x=\"Word Count\", hue=\"Label\")"
      ],
      "execution_count": 18,
      "outputs": [
        {
          "output_type": "execute_result",
          "data": {
            "text/plain": [
              "<matplotlib.axes._subplots.AxesSubplot at 0x7fc03a012550>"
            ]
          },
          "metadata": {
            "tags": []
          },
          "execution_count": 18
        },
        {
          "output_type": "display_data",
          "data": {
            "image/png": "[encoded data removed]",
            "text/plain": [
              "<Figure size 648x360 with 1 Axes>"
            ]
          },
          "metadata": {
            "tags": []
          }
        }
      ]
    },
    {
      "cell_type": "markdown",
      "metadata": {
        "id": "J-kHqEPsA35u"
      },
      "source": [
        "The only difference in the distributions between the 3 category of articles seems to be just the number of articles in each category. Therefore, it seems safe to put them all together for purposes of examining word counts."
      ]
    },
    {
      "cell_type": "code",
      "metadata": {
        "colab": {
          "base_uri": "https://localhost:8080/",
          "height": 372
        },
        "id": "LU0AvEKRUkQo",
        "outputId": "edf4108d-e41f-4ba9-8349-c7d01e299e23"
      },
      "source": [
        "sns.set(rc={'figure.figsize':(9,5)})\n",
        "plt.title(\"Word Counts (All)\")\n",
        "sns.histplot(data = word_counts, x=\"Word Count\")"
      ],
      "execution_count": 19,
      "outputs": [
        {
          "output_type": "execute_result",
          "data": {
            "text/plain": [
              "<matplotlib.axes._subplots.AxesSubplot at 0x7fc03deaf5d0>"
            ]
          },
          "metadata": {
            "tags": []
          },
          "execution_count": 19
        },
        {
          "output_type": "display_data",
          "data": {
            "image/png": "[encoded data removed]",
            "text/plain": [
              "<Figure size 648x360 with 1 Axes>"
            ]
          },
          "metadata": {
            "tags": []
          }
        }
      ]
    },
    {
      "cell_type": "markdown",
      "metadata": {
        "id": "4DAzQ4pUBVWl"
      },
      "source": [
        "According to the plot above, the bulk of the articles have less than 2500 words but have a long tail. The plots below are a zoomed-in view on the bulk on the left and a zoomed-in view on the long tail. "
      ]
    },
    {
      "cell_type": "code",
      "metadata": {
        "colab": {
          "base_uri": "https://localhost:8080/",
          "height": 372
        },
        "id": "t-6mOkOl5zAK",
        "outputId": "3b441e87-6abe-4e94-d9b6-d8557f0050ac"
      },
      "source": [
        "sns.set(rc={'figure.figsize':(18,5)})\n",
        "plt.subplot(121)\n",
        "plt.title(\"Zoom in on Articles with <2500 words\")\n",
        "sns.histplot(data = word_counts, x=\"Word Count\", binrange=(0,2500))\n",
        "plt.subplot(122)\n",
        "plt.title(\"Zoom in on Articles with >=2500 words\")\n",
        "sns.histplot(data = word_counts, x=\"Word Count\", binrange=(2500,max(word_counts[\"Word Count\"])))"
      ],
      "execution_count": 20,
      "outputs": [
        {
          "output_type": "execute_result",
          "data": {
            "text/plain": [
              "<matplotlib.axes._subplots.AxesSubplot at 0x7fc043fbef90>"
            ]
          },
          "metadata": {
            "tags": []
          },
          "execution_count": 20
        },
        {
          "output_type": "display_data",
          "data": {
            "image/png": "[encoded data removed]",
            "text/plain": [
              "<Figure size 1296x360 with 2 Axes>"
            ]
          },
          "metadata": {
            "tags": []
          }
        }
      ]
    },
    {
      "cell_type": "markdown",
      "metadata": {
        "id": "qsGG_Y_-Eb5o"
      },
      "source": [
        "### Preprocessed Word Count Examination"
      ]
    },
    {
      "cell_type": "markdown",
      "metadata": {
        "id": "Z1k8pBWLkSdE"
      },
      "source": [
        "Finally, I decided to look at the word counts before and after the pre-processing to see how much of each article was shaved off during the process."
      ]
    },
    {
      "cell_type": "code",
      "metadata": {
        "id": "3v5IVOa6VUFj"
      },
      "source": [
        "#Making copies just for analysis purposes\n",
        "X_test_ready_copy = X_test_ready.copy()\n",
        "X_all_ready = X_train_ready.append(X_test_ready_copy,ignore_index=True)\n",
        "y_all = y_train.append(test_copy.label,ignore_index=True)"
      ],
      "execution_count": 21,
      "outputs": []
    },
    {
      "cell_type": "code",
      "metadata": {
        "colab": {
          "base_uri": "https://localhost:8080/",
          "height": 372
        },
        "id": "9gLOo7Kt6uIm",
        "outputId": "daf87603-ddbb-4ea4-8d9d-db098847784e"
      },
      "source": [
        "sns.set(rc={'figure.figsize':(9,5)})\n",
        "word_counts_proc = pd.DataFrame(X_all_ready.apply(lambda x: len(x.split(\" \")))).join(y_all)\n",
        "word_counts_proc.columns = [\"Word Count\",\"Label\"]\n",
        "plt.title(\"Pre-Processed Article Word Count\")\n",
        "sns.histplot(data = word_counts_proc, x=\"Word Count\")"
      ],
      "execution_count": 22,
      "outputs": [
        {
          "output_type": "execute_result",
          "data": {
            "text/plain": [
              "<matplotlib.axes._subplots.AxesSubplot at 0x7fc0400426d0>"
            ]
          },
          "metadata": {
            "tags": []
          },
          "execution_count": 22
        },
        {
          "output_type": "display_data",
          "data": {
            "image/png": "[encoded data removed]",
            "text/plain": [
              "<Figure size 648x360 with 1 Axes>"
            ]
          },
          "metadata": {
            "tags": []
          }
        }
      ]
    },
    {
      "cell_type": "markdown",
      "metadata": {
        "id": "UqvZmwmxklKr"
      },
      "source": [
        "In examining the distribution of word counts, I once again found it useful to zoom in again on the main group (<2500 words) and the tail (>=2500 words)."
      ]
    },
    {
      "cell_type": "code",
      "metadata": {
        "colab": {
          "base_uri": "https://localhost:8080/",
          "height": 372
        },
        "id": "h4NbALnOEouL",
        "outputId": "5ce85302-3148-4927-9681-08b9c026ccc9"
      },
      "source": [
        "sns.set(rc={'figure.figsize':(18,5)})\n",
        "plt.subplot(121)\n",
        "plt.title(\"Zoom in on Articles with <2500 words\")\n",
        "sns.histplot(data = word_counts_proc, x=\"Word Count\", binrange=(0,2500))\n",
        "plt.subplot(122)\n",
        "plt.title(\"Zoom in on Articles with >=2500 words\")\n",
        "sns.histplot(data = word_counts_proc, x=\"Word Count\", binrange=(2500,max(word_counts_proc[\"Word Count\"])))"
      ],
      "execution_count": 23,
      "outputs": [
        {
          "output_type": "execute_result",
          "data": {
            "text/plain": [
              "<matplotlib.axes._subplots.AxesSubplot at 0x7fc03ee17090>"
            ]
          },
          "metadata": {
            "tags": []
          },
          "execution_count": 23
        },
        {
          "output_type": "display_data",
          "data": {
            "image/png": "[encoded data removed]",
            "text/plain": [
              "<Figure size 1296x360 with 2 Axes>"
            ]
          },
          "metadata": {
            "tags": []
          }
        }
      ]
    },
    {
      "cell_type": "markdown",
      "metadata": {
        "id": "v6Na1ng0ksUi"
      },
      "source": [
        "The word counts definitely are distributed closer to 0, which is what I expect since we are cutting stop words and such. I also wanted to see how each article’s word count changed. "
      ]
    },
    {
      "cell_type": "code",
      "metadata": {
        "colab": {
          "base_uri": "https://localhost:8080/",
          "height": 372
        },
        "id": "qxy1mQAY-PhO",
        "outputId": "c682086a-2bf8-4c05-f9e2-a9b9ff037d7b"
      },
      "source": [
        "word_counts_compare = pd.DataFrame(word_counts[\"Word Count\"]).join(word_counts_proc,lsuffix=\"_\")\n",
        "word_counts_compare.columns = [\"Before Pre-processing\", \"After Pre-processing\", \"Label\"]\n",
        "g = sns.regplot(data = word_counts_compare, x=\"Before Pre-processing\", y=\"After Pre-processing\")\n",
        "plt.title(\"Word Counts Before vs. After Pre-processing\")\n",
        "plotlim = max(word_counts_compare[\"Before Pre-processing\"])+500\n",
        "g.set_xlim(0,plotlim)\n",
        "g.set_ylim(0,plotlim)\n",
        "plt.plot(np.arange(0,plotlim),np.arange(0,plotlim))"
      ],
      "execution_count": 24,
      "outputs": [
        {
          "output_type": "execute_result",
          "data": {
            "text/plain": [
              "[<matplotlib.lines.Line2D at 0x7fc045ee4e90>]"
            ]
          },
          "metadata": {
            "tags": []
          },
          "execution_count": 24
        },
        {
          "output_type": "display_data",
          "data": {
            "image/png": "[encoded data removed]",
            "text/plain": [
              "<Figure size 1296x360 with 1 Axes>"
            ]
          },
          "metadata": {
            "tags": []
          }
        }
      ]
    },
    {
      "cell_type": "markdown",
      "metadata": {
        "id": "zWMujdDLFUKj"
      },
      "source": [
        "In the chart above, each point is an article in either the training or test data. Its position on each axis represents its word count before (x-axis) and after (y-axis) pre-processing. The green line is where x=y, or where articles would be if pre-processing wouldn't change the word count, while the blue line is the regression line."
      ]
    },
    {
      "cell_type": "markdown",
      "metadata": {
        "id": "d77FUqubF7uA"
      },
      "source": [
        "This plot shows mostly what is expected, namely that the pre-processing cuts the number of words. However there seems to be one glaring exception, and possibly more. I investigate this further with the code below by pulling up all the articles where the word count increasing after pre-processing to see how/why it happened."
      ]
    },
    {
      "cell_type": "code",
      "metadata": {
        "colab": {
          "base_uri": "https://localhost:8080/",
          "height": 373
        },
        "id": "IZnSSbIfFSXu",
        "outputId": "447a641f-b778-40d2-e492-816633535028"
      },
      "source": [
        "to_examine = word_counts_compare[\"Before Pre-processing\"] < word_counts_compare[\"After Pre-processing\"]\n",
        "word_counts_compare[to_examine]"
      ],
      "execution_count": 25,
      "outputs": [
        {
          "output_type": "execute_result",
          "data": {
            "text/html": [
              "<div>\n",
              "<style scoped>\n",
              "    .dataframe tbody tr th:only-of-type {\n",
              "        vertical-align: middle;\n",
              "    }\n",
              "\n",
              "    .dataframe tbody tr th {\n",
              "        vertical-align: top;\n",
              "    }\n",
              "\n",
              "    .dataframe thead th {\n",
              "        text-align: right;\n",
              "    }\n",
              "</style>\n",
              "<table border=\"1\" class=\"dataframe\">\n",
              "  <thead>\n",
              "    <tr style=\"text-align: right;\">\n",
              "      <th></th>\n",
              "      <th>Before Pre-processing</th>\n",
              "      <th>After Pre-processing</th>\n",
              "      <th>Label</th>\n",
              "    </tr>\n",
              "  </thead>\n",
              "  <tbody>\n",
              "    <tr>\n",
              "      <th>646</th>\n",
              "      <td>23</td>\n",
              "      <td>25</td>\n",
              "      <td>Fake</td>\n",
              "    </tr>\n",
              "    <tr>\n",
              "      <th>1049</th>\n",
              "      <td>96</td>\n",
              "      <td>116</td>\n",
              "      <td>Fake</td>\n",
              "    </tr>\n",
              "    <tr>\n",
              "      <th>1396</th>\n",
              "      <td>1</td>\n",
              "      <td>2</td>\n",
              "      <td>Fake</td>\n",
              "    </tr>\n",
              "    <tr>\n",
              "      <th>1422</th>\n",
              "      <td>825</td>\n",
              "      <td>865</td>\n",
              "      <td>Real</td>\n",
              "    </tr>\n",
              "    <tr>\n",
              "      <th>2344</th>\n",
              "      <td>5759</td>\n",
              "      <td>7276</td>\n",
              "      <td>Real</td>\n",
              "    </tr>\n",
              "    <tr>\n",
              "      <th>2595</th>\n",
              "      <td>13</td>\n",
              "      <td>20</td>\n",
              "      <td>Real</td>\n",
              "    </tr>\n",
              "    <tr>\n",
              "      <th>2803</th>\n",
              "      <td>47</td>\n",
              "      <td>52</td>\n",
              "      <td>Real</td>\n",
              "    </tr>\n",
              "    <tr>\n",
              "      <th>3098</th>\n",
              "      <td>44</td>\n",
              "      <td>48</td>\n",
              "      <td>Real</td>\n",
              "    </tr>\n",
              "    <tr>\n",
              "      <th>3160</th>\n",
              "      <td>1391</td>\n",
              "      <td>1403</td>\n",
              "      <td>Fake</td>\n",
              "    </tr>\n",
              "    <tr>\n",
              "      <th>3662</th>\n",
              "      <td>26</td>\n",
              "      <td>29</td>\n",
              "      <td>Real</td>\n",
              "    </tr>\n",
              "    <tr>\n",
              "      <th>5157</th>\n",
              "      <td>28</td>\n",
              "      <td>51</td>\n",
              "      <td>Test</td>\n",
              "    </tr>\n",
              "  </tbody>\n",
              "</table>\n",
              "</div>"
            ],
            "text/plain": [
              "      Before Pre-processing  After Pre-processing Label\n",
              "646                      23                    25  Fake\n",
              "1049                     96                   116  Fake\n",
              "1396                      1                     2  Fake\n",
              "1422                    825                   865  Real\n",
              "2344                   5759                  7276  Real\n",
              "2595                     13                    20  Real\n",
              "2803                     47                    52  Real\n",
              "3098                     44                    48  Real\n",
              "3160                   1391                  1403  Fake\n",
              "3662                     26                    29  Real\n",
              "5157                     28                    51  Test"
            ]
          },
          "metadata": {
            "tags": []
          },
          "execution_count": 25
        }
      ]
    },
    {
      "cell_type": "markdown",
      "metadata": {
        "id": "ddYWIMRTG6TC"
      },
      "source": [
        "Article 2344 seems to be the obvious exception from the plot, but there are a handful more. There doesn't seem to be a pattern with the label, so let's look at the article texts so see what is happening."
      ]
    },
    {
      "cell_type": "code",
      "metadata": {
        "colab": {
          "base_uri": "https://localhost:8080/"
        },
        "id": "9yO4vvSiHHqh",
        "outputId": "97554725-3a13-4fcb-eaf1-ca09dd712002"
      },
      "source": [
        "for i in word_counts_compare[to_examine].index:\n",
        "    print(\"Article ID:\", i)\n",
        "    print(\"Before Pre-processing:\", all_data[to_examine][\"text\"][i])\n",
        "    print(\"After Pre-processing:\", X_all_ready[to_examine][i])\n",
        "    print(\"\\n\")"
      ],
      "execution_count": 26,
      "outputs": [
        {
          "output_type": "stream",
          "text": [
            "Article ID: 646\n",
            "Before Pre-processing: A version of this action that uses less javacript and may be usable for those who don't use javascript is available at https://actionnetwork.org/petitions/urgent-new-law-would-charge-protesters-with-terrorism?nowrapper=true&referrer=&source=\n",
            "After Pre-processing: version action use less javacript may usabl use javascript avail http actionnetwork org petit urgent new law would charg protest terror nowrapp true referr sourc\n",
            "\n",
            "\n",
            "Article ID: 1049\n",
            "Before Pre-processing: Streamed live on Mar 16, 2018Reading the Squawker story out today. Yep, our good friend feminism is at it again folks!Please help support this ministry so we can bring more news and inspiration, and expand our reach! You can donate at www.WifeWithAPurpose.com/Support----------------------------------Ayla, is a stay-at-home, homeschooling, home birthing, mother of six children. She holds a Master's degree and is a former Leftist whose pro life and pro family values along with the grace of God, led her to TradLife.#TradLife #WhiteCultureFind her at WifeWithAPurpose.com-YouTube (www.youtube.com/user/adorableayla)-YouTube Back Up Channel (https://www.youtube.com/channel/UC1jp...)-Bitchute (www.bitchute.com/channel/wifewithapurpose)-Patreon (www.Patreon.com/Tradition)-Twitter @HistoricalLydia-Instagram (www.instagram.com/wifewithapurpose)-Facebook(https://www.facebook.com/Being-A-Trad...)-Minds (www.minds.com/WifeWithAPurpose)-Gab (www.gab.ai/Wifewithapurpose)-Tumblr (www.adorableayla.tumblr.com)-OK (Www.ok.ru/profile/575132562841)\n",
            "After Pre-processing: stream live mar 16 2018read squawker stori today yep good friend femin folk pleas help support ministri bring news inspir expand reach donat www wifewithapurpos com support ayla stay home homeschool home birth mother six children hold master degre former leftist whose pro life pro famili valu along grace god led tradlif tradlif whiteculturefind wifewithapurpos com youtub www youtub com user adorableayla youtub back channel http www youtub com channel uc1jp bitchut www bitchut com channel wifewithapurpos patreon www patreon com tradit twitter historicallydia instagram www instagram com wifewithapurpos facebook http www facebook com trad mind www mind com wifewithapurpos gab www gab ai wifewithapurpos tumblr www adorableayla tumblr com ok www ok ru profil 575132562841\n",
            "\n",
            "\n",
            "Article ID: 1396\n",
            "Before Pre-processing: content\tlab\n",
            "After Pre-processing: content lab\n",
            "\n",
            "\n",
            "Article ID: 1422\n",
            "Before Pre-processing: BILL: SB4002 SHORT TITLE: ENERGY ASSISTANCE BILL VERSION: HCS CSSB 4002(FIN) AM H CURRENT STATUS: CHAPTER 2 4SSLA 08 STATUS DATE: 08/25/08 SPONSOR(S): RULES BY REQUEST OF THE GOVERNORBill Number:Jrn-Date Jrn-Page Action 07/09/08 3145 (S) READ THE FIRST TIME - REFERRALS 07/09/08 3145 (S) FIN 07/09/08 3145 (S) FN1: ZERO(ADM) 07/09/08 3145 (S) FN2: (HSS) 07/09/08 3145 (S) FN3: (REV) 07/09/08 3145 (S) GOVERNOR'S TRANSMITTAL LETTER 08/02/08 3242 (S) FIN RPT CS 4DP 1NR 2AM NEW TITLE 08/02/08 3242 (S) DP: HOFFMAN, STEDMAN, ELTON, THOMAS 08/02/08 3242 (S) NR: DYSON 08/02/08 3242 (S) AM: HUGGINS, OLSON 08/02/08 3243 (S) FN4: (S.FIN/CED) 08/02/08 3243 (S) FN5: (S.FIN/REV) 08/02/08 3243 (S) FN6: (S.FIN/CED) 08/03/08 3248 (S) FN7: (HES) 08/03/08 3248 (S) FN8: (HES) 08/02/08 3243 (S) RULES TO 1ST SUP CALENDAR 8/2/08 08/02/08 3243 (S) READ THE SECOND TIME 08/02/08 3243 (S) FIN CS-WORK DRAFT GS4057\\T WITH CONCEPTUAL AMD 10 AND 08/02/08 3243 (S) AMDS 7, 8, 11 ADPTED UNAN CONSENT 08/02/08 3243 (S) ADVANCED TO THIRD READING 8/3 CALENDAR 08/03/08 3249 (S) 8/3 CAL NOT TAKEN UP - ON 8/4 CALENDAR 08/04/08 3252 (S) READ THE THIRD TIME CSSB 4002(FIN) 08/04/08 3252 (S) AM NO 1 NOT OFFERED 08/04/08 3252 (S) RETURN TO SECOND FOR AM 2 UNAN CONSENT 08/04/08 3253 (S) AM NO 2 FAILED Y4 N13 E3 08/04/08 3254 (S) RETURN TO SECOND FOR AM 3 UNAN CONSENT 08/04/08 3255 (S) AM NO 3 ADOPTED UNAN CONSENT 08/04/08 3255 (S) ...CHANGES TITLE OF LEGISLATION 08/04/08 3262 (S) RETURN TO SECOND FOR AM 4 UNAN CONSENT 08/04/08 3262 (S) AM NO 4 ADOPTED Y9 N8 E3 08/04/08 3262 (S) ...CHANGES TITLE OF LEGISLATION 08/04/08 3265 (S) AUTOMATICALLY IN THIRD READING 08/04/08 3265 (S) PASSED Y14 N3 E3 08/04/08 3265 (S) EFFECTIVE DATE(S) SAME AS PASSAGE 08/04/08 3265 (S) ELLIS NOTICE OF RECONSIDERATION 08/04/08 3265 (S) RECON TAKEN UP SAME DAY UNAN CONSENT 08/04/08 3266 (S) PASSED ON RECONSIDERATION Y14 N3 E3 08/04/08 3266 (S) EFFECTIVE DATE(S) SAME AS PASSAGE 08/04/08 3268 (S) TRANSMITTED TO (H) 08/04/08 3268 (S) VERSION: CSSB 4002(FIN) AM 08/05/08 3272 (S) BILL REPRINTED 8/5/08 08/04/08 3306 (H) READ THE FIRST TIME - REFERRALS 08/04/08 3306 (H) FIN 08/05/08 3316 (H) FIN RPT HCS(FIN) NT 4DP 3NR 3AM 08/05/08 3316 (H) TITLE CHANGE: HCR 401 08/05/08 3316 (H) DP: FOSTER, STOLTZE, CHENAULT, MEYER 08/05/08 3316 (H) NR: HAWKER, THOMAS, KELLY 08/05/08 3316 (H) AM: NELSON, CRAWFORD, GARA 08/05/08 3317 (H) FN9: (CED) 08/05/08 3317 (H) FN10: (CED) 08/05/08 3317 (H) FN11: (CED) 08/05/08 3317 (H) FN12: (HSS) 08/05/08 3317 (H) FN13: (HSS) 08/05/08 3317 (H) FN14: (REV) 08/05/08 3317 (H) FN15: (REV) 08/05/08 3317 (H) RULES TO CALENDAR 8/5/2008 08/05/08 3317 (H) READ THE SECOND TIME 08/05/08 3318 (H) FIN HCS ADOPTED Y22 N15 E3 08/05/08 3319 (H) ADVANCED TO THIRD READING 8/6 CALENDAR 08/06/08 3333 (H) READ THE THIRD TIME HCS CSSB 4002(FIN) 08/06/08 3333 (H) RETURN TO SECOND FOR AM 1 AND ALL AMS UC 08/06/08 3333 (H) AM NO 1 ADOPTED UNAN CONSENT 08/06/08 3334 (H) AM NO 2 FAILED Y15 N22 E3 08/06/08 3335 (H) AM NO 3 FAILED Y16 N20 E3 A1 08/06/08 3337 (H) AM NO 4 FAILED Y15 N22 E3 08/06/08 3339 (H) AM NO 5 FAILED Y7 N29 E3 A1 08/06/08 3343 (H) AM NO 6 FAILED Y15 N22 E3 08/06/08 3348 (H) AUTOMATICALLY IN THIRD READING 08/06/08 3348 (H) PASSED Y30 N7 E3 08/06/08 3349 (H) EFFECTIVE DATE(S) SAME AS PASSAGE 08/06/08 3349 (H) COGHILL NOTICE OF RECONSIDERATION 08/06/08 3349 (H) MOTION TO TAKE UP RECON SAME DAY WITHDRAWN 08/07/08 3357 (H) RECON TAKEN UP - IN THIRD READING 08/07/08 3358 (H) RETURN TO SECOND FOR AM 7 UNAN CONSENT 08/07/08 3358 (H) AM NO 7 ADOPTED UNAN CONSENT 08/07/08 3358 (H) ...CHANGES TITLE OF LEGISLATION 08/07/08 3360 (H) AUTOMATICALLY IN THIRD READING 08/07/08 3360 (H) PASSED ON RECONSIDERATION Y33 N5 E2 08/07/08 3360 (H) EFFECTIVE DATE(S) SAME AS PASSAGE 08/07/08 3361 (H) ENGROSSMENT WAIVED, RULE 43(B) 08/07/08 3361 (H) TRANSMITTED TO (S) AS AMENDED 08/07/08 3361 (H) VERSION: HCS CSSB 4002(FIN) AM H 09/15/08 3366 (H) ENGROSSED 08/07/08 3282 (S) CONCUR MESSAGE READ AND TAKEN UP 08/07/08 3282 (S) CONCUR AM OF (H) Y11 N5 E3 A1 08/07/08 3283 (S) TITLE CHANGE: HCR 401 08/07/08 3284 (S) EFFECTIVE DATE(S) ADOPTED Y16 N- E3 A1 09/15/08 3291 (S) 12:35 PM 8/19/08 TRANSMITTED TO GOVERNOR 09/15/08 3291 (S) MANIFEST ERROR(S) 09/15/08 3292 (S) SIGNED INTO LAW 8/25 CHAPTER 2 4SSLA 08 09/15/08 3292 (S) EFFECTIVE DATE(S) OF LAW SEE CHAPTER\"An Act amending the bulk fuel bridge loan fund and the bulk fuel revolving loan fund; relating to power cost equalization; relating to Alaska resource rebates, and increasing the amount of the 2008 permanent fund dividend to provide that rebate; suspending the motor fuel tax; eliminating the authority to make certain provisions of the heating assistance program retroactive to November 1, 2007; and providing for an effective date.\" Similar Subject Match or Exact Subject Match\n",
            "After Pre-processing: bill sb4002 short titl energi assist bill version hc cssb 4002 fin h current statu chapter 2 4ssla 08 statu date 08 25 08 sponsor rule request governorbil number jrn date jrn page action 07 09 08 3145 read first time referr 07 09 08 3145 fin 07 09 08 3145 fn1 zero adm 07 09 08 3145 fn2 hss 07 09 08 3145 fn3 rev 07 09 08 3145 governor transmitt letter 08 02 08 3242 fin rpt cs 4dp 1nr 2am new titl 08 02 08 3242 dp hoffman stedman elton thoma 08 02 08 3242 nr dyson 08 02 08 3242 huggin olson 08 02 08 3243 fn4 fin ced 08 02 08 3243 fn5 fin rev 08 02 08 3243 fn6 fin ced 08 03 08 3248 fn7 he 08 03 08 3248 fn8 he 08 02 08 3243 rule 1st sup calendar 8 2 08 08 02 08 3243 read second time 08 02 08 3243 fin cs work draft gs4057 conceptu amd 10 08 02 08 3243 amd 7 8 11 adpt unan consent 08 02 08 3243 advanc third read 8 3 calendar 08 03 08 3249 8 3 cal taken 8 4 calendar 08 04 08 3252 read third time cssb 4002 fin 08 04 08 3252 1 offer 08 04 08 3252 return second 2 unan consent 08 04 08 3253 2 fail y4 n13 e3 08 04 08 3254 return second 3 unan consent 08 04 08 3255 3 adopt unan consent 08 04 08 3255 chang titl legisl 08 04 08 3262 return second 4 unan consent 08 04 08 3262 4 adopt y9 n8 e3 08 04 08 3262 chang titl legisl 08 04 08 3265 automat third read 08 04 08 3265 pass y14 n3 e3 08 04 08 3265 effect date passag 08 04 08 3265 elli notic reconsider 08 04 08 3265 recon taken day unan consent 08 04 08 3266 pass reconsider y14 n3 e3 08 04 08 3266 effect date passag 08 04 08 3268 transmit h 08 04 08 3268 version cssb 4002 fin 08 05 08 3272 bill reprint 8 5 08 08 04 08 3306 h read first time referr 08 04 08 3306 h fin 08 05 08 3316 h fin rpt hc fin nt 4dp 3nr 3am 08 05 08 3316 h titl chang hcr 401 08 05 08 3316 h dp foster stoltz chenault meyer 08 05 08 3316 h nr hawker thoma kelli 08 05 08 3316 h nelson crawford gara 08 05 08 3317 h fn9 ced 08 05 08 3317 h fn10 ced 08 05 08 3317 h fn11 ced 08 05 08 3317 h fn12 hss 08 05 08 3317 h fn13 hss 08 05 08 3317 h fn14 rev 08 05 08 3317 h fn15 rev 08 05 08 3317 h rule calendar 8 5 2008 08 05 08 3317 h read second time 08 05 08 3318 h fin hc adopt y22 n15 e3 08 05 08 3319 h advanc third read 8 6 calendar 08 06 08 3333 h read third time hc cssb 4002 fin 08 06 08 3333 h return second 1 am uc 08 06 08 3333 h 1 adopt unan consent 08 06 08 3334 h 2 fail y15 n22 e3 08 06 08 3335 h 3 fail y16 n20 e3 a1 08 06 08 3337 h 4 fail y15 n22 e3 08 06 08 3339 h 5 fail y7 n29 e3 a1 08 06 08 3343 h 6 fail y15 n22 e3 08 06 08 3348 h automat third read 08 06 08 3348 h pass y30 n7 e3 08 06 08 3349 h effect date passag 08 06 08 3349 h coghil notic reconsider 08 06 08 3349 h motion take recon day withdrawn 08 07 08 3357 h recon taken third read 08 07 08 3358 h return second 7 unan consent 08 07 08 3358 h 7 adopt unan consent 08 07 08 3358 h chang titl legisl 08 07 08 3360 h automat third read 08 07 08 3360 h pass reconsider y33 n5 e2 08 07 08 3360 h effect date passag 08 07 08 3361 h engross waiv rule 43 b 08 07 08 3361 h transmit amend 08 07 08 3361 h version hc cssb 4002 fin h 09 15 08 3366 h engross 08 07 08 3282 concur messag read taken 08 07 08 3282 concur h y11 n5 e3 a1 08 07 08 3283 titl chang hcr 401 08 07 08 3284 effect date adopt y16 n e3 a1 09 15 08 3291 12 35 pm 8 19 08 transmit governor 09 15 08 3291 manifest error 09 15 08 3292 sign law 8 25 chapter 2 4ssla 08 09 15 08 3292 effect date law see chapter act amend bulk fuel bridg loan fund bulk fuel revolv loan fund relat power cost equal relat alaska resourc rebat increas amount 2008 perman fund dividend provid rebat suspend motor fuel tax elimin author make certain provis heat assist program retroact novemb 1 2007 provid effect date similar subject match exact subject match\n",
            "\n",
            "\n",
            "Article ID: 2344\n",
            "Before Pre-processing: Tweet CONGRESS – Job Rating See also: Detailed trend Approve Disap-prove Unsure Approveminus % % % Disapprove . Quinnipiac RV 5/31 - 6/5/18 13 78 9 - 65 Gallup 5/1-10/18 17 79 4 - 62 Monmouth U. 4/26-30/18 17 71 12 - 54 Fox RV 4/22-24/18 19 70 11 - 51 Gallup 4/2-11/18 18 78 4 - 60 Quinnipiac RV 4/6-9/18 12 81 7 - 69 CNN 3/22-25/18 18 75 7 - 57 Gallup 3/1-8/18 15 79 6 - 64 Quinnipiac RV 3/3-5/18 13 80 6 - 67 Monmouth U. 3/2-5/18 18 72 11 - 54 Suffolk/USA Today RV 2/20-24/18 15 75 11 - 60 Gallup 2/1-10/18 15 81 4 - 66 Quinnipiac RV 2/2-5/18 15 77 8 - 62 Monmouth U. 1/28-30/18 21 68 11 - 47 Fox RV 1/21-23/18 15 70 15 - 55 CNN 1/14-15 & 17-18/18 18 76 6 - 58 CBS 1/13-16/18 18 75 8 - 57 Quinnipiac RV 1/12-16/18 16 78 6 - 62 Gallup 1/2-7/18 20 75 5 - 55 . Quinnipiac RV 12/13-18/17 13 79 8 - 66 Monmouth U. 12/10-12/17 16 65 19 - 49 Gallup 12/4-11/17 17 78 5 - 61 Quinnipiac RV 11/29 - 12/4/17 12 80 8 - 68 Gallup 11/2-8/17 13 81 6 - 68 Gallup 10/5-11/17 13 80 7 - 67 Monmouth U. 9/15-19/17 17 69 15 - 52 Gallup 9/6-10/17 16 80 5 - 64 Fox RV 8/27-29/17 15 74 11 - 59 Quinnipiac RV 8/17-22/17 10 83 7 - 73 Quinnipiac RV 8/9-15/17 10 85 5 - 75 Monmouth U. 8/10-14/17 18 69 13 - 51 CBS 8/3-6/17 19 73 8 - 54 CNN 8/3-6/17 20 75 5 - 55 Gallup 8/2-6/17 16 79 6 - 63 Quinnipiac RV 7/27 - 8/1/17 10 84 6 - 74 Monmouth U. 7/13-16/17 19 70 11 - 51 Gallup 7/5-9/17 20 74 7 - 54 Gallup 6/7-11/17 21 72 7 - 51 Monmouth U. 5/13, 15-17/17 19 68 13 - 49 Gallup 5/3-7/17 20 74 6 - 54 CNN/ORC 4/22-25/17 24 74 3 - 50 NBC/WSJ 4/17-20/17 20 72 8 - 52 Gallup 4/5-9/17 20 74 6 - 54 Quinnipiac RV 3/2-6/17 18 70 12 - 52 Monmouth U. 3/2-5/17 25 59 16 - 34 Gallup 3/1-5/17 24 67 9 - 43 CNN/ORC 3/1-4/17 28 69 3 - 41 NBC/WSJ 2/18-22/17 29 60 11 - 31 CBS 2/17-21/17 22 67 12 - 45 Gallup 2/1-5/17 28 67 5 - 39 Quinnipiac RV 1/20-25/17 19 67 14 - 48 Fox RV 1/15-18/17 17 74 9 - 57 CBS 1/13-16/17 24 71 6 - 47 CNN/ORC 1/12-15/17 20 77 3 - 57 Monmouth U. 1/12-15/17 23 66 11 - 43 Quinnipiac RV 1/5-9/17 12 79 9 - 67 Gallup 1/4-8/17 19 76 5 - 57 . Gallup 12/7-11/16 18 78 4 - 60 Allstate/Atlantic Media 11/16-21/16 17 73 10 - 56 Gallup 11/9-13/16 19 74 7 - 55 CBS/New York Times 10/28 - 11/1/16 15 76 8 - 61 Gallup 10/5-9/16 18 79 3 - 61 Fox RV 9/27-29/16 19 74 7 - 55 Monmouth U. RV 9/22-25/16 15 77 8 - 62 Gallup 9/7-11/16 20 76 5 - 56 Gallup 8/3-7/16 18 78 4 - 60 Monmouth U. RV 8/4-7/16 14 78 9 - 64 Gallup 7/13-17/16 13 83 4 - 70 CBS/New York Times 7/8-12/16 15 79 7 - 64 Allstate/Atlantic Media 6/19-24/16 13 80 7 - 67 Monmouth U. RV 6/15-19/16 17 76 7 - 59 Gallup 6/1-5/16 16 80 4 - 64 CBS/New York Times 5/13-17/16 14 77 9 - 63 Gallup 5/4-8/16 18 78 4 - 60 CBS 4/8-12/16 14 77 9 - 63 Gallup 4/6-10/16 17 79 4 - 62 Fox RV 3/20-22/16 14 77 9 - 63 CBS/New York Times 3/17-20/16 17 75 8 - 58 CNN/ORC 3/17-20/16 15 81 3 - 66 Monmouth U. RV 3/17-20/16 19 72 9 - 53 Gallup 3/2-6/16 13 84 3 - 71 Gallup 2/3-7/16 14 81 4 - 67 Monmouth U. RV 1/15-18/16 15 78 7 - 63 CBS/New York Times 1/7-10/16 15 75 10 - 60 Gallup 1/6-10/16 16 80 4 - 64 Allstate/Nat'l Journal 1/2-6/16 15 77 8 - 62 . CNN/ORC 12/17-21/15 14 85 2 - 71 Gallup 12/2-6/15 13 82 5 - 69 CBS/New York Times 12/4-8/15 15 74 11 - 59 Gallup 11/4-8/15 11 86 3 - 75 CBS/New York Times 10/21-25/15 13 75 12 - 62 Fox RV 10/10-12/15 13 78 8 - 65 Gallup 10/7-11/15 13 82 4 - 69 CBS 10/4-8/15 12 79 9 - 67 Allstate/Nat'l Journal 9/10-15/15 13 78 10 - 65 Gallup 9/9-13/15 14 83 2 - 69 Gallup 8/5-9/15 14 82 5 - 68 CBS 7/29 - 8/2/15 17 74 9 - 57 Gallup 7/8-12/15 17 78 5 - 61 Gallup 6/2-7/15 17 79 4 - 62 CBS/New York Times 5/28-31/15 15 78 8 - 63 Allstate/Nat'l Journal 5/17-27/15 17 73 10 - 56 Gallup 5/6-10/15 19 77 5 - 58 CBS/New York Times 4/30 - 5/3/15 12 80 9 - 68 Fox RV 4/19-21/15 19 75 7 - 56 Suffolk/USA Today 4/8-13/15 11 77 13 - 66 Gallup 4/9-12/15 15 80 5 - 65 Fox RV 3/29-31/15 21 70 8 - 49 ABC/Washington Post 3/26-29/15 22 70 7 - 48 CBS 3/21-24/15 22 70 8 - 48 Gallup 3/5-8/15 18 75 7 - 57 Fox RV 3/1-3/15 17 76 7 - 59 Allstate/Nat'l Journal 2/18-22/15 18 71 11 - 53 CBS 2/13-17/15 18 73 9 - 55 CNN/ORC 2/12-15/15 21 78 2 - 57 Gallup 2/8-11/15 20 75 5 - 55 Fox RV 2/8-10/15 21 72 7 - 51 Fox RV 1/25-27/15 18 73 8 - 55 NBC/Wall Street Journal 1/14-17/15 16 76 8 - 60 Fox RV 1/11-13/15 15 74 11 - 59 CBS 1/9-12/15 16 72 12 - 56 Gallup 1/5-8/15 16 76 8 - 60 . NBC/Wall Street Journal 12/10-14/14 16 78 6 - 62 Gallup 12/8-11/14 16 80 4 - 64 Fox RV 12/7-9/14 14 80 6 - 66 Gallup 11/6-9/14 15 79 6 - 64 Gallup 10/29 - 11/2/14 20 75 5 - 55 Fox RV 10/25-27/14 13 80 7 - 67 CBS 10/23-27/14 14 76 10 - 62 CNN/ORC 10/24-26/14 13 85 2 - 72 Allstate/Nat'l Journal 10/22-26/14 9 80 11 - 71 ABC/Washington Post 10/15-19/14 20 77 3 - 57 Gallup 10/12-15/14 14 82 4 - 68 Fox RV 10/12-14/14 12 78 9 - 66 NBC/Wall Street Journal RV 10/8-12/14 12 83 5 - 71 CBS 10/3-6/14 15 78 7 - 63 Fox RV 9/7-9/14 13 78 9 - 65 CNN/ORC 9/5-7/14 14 83 3 - 69 ABC/Washington Post 9/4-7/14 15 77 7 - 62 Gallup 9/4-7/14 14 82 4 - 68 Battleground LV 8/23-28/14 16 80 5 - 64 Gallup 8/7-10/14 13 83 4 - 70 CBS 7/29 - 8/4/14 15 78 7 - 63 NBC/Wall Street Journal 7/30 - 8/3/14 14 79 7 - 65 Fox RV 7/20-22/14 13 79 8 - 66 Gallup 7/7-10/14 15 80 5 - 65 CBS/New York Times 6/20-22/14 14 78 8 - 64 Gallup 6/5-8/14 16 81 3 - 65 Fox RV 6/1-3/14 13 78 8 - 65 CBS 5/16-19/14 12 80 8 - 68 Fox RV 5/10, 12 & 13/14 16 73 11 - 57 Gallup 5/8-11/14 15 80 6 - 65 Fox RV 4/13-15/14 15 76 9 - 61 Allstate/Nat'l Journal 4/9-13/14 11 80 9 - 69 Gallup 4/3-6/14 13 83 3 - 70 CBS 3/20-23/14 18 76 6 - 58 Battleground LV 3/16-20/14 13 82 5 - 69 Gallup 3/6-9/14 15 83 2 - 68 Fox RV 3/2-4/14 12 78 10 - 66 CBS/New York Times 2/19-23/14 13 80 7 - 67 Fox RV 2/9-11/14 14 81 5 - 67 Gallup 2/6-9/14 12 83 6 - 71 NBC/Wall Street Journal 1/22-25/14 13 81 6 - 68 ABC/Washington Post 1/20-23/14 16 81 3 - 65 Fox RV 1/19-21/14 13 81 5 - 68 CBS 1/17-21/14 11 82 7 - 71 Battleground LV 1/12-16/14 14 81 4 - 67 Gallup 1/5-8/14 13 82 5 - 69 . Fox RV 12/14-16/13 16 79 5 - 63 . ABC/Washington Post 12/12-15/13 16 81 3 - 65 . CBS/New York Times 12/5-8/13 10 83 7 - 73 . Gallup 12/5-8/13 12 85 3 - 73 . CBS 11/15-18/13 11 85 5 - 74 . Fox RV 11/10-12/13 10 85 5 - 75 . Gallup 11/7-10/13 9 86 5 - 77 . Allstate/Nat'l Journal 11/2-6/13 9 84 6 - 75 . Battleground LV 10/27-31/13 9 87 4 - 78 . Fox RV 10/20-22/13 9 85 6 - 76 . CBS 10/18-21/13 9 85 6 - 76 . CNN/ORC 10/18-20/13 12 86 2 - 74 . ABC/Washington Post 10/17-20/13 12 85 3 - 73 . Gallup 10/3-6/13 11 85 4 - 74 . Fox RV 10/1-2/13 13 81 6 - 68 . CNN/ORC 9/27-29/13 10 87 4 - 77 . CBS/New York Times 9/19-23/13 14 80 6 - 66 . CBS/New York Times 9/6-8/13 24 68 8 - 44 . CNN/ORC 9/6-8/13 20 78 3 - 58 . Fox RV 9/6-8/13 17 75 7 - 58 . Gallup 9/5-8/13 19 76 5 - 57 . Allstate/Nat'l Journal 9/3-7/13 13 76 11 - 63 . Fox RV 7/21-23/13 18 74 7 - 56 . CBS 7/18-22/13 17 76 6 - 59 . ABC/Washington Post 7/18-21/13 21 73 7 - 52 . NBC/Wall Street Journal 7/17-21/13 12 83 5 - 71 . Gallup 7/10-14/13 15 78 7 - 63 . Fox RV 6/22-24/13 15 77 8 - 62 . CNN/ORC 6/11-13/13 16 83 1 - 67 . Gallup 6/1-4/13 17 78 5 - 61 . CBS/New York Times 5/31 - 6/4/13 13 80 7 - 67 . Allstate/Nat'l Journal 5/29 - 6/2/13 17 77 6 - 60 . Fox RV 5/18-20/13 16 76 8 - 60 . Gallup 5/2-7/13 16 79 5 - 63 . CBS/New York Times 4/24-28/13 17 75 8 - 58 . Fox RV 4/20-22/13 17 74 9 - 57 . Allstate/Nat'l Journal 4/5-9/13 17 76 7 - 59 . Gallup 4/4-7/13 15 79 6 - 64 . CBS 3/20-24/13 11 81 8 - 70 . Fox RV 3/17-19/13 14 79 6 - 65 . ABC/Washington Post 3/7-10/13 16 80 4 - 64 . Gallup 3/7-10/13 13 83 4 - 70 . Fox RV 2/25-27/13 16 77 8 - 61 . Gallup 2/7-10/13 15 81 4 - 66 . CBS 2/6-10/13 14 77 8 - 63 . Fox RV 2/4-6/13 17 77 6 - 60 . Fox RV 1/15-17/13 16 76 8 - 60 . CNN/ORC 1/14-15/13 21 79 1 - 58 . NBC/Wall Street Journal 1/12-15/13 14 81 5 - 67 . CBS/New York Times 1/11-15/13 12 82 6 - 70 . AP-GfK 1/10-14/13 17 77 * - 60 . ABC/Washington Post 1/10-13/13 19 76 4 - 57 . Gallup 1/7-10/13 14 81 6 - 67 . USA Today/Gallup 12/14-17/12 18 76 5 - 58 . CBS 12/12-16/12 11 81 9 - 70 . Fox RV 12/9-11/12 17 74 9 - 57 . AP-GfK 11/29 - 12/3/12 23 74 * - 51 . Allstate/Nat'l Journal 11/25 - 12/1/12 21 72 8 - 51 . Gallup 11/15-18/12 18 75 7 - 57 . CNN/ORC 11/2-4/12 17 74 9 - 57 . CBS/New York Times 10/25-28/12 15 75 10 - 60 . NPR LV 10/23-25/12 16 79 5 - 63 . Gallup 10/15-16/12 21 69 11 - 48 . CBS/New York Times 9/8-12/12 16 74 10 - 58 . Gallup 9/6-9/12 13 83 4 - 70 . CBS 8/22-26/12 14 74 12 - 60 . Gallup 8/9-12/12 10 83 7 - 73 . CBS/New York Times 7/11-16/12 12 79 9 - 67 . Gallup 7/9-12/12 16 78 7 - 62 . NPR LV 7/9-12/12 19 74 7 - 55 . AP-GfK 6/14-18/12 22 75 * - 53 . Fox RV 6/3-5/12 17 75 9 - 58 . CBS/New York Times 5/31 - 6/3/12 15 77 8 - 62 . AP-GfK 5/3-7/12 18 78 * - 60 . CBS/New York Times 4/13-17/12 13 77 10 - 64 . Gallup 4/9-12/12 17 79 4 - 62 . Fox RV 4/9-11/12 12 78 10 - 66 . Gallup 3/8-11/12 12 82 6 - 70 . AP-GfK 2/16-20/12 19 78 * - 59 . CBS/New York Times 2/8-13/12 10 82 8 - 72 . Fox RV 2/6-9/12 13 79 8 - 66 . Gallup 2/2-5/12 10 86 4 - 76 . NBC/Wall Street Journal 1/22-24/12 13 80 7 - 67 . CBS/New York Times 1/12-17/12 13 79 8 - 66 . ABC/Washington Post 1/12-15/12 13 84 3 - 71 . CNN/ORC 1/11-12/12 11 86 2 - 75 . Gallup 1/5-8/12 13 81 6 - 68 . CBS 1/4-8/12 12 80 8 - 68 . CNN/ORC 12/16-18/11 16 83 1 - 67 . Gallup 12/15-18/11 11 86 3 - 75 . CBS 12/14-18/11 11 83 6 - 72 . AP-GfK 12/8-12/11 15 84 * - 69 . CBS 12/5-7/11 11 82 7 - 71 . Fox RV 12/5-7/11 12 83 5 - 71 . Fox RV 11/13-15/11 12 80 8 - 68 . CBS 11/6-10/11 9 83 8 - 74 . Gallup 11/3-6/11 13 82 5 - 69 . CBS/New York Times 10/19-24/11 9 84 7 - 75 . AP-GfK 10/13-17/11 16 82 * - 66 . Gallup 10/6-9/11 13 81 6 - 68 . ABC/Washington Post 9/29 - 10/2/11 14 82 4 - 68 . CBS 9/28 - 10/2/11 11 80 9 - 69 . Fox RV 9/25-27/11 11 83 6 - 72 . CBS/New York Times 9/10-15/11 12 80 8 - 68 . CNN/ORC 9/9-11/11 15 84 1 - 69 . Gallup 9/8-11/11 15 82 3 - 67 . NBC/Wall Street Journal 8/27-31/11 13 82 5 - 69 . AP-GfK 8/18-22/11 12 87 * - 75 . Gallup 8/11-14/11 13 84 4 - 71 . Fox RV 8/7-9/11 10 81 8 - 71 . CNN/ORC 8/1/11 14 84 2 - 70 . Gallup 7/7-10/11 18 77 5 - 59 . Fox RV 6/26-28/11 20 71 9 - 51 . CBS/New York Times 6/24-28/11 20 70 10 - 50 . Time 6/20-21/11 21 72 8 - 51 . AP-GfK 6/16-20/11 21 76 * - 55 . NBC/Wall Street Journal 6/9-13/11 18 74 8 - 56 . Gallup 6/9-12/11 17 76 7 - 59 . CBS 6/3-7/11 18 72 10 - 54 . Fox RV 5/15-17/11 24 69 7 - 45 . AP-GfK 5/5-9/11 30 68 * - 38 . Gallup 5/5-8/11 24 70 7 - 46 . NBC 5/5-7/11 22 70 8 - 48 . Fox RV 4/25-27/11 18 75 7 - 57 . CBS/New York Times 4/15-20/11 16 75 9 - 59 . Gallup 4/7-11/11 17 77 6 - 60 . NBC/Wall Street Journal 3/31 - 4/4/11 20 73 7 - 53 . AP-GfK 3/24-28/11 27 71 * - 44 . CBS 3/18-/21/11 21 66 13 - 45 . Fox RV 3/14-16/11 24 65 12 - 41 . ABC/Washington Post 3/10-13/11 27 69 4 - 42 . Gallup 3/3-6/11 18 74 7 - 56 . NBC/Wall Street Journal 2/24-28/11 22 69 9 - 47 . CBS 2/11-14/11 24 62 14 - 38 . Fox RV 2/7-9/11 31 60 9 - 29 . Gallup 2/2-5/11 23 71 5 - 48 . CNN/Opinion Research 1/21-23/11 26 72 2 - 46 . Fox/Opinion Dynamics RV 1/18-19/11 22 65 13 - 43 . ABC/Washington Post 1/13-16/11 28 66 7 - 38 . AP-GfK 1/5-10/11 26 69 * - 43 . Gallup 1/7-9/11 20 73 7 - 53 . Gallup 12/10-12/10 13 83 4 -70 . CBS 11/29 - 12/2/10 17 72 11 -55 . AP-GfK 11/3-8/10 26 71 * -45 . Gallup 11/4-7/10 17 77 6 -60 . USA Today/Gallup 10/28-31/10 21 73 6 -52 . Fox/Opinion Dynamics RV 10/26-28/10 19 70 11 -51 . ABC/Washington Post RV 10/25-28/10 23 74 3 -51 . CBS/New York Times LV 10/21-26/10 10 82 8 -72 . AP-GfK 10/13-18/10 23 75 * -52 . CBS 10/1-5/10 18 71 11 -53 . ABC/Washington Post 9/30 - 10/3/10 24 73 3 -49 . Fox/Opinion Dynamics RV 9/28-29/10 17 72 11 -55 . NBC/Wall Street Journal 9/22-26/10 20 73 7 -53 . CBS/New York Times 9/10-14/10 21 70 9 -49 . AP-GfK 9/8-13/10 26 73 * -47 . Fox/Opinion Dynamics RV 9/1-2/10 22 70 8 -48 . ABC/Washington Post 8/30 - 9/2/10 25 72 4 -47 . NBC/Wall Street Journal 8/26-30/10 21 71 8 -50 . CBS 8/20-24/10 22 71 7 -49 . AP-GfK 8/11-16/10 24 74 * -50 . NBC/Wall Street Journal 8/5-9/10 21 72 7 -51 . Gallup 8/5-8/10 19 75 6 -56 . FOX/Opinion Dynamics RV 7/27-28/10 21 71 8 -50 . Gallup 7/8-11/10 20 73 7 -53 . FOX/Opinion Dynamics RV 6/29-30/10 24 66 10 -42 . NBC/Wall Street Journal 6/17-21/10 22 73 5 -51 . CBS/New York Times 6/16-20/10 19 70 11 -51 . AP-GfK 6/9-14/10 24 73 * -49 . USA Today/Gallup 6/11-13/10 20 74 6 -54 . FOX/Opinion Dynamics RV 6/8-9/10 22 69 8 -47 . ABC/Washington Post 6/3-6/10 26 71 2 -45 . CBS 5/20-24/10 15 77 8 -62 . FOX/Opinion Dynamics RV 5/18-19/10 22 65 13 -43 . AP-GfK 5/7-11/10 28 71 * -43 . NBC/Wall Street Journal 5/6-10/10 21 72 7 -51 . Gallup 5/3-6/10 21 73 6 -52 . FOX/Opinion Dynamics RV 4/20-21/10 22 68 10 -46 . Quinnipiac RV 4/14-19/10 20 71 9 -51 . AP-GfK 4/7-12/10 28 70 * -42 . CBS/New York Times 4/5-12/10 17 73 10 -56 . Gallup 4/8-11/10 23 72 6 -49 . FOX/Opinion Dynamics RV 4/6-7/10 21 72 6 -51 . CBS 3/29 - 4/1/10 16 74 10 -58 . Washington Post 3/23-26/10 24 72 4 -48 . CBS 3/18-21/10 14 76 10 -62 . FOX/Opinion Dynamics RV 3/16-17/10 18 76 7 -58 . NBC/Wall Street Journal 3/11, 13-14/10 17 77 6 -60 . AP-GfK 3/3-8/10 22 76 * -54 . Gallup 3/4-7/10 16 80 4 -64 . FOX/Opinion Dynamics RV 2/23-24/10 14 80 6 -66 . CBS/New York Times 2/5-8/10 15 75 10 -60 . ABC/Washington Post 2/4-8/10 26 71 3 -45 . FOX/Opinion Dynamics RV 2/2-3/10 22 69 8 -47 . Gallup 2/1-3/10 18 78 4 -60 . Ipsos/McClatchy 1/28-31/10 21 74 * -53 . NPR LV 1/20-21, 23/10 28 67 5 -39 . CBS 1/14-17/10 23 63 14 -40 . AP-GfK 1/12-17/10 32 66 * -34 . NBC/Wall Street Journal 1/10-14/10 21 67 12 -46 . FOX/Opinion Dynamics RV 1/12-13/10 27 63 10 -36 . CNN/Opinion Research 1/8-10/10 27 72 1 -45 . Gallup 1/8-10/10 24 71 5 -47 . NBC/Wall Street Journal 12/11-14/09 22 68 10 -46 . AP-GfK 12/10-14/09 33 65 * -32 . Gallup 12/11-13/09 25 69 5 -44 . FOX/Opinion Dynamics RV 12/8-9/09 33 59 8 -26 . FOX/Opinion Dynamics RV 11/17-18/09 26 63 11 -37 . CBS 11/13-16/09 26 60 14 -34 . AP-GfK 11/5-9/09 30 66 * -36 . Gallup 11/5-8/09 26 68 6 -42 . Ipsos/McClatchy 10/29 - 11/1/09 29 68 * -39 . NBC/Wall Street Journal 10/22-25/09 24 65 11 -41 . CNN/Opinion Research 10/16-18/09 29 69 2 -40 . FOX/Opinion Dynamics RV 10/13-14/09 24 66 10 -42 . CBS 10/5-8/09 22 65 13 -43 . AP-GfK 10/1-5/09 33 64 * -31 . Gallup 10/1-4/09 21 72 7 -51 . NBC/Wall Street Journal 9/17-20/09 22 66 12 -44 . FOX/Opinion Dynamics RV 9/15-16/09 27 64 9 -37 . AP-GfK 9/3-8/09 28 69 * -41 . Gallup 8/31 - 9/2/09 31 63 6 -32 . CBS 8/27-31/09 26 58 16 -32 . FOX/Opinion Dynamics RV 8/11-12/09 30 59 11 -29 . Gallup 8/6-9/09 31 62 6 -31 . NBC/Wall Street Journal 7/24-27/09 24 63 13 -39 . NPR LV 7/22-26/09 33 61 6 -28 . FOX/Opinion Dynamics RV 7/21-22/09 30 60 10 -30 . AP-GfK 7/16-20/09 32 63 * -31 . Gallup 7/10-12/09 32 54 14 -22 . CBS 7/9-12/09 22 65 13 -43 . Gallup 6/14-17/09 33 61 6 -28 . NBC/Wall Street Journal 6/12-15/09 29 57 14 -28 . Ipsos/McClatchy 6/4-8/09 39 52 * -13 . AP-GfK 5/28 - 6/1/09 38 55 * -17 . FOX/Opinion Dynamics RV 5/12-13/09 41 49 10 -8 . Gallup 5/7-10/09 37 57 7 -20 . NBC/Wall Street Journal 4/23-26/09 28 58 14 -30 . CBS/New York Times 4/22-26/09 28 55 17 -27 . AP-GfK 4/16-20/09 38 57 * -19 . Gallup 4/6-9/09 36 55 9 -19 . CNN/Opinion Research 4/3-5/09 35 63 2 -28 . CBS/New York Times 4/1-5/09 26 64 10 -38 . FOX/Opinion Dynamics RV 3/31 - 4/1//09 38 52 10 -14 . CBS 3/20-22/09 30 56 14 -26 . CBS 3/12-16/09 30 56 14 -26 . NPR LV 3/10-12, 14/09 36 58 6 -22 . Gallup 3/5-8/09 39 54 7 -15 . FOX/Opinion Dynamics RV 3/3-4/09 41 48 10 -7 . NBC/Wall Street Journal 2/26 - 3/1/09 31 54 15 -23 . CBS/New York Times 2/18-22/09 26 63 11 -37 . FOX/Opinion Dynamics RV 2/17-18/09 39 50 10 -11 . AP-GfK 2/12-17/09 31 59 * -28 . Gallup 2/9-12/09 31 61 9 -30 . Ipsos/McClatchy 2/6-9/09 37 59 * -22 . CNN/Opinion Research 2/7-8/09 29 71 - -42 . CBS 2/2-4/09 26 62 12 -36 . FOX/Opinion Dynamics RV 1/27-28/09 40 46 14 -6 . FOX/Opinion Dynamics RV 1/13-14/09 23 68 10 -45 . NBC/Wall Street Journal 1/9-12/09 23 68 9 -45 . USA Today/Gallup 1/9-11/09 19 76 5 -57 . FOX/Opinion Dynamics RV 12/9-10/08 20 71 9 -51 . NBC/Wall Street Journal 12/5-8/08 21 69 10 -48 . AP-GfK 12/3-8/08 24 67 * -43 . Gallup 12/4-7/08 20 74 6 -54 . Gallup 11/13-16/08 19 74 7 -55 . AP-GfK 11/6-10/08 21 71 * -50 . FOX/Opinion Dynamics RV 11/1-2/08 18 75 7 -57 . FOX/Opinion Dynamics RV 10/28-29/08 17 76 6 -59 . CBS/New York Times 10/25-29/08 15 75 10 -60 . CBS/New York Times 10/19-22/08 17 70 13 -53 . FOX/Opinion Dynamics RV 10/20-21/08 19 72 9 -53 . NBC/Wall Street Journal RV 10/17-20/08 12 79 9 -67 . AP-GfK 10/16-20/08 23 74 * -51 . CBS/New York Times 10/10-13/08 12 74 14 -62 . FOX/Opinion Dynamics RV 10/8-9/08 13 77 10 -64 . NBC/Wall Street Journal RV 10/4-5/08 13 78 9 -65 . CBS 10/3-5/08 15 73 12 -58 . CNN/Opinion Research 10/3-5/08 23 76 1 -53 . Gallup 10/3-5/08 18 77 5 -59 . CBS 9/27-30/08 15 72 13 -57 . FOX/Opinion Dynamics RV 9/22-23/08 17 73 9 -56 . NBC/Wall Street Journal RV 9/19-22/08 15 73 12 -58 . CNN/Opinion Research 9/19-21/08 22 78 1 -56 . Gallup 9/8-11/08 18 77 6 -59 . FOX/Opinion Dynamics RV 9/8-9/08 23 68 8 -45 . Diageo/Hotline RV 8/29-31/08 18 75 7 -57 . Diageo/Hotline RV 8/18-24/08 16 78 6 -62 . FOX/Opinion Dynamics RV 8/19-20/08 20 73 7 -53 . L.A. Times/Bloomberg 8/15-18/08 17 73 10 -56 . Quinnipiac LV 8/12-17/08 16 74 10 -58 . Gallup 8/7-10/08 18 73 9 -55 . AP-Ipsos 7/31 - 8/4/08 19 75 * -56 . CNN/Opinion Research 7/27-29/08 22 77 1 -55 . Research 2000 LV 7/25-27/08 13 81 6 -68 . FOX/Opinion Dynamics RV 7/22-23/08 21 68 11 -47 . NBC/Wall Street Journal RV 7/18-21/08 15 75 10 -60 . AP-Ipsos 7/10-14/08 18 77 * -59 . ABC/Washington Post 7/10-13/08 23 71 6 -48 . Gallup 7/10-13/08 14 75 10 -61 . Quinnipiac LV 7/8-13/08 14 77 9 -63 . FOX/Opinion Dynamics RV 6/17-18/08 19 69 13 -50 . AP-Ipsos 6/12-16/08 23 72 * -49 . Gallup 6/9-12/08 19 74 7 -55 . NBC/Wall Street Journal RV 6/6-9/08 13 79 8 -66 . Quinnipiac RV 5/8-12/08 16 76 8 -60 . Gallup 5/8-11/08 18 76 6 -58 . NPR LV 5/7-8, 10/08 22 73 4 -51 . Diageo/Hotline RV 4/30 - 5/3/08 18 75 8 -57 . FOX/Opinion Dynamics RV 4/28-29/08 22 67 11 -45 . CBS/New York Times 4/25-29/08 21 68 11 -47 . AP-Ipsos 4/7-9/08 23 71 * -48 . Gallup 4/6-9/08 20 71 9 -51 . Diageo/Hotline RV 3/28-31/08 23 72 6 -49 . FOX/Opinion Dynamics RV 3/18-19/08 20 67 12 -47 . NBC/Wall Street Journal RV 3/7-10/08 19 69 12 -50 . Gallup 3/6-9/08 21 71 8 -50 . AP-Ipsos 3/3-5/08 24 72 * -48 . FOX/Opinion Dynamics RV 2/19-20/08 22 68 10 -46 . Diageo/Hotline RV 2/14-17/08 28 63 9 -35 . AP-Ipsos 2/4-6/08 22 74 * -52 . ABC/Washington Post 1/30 - 2/1/08 33 59 8 -26 . FOX/Opinion Dynamics RV 1/30-31/08 22 66 12 -44 . NPR LV 1/29-31/08 28 65 7 -37 . NBC/Wall Street Journal 1/20-22/08 18 70 12 -52 . Diageo/Hotline RV 1/10-12/08 23 70 7 -47 . AP-Ipsos 1/7-9/08 26 69 * -43 . Gallup 1/4-6/08 23 71 6 -48 . FOX/Opinion Dynamics RV 12/18-19/07 25 60 15 -35 . NBC/Wall Street Journal 12/14-17/07 18 70 12 -52 . Diageo/Hotline RV 12/10-14/07 22 69 10 -47 . ABC/Washington Post 12/6-9/07 32 60 8 -28 . Gallup 12/6-9/07 22 70 8 -48 . CBS/New York Times 12/5-9/07 21 64 15 -43 . AP-Ipsos 12/3-5/07 25 70 * -45 . FOX/Opinion Dynamics RV 11/13-14/07 26 61 14 -35 . Gallup 11/11-14/07 20 69 11 -49 . AP-Ipsos 11/5-7/07 25 70 * -45 . NBC/Wall Street Journal 11/1-5/07 19 68 13 -49 . ABC/Washington Post 10/29 - 11/1/07 28 65 7 -37 . Quinnipiac RV 10/23-29/07 21 70 10 -49 . FOX/Opinion Dynamics RV 10/23-24/07 25 54 22 -29 . L.A. Times/Bloomberg RV 10/19-22/07 22 69 9 -47 . CBS 10/12-16/07 27 59 14 -32 . CNN/Opinion Research 10/12-14/07 22 75 3 -53 . Gallup 10/12-14/07 29 64 6 -35 . FOX/Opinion Dynamics RV 10/9-10/07 24 63 12 -39 . NPR LV 10/4, 6-7/07 25 69 6 -44 . Gallup 10/4-7/07 23 71 6 -48 . AP-Ipsos 10/1-3/07 22 73 * -51 . ABC/Washington Post 9/27-30/07 29 65 6 -36 . FOX/Opinion Dynamics RV 9/25-26/07 24 63 13 -39 . CBS 9/14-16/07 27 65 8 -38 . Gallup 9/14-16/07 24 71 5 -47 . FOX/Opinion Dynamics RV 9/11-12/07 32 56 11 -24 . AP-Ipsos 9/10-12/07 26 71 * -45 . NBC/Wall Street Journal 9/7-10/07 23 65 12 -42 . CBS/New York Times 9/4-8/07 23 66 11 -43 . FOX/Opinion Dynamics RV 8/21-22/07 24 60 17 -36 . Pew 8/1-18/07 21 65 14 -44 . Gallup 8/13-16/07 18 76 6 -58 . Quinnipiac RV 8/7-13/07 20 70 10 -50 . CBS 8/8-12/07 25 63 12 -38 . AP-Ipsos 8/6-8/07 25 72 * -47 . NBC/Wall Street Journal 7/27-30/07 24 63 13 -39 . CBS/New York Times 7/20-22/07 26 61 13 -35 . Diageo/Hotline RV 7/19-22/07 25 68 8 -43 . ABC/Washington Post 7/18-21/07 37 60 4 -23 . CBS/New York Times 7/9-17/07 29 59 12 -30 . Gallup 7/12-15/07 27 66 7 -39 . AP-Ipsos 7/9-11/07 24 70 * -46 . CBS 6/26-28/07 27 60 13 -33 . Newsweek 6/18-19/07 25 63 12 -38 . Gallup 6/11-14/07 24 71 5 -47 . NBC/Wall Street Journal 6/8-11/07 23 64 13 -41 . Quinnipiac RV 6/5-11/07 23 66 11 -43 . L.A. Times/Bloomberg 6/7-10/07 27 65 8 -38 . FOX/Opinion Dynamics RV 6/5-6/07 29 55 15 -26 . ABC/Washington Post 5/29 - 6/1/07 39 53 8 -14 . CBS/New York Times 5/18-23/07 36 52 12 -16 . Diageo/Hotline RV 5/16-20/07 31 61 8 -30 . FOX/Opinion Dynamics RV 5/15-16/07 32 53 15 -21 . Gallup 5/10-13/07 29 64 7 -35 . AP-Ipsos 5/7-9/07 35 60 * -25 . Quinnipiac RV 4/25 - 5/1/07 39 52 9 -13 . Diageo/Hotline RV 4/26-30/07 38 54 8 -16 . NPR LV 4/26-29/07 35 59 6 -24 . NBC/Wall Street Journal 4/20-23/07 31 52 17 -21 . FOX/Opinion Dynamics RV 4/17-18/07 35 49 16 -14 . ABC/Washington Post 4/12-15/07 44 54 3 -10 . CBS 4/9-12/07 34 54 12 -20 . L.A. Times/Bloomberg 4/5-9/07 34 58 8 -24 . Gallup 4/2-5/07 33 60 7 -27 . AP-Ipsos 4/2-4/07 40 57 * -17 . Diageo/Hotline RV 3/29 - 4/1/07 37 52 11 -15 . FOX/Opinion Dynamics RV 3/27-28/07 30 54 16 -24 . Gallup 3/11-14/07 28 64 8 -36 . CBS/New York Times 3/7-11/07 31 53 16 -22 . AP-Ipsos 3/5-7/07 33 63 * -30 . NBC/Wall Street Journal 3/2-5/07 31 53 16 -22 . FOX/Opinion Dynamics RV 2/27-28/07 32 49 20 -17 . CBS/New York Times 2/23-27/07 33 50 17 -17 . ABC/Washington Post 2/22-25/07 41 54 5 -13 . Diageo/Hotline RV 2/21-24/07 30 55 16 -25 . CBS 2/8-11/07 32 52 16 -20 . AP-Ipsos 2/5-7/07 34 58 * -24 . Gallup 2/1-4/07 37 55 8 -18 . FOX/Opinion Dynamics RV 1/30-31/07 33 44 22 -11 . CBS 1/18-21/07 33 49 18 -16 . ABC/Washington Post 1/16-19/07 43 50 8 -7 . AP-Ipsos 1/16-18/07 34 60 * -26 . Gallup 1/15-18/07 35 56 9 -21 . FOX/Opinion Dynamics RV 1/16-17/07 32 47 21 -15 . L.A. Times/Bloomberg 1/13-16/07 36 44 20 -8 . Diageo/Hotline RV 1/11-14/07 31 49 21 -18 . AP-Ipsos 1/8-10/07 32 62 * -30 . Gallup 12/11-14/06 21 74 5 -53 . ABC/Washington Post 12/7-11/06 37 57 6 -20 . AP-Ipsos 12/4-6/06 27 67 * -40 . AP-Ipsos 11/13-15/06 26 70 * -44 . Gallup 11/9-12/06 26 67 7 -41 . Diageo/Hotline RV 11/8-12/06 27 63 11 -36 . FOX/Opinion Dynamics LV 11/4-5/06 29 57 13 -28 . USA Today/ Gallup 11/2-5/06 26 63 11 -37 . ABC/Washington Post RV 11/1-4/06 36 60 4 -24 . CBS/New York Times 10/27-31/06 29 56 15 -27 . AP-AOL 10/20-25/06 25 72 * -47 . Diageo/Hotline RV 10/19-23/06 27 65 9 -38 . USA Today/ Gallup 10/20-22/06 26 67 6 -41 . ABC/Washington Post 10/19-22/06 31 65 4 -34 . NBC/Wall Street Journal RV 10/13-16/06 16 75 9 -59 . Gallup 10/9-12/06 23 71 6 -48 . FOX/Opinion Dynamics LV 10/10-11/06 31 63 6 -32 . CNN 10/6-8/06 28 63 9 -35 . USA Today/ Gallup 10/6-8/06 24 68 7 -44 . ABC/Washington Post 10/5-8/06 32 66 2 -34 . CBS/New York Times 10/5-8/06 27 64 9 -37 . Time 10/3-4/06 31 57 12 -26 . AP-Ipsos 10/2-4/06 27 69 * -42 . Diageo/Hotline RV 9/24-26/06 28 65 7 -37 . L.A. Times/Bloomberg 9/16-19/06 30 57 13 -27 . CBS/New York Times 9/15-19/06 25 61 14 -36 . FOX/Opinion Dynamics LV 9/12-13/06 29 53 18 -24 . AP-Ipsos * 9/11-13/06 29 68 -39 . NBC/Wall Street Journal RV 9/8-11/06 20 65 15 -45 . Gallup 9/7-10/06 29 63 8 -34 . ABC 9/5-7/06 40 55 5 -15 . FOX/Opinion Dynamics RV 8/29-30/06 24 61 15 -37 . Cook/RT Strategies RV 8/25-27/06 31 58 12 -27 . Time 8/22-24/06 30 59 11 -29 . CBS/New York Times 8/17-21/06 29 60 11 -31 . Diageo/Hotline RV 8/17-20/06 31 61 8 -30 . FOX/Opinion Dynamics RV 8/8-9/06 24 58 17 -34 . Gallup 8/7-10/06 27 65 8 -38 . AP-Ipsos 8/7-9/06 29 69 * -30 . ABC/Washington Post 8/3-6/06 36 60 4 -24 . Cook/RT Strategies RV 7/28-30/06 28 57 15 -29 . CBS/New York Times 7/21-25/06 28 58 14 -30 . NBC/Wall Street Journal 7/21-24/06 25 60 15 -35 . Diageo/Hotline RV 7/20-23/06 31 58 11 -27 . FOX/Opinion Dynamics RV 7/11-12/06 25 61 14 -36 . AP-Ipsos * 7/10-12/06 27 68 -41 . Gallup 7/6-9/06 29 61 10 -32 . Time 6/27-29/06 31 55 14 -24 . Diageo/Hotline RV 6/21-25/06 30 62 8 -32 . FOX/Opinion Dynamics RV 6/13-14/06 29 59 12 -30 . NBC/Wall Street Journal 6/9-12/06 23 64 13 -41 . CBS 6/10-11/06 26 60 14 -34 . AP-Ipsos * 6/5-7/06 24 73 -49 . Cook/RT Strategies RV 6/1-4/06 27 56 17 -29 . Gallup 6/1-4/06 27 63 10 -36 . Diageo/Hotline RV 5/18-21/06 29 64 7 -35 . FOX/Opinion Dynamics RV 5/16-18/06 27 56 17 -29 . CBS 5/16-17/06 26 59 15 -33 . ABC/Washington Post 5/11-15/06 33 63 4 -30 . Gallup 5/8-11/06 21 71 8 -50 . CBS/New York Times 5/4-8/06 23 64 13 -41 . AP-Ipsos * 5/1-3/06 25 71 -46 . NBC/Wall Street Journal 4/21-24/06 22 65 13 -43 . FOX/Opinion Dynamics RV 4/18-19/06 25 52 23 -27 . Gallup 4/10-13/06 23 70 7 -47 . L.A. Times/Bloomberg 4/8-11/06 28 61 11 -33 . ABC/Washington Post 4/6-9/06 35 62 3 -27 . CBS 4/6-9/06 27 61 12 -34 . AP-Ipsos * 4/3-5/06 30 67 -37 . Time 3/22-23/06 39 49 12 -10 . Gallup 3/13-16/06 27 65 8 -38 . FOX/Opinion Dynamics RV 3/14-15/06 29 55 16 -26 . NBC/Wall Street Journal 3/10-13/06 33 53 14 -20 . CBS 3/9-12/06 32 54 14 -22 . AP-Ipsos * 3/6-8/06 31 66 -35 . ABC/Washington Post 3/2-5/06 36 62 3 -26 . Quinnipiac RV 2/21-28/06 25 63 11 -38 . CBS 2/22-26/06 28 61 11 -33 . Diageo/Hotline RV 2/16-19/06 30 61 8 -31 . Gallup 2/6-9/06 25 65 10 -40 . AP-Ipsos * 2/6-8/06 35 61 -26 . NBC/Wall Street Journal 1/26-29/06 29 56 15 -27 . ABC/Washington Post 1/23-26/06 43 53 4 -10 . FOX/Opinion Dynamics RV 1/24-25/06 34 51 16 -17 . L.A. Times/Bloomberg 1/22-25/06 35 55 10 -20 . CBS/New York Times 1/20-25/06 29 61 10 -32 . Diageo/Hotline RV 1/12-15/06 31 59 10 -28 . Gallup 1/9-12/06 27 67 7 -40 . ABC/Washington Post 1/5-8/06 41 55 5 -14 . CBS 1/5-8/06 27 57 16 -30 . AP-Ipsos * 1/3-5/06 34 63 -29 . ABC/Washington Post 12/15-18/05 43 53 4 -10 . NPR LV 12/15, 17-18/05 43 51 6 -8 . FOX/Opinion Dynamics RV 12/13-14/05 30 52 18 -22 . Diageo/Hotline RV 12/12-13/05 26 64 10 -38 . NBC/Wall Street Journal 12/9-12/05 25 60 15 -35 . Gallup 12/5-8/05 29 63 8 -34 . AP-Ipsos * 12/5-7/05 31 65 -34 . CBS/New York Times 12/2-6/05 33 53 14 -20 . Quinnipiac RV 11/28 - 12/4/05 27 61 11 -34 . Time 11/29 - 12/1/05 33 55 13 -22 . Diageo/Hotline RV 11/11-15/05 36 53 12 -17 . Gallup 11/7-10/05 29 63 8 -34 . NBC/Wall Street Journal 11/4-7/05 28 57 15 -29 . AP-Ipsos * 10/31 - 11/2/05 37 59 -22 . ABC/Washington Post 10/30 - 11/2/05 37 59 4 -22 . CBS 10/30 - 11/1/05 34 53 13 -19 . Gallup 10/13-16/05 29 64 7 -35 . Diageo/Hotline RV 10/12-16/05 29 62 10 -33 . AP-Ipsos * 10/3-5/05 35 61 -26 . CBS 10/3-5/05 31 57 12 -26 . Newsweek 9/29-30/05 32 56 12 -24 . FOX/Opinion Dynamics RV 9/13-14/05 34 49 17 -15 . Gallup 9/12-15/05 35 59 6 -24 . CBS/New York Times 9/9-13/05 34 54 12 -20 . NBC/Wall Street Journal 9/9-12/05 29 53 18 -24 RV = registered voters. LV = likely voters.* AP-GfK question includes a \"neither\" option. AP-Ipsos question includes a \"mixed feelings\" option.\n",
            "After Pre-processing: tweet congress job rate see also detail trend approv disap prove unsur approveminu disapprov quinnipiac rv 5 31 6 5 18 13 78 9 65 gallup 5 1 10 18 17 79 4 62 monmouth u 4 26 30 18 17 71 12 54 fox rv 4 22 24 18 19 70 11 51 gallup 4 2 11 18 18 78 4 60 quinnipiac rv 4 6 9 18 12 81 7 69 cnn 3 22 25 18 18 75 7 57 gallup 3 1 8 18 15 79 6 64 quinnipiac rv 3 3 5 18 13 80 6 67 monmouth u 3 2 5 18 18 72 11 54 suffolk usa today rv 2 20 24 18 15 75 11 60 gallup 2 1 10 18 15 81 4 66 quinnipiac rv 2 2 5 18 15 77 8 62 monmouth u 1 28 30 18 21 68 11 47 fox rv 1 21 23 18 15 70 15 55 cnn 1 14 15 17 18 18 18 76 6 58 cb 1 13 16 18 18 75 8 57 quinnipiac rv 1 12 16 18 16 78 6 62 gallup 1 2 7 18 20 75 5 55 quinnipiac rv 12 13 18 17 13 79 8 66 monmouth u 12 10 12 17 16 65 19 49 gallup 12 4 11 17 17 78 5 61 quinnipiac rv 11 29 12 4 17 12 80 8 68 gallup 11 2 8 17 13 81 6 68 gallup 10 5 11 17 13 80 7 67 monmouth u 9 15 19 17 17 69 15 52 gallup 9 6 10 17 16 80 5 64 fox rv 8 27 29 17 15 74 11 59 quinnipiac rv 8 17 22 17 10 83 7 73 quinnipiac rv 8 9 15 17 10 85 5 75 monmouth u 8 10 14 17 18 69 13 51 cb 8 3 6 17 19 73 8 54 cnn 8 3 6 17 20 75 5 55 gallup 8 2 6 17 16 79 6 63 quinnipiac rv 7 27 8 1 17 10 84 6 74 monmouth u 7 13 16 17 19 70 11 51 gallup 7 5 9 17 20 74 7 54 gallup 6 7 11 17 21 72 7 51 monmouth u 5 13 15 17 17 19 68 13 49 gallup 5 3 7 17 20 74 6 54 cnn orc 4 22 25 17 24 74 3 50 nbc wsj 4 17 20 17 20 72 8 52 gallup 4 5 9 17 20 74 6 54 quinnipiac rv 3 2 6 17 18 70 12 52 monmouth u 3 2 5 17 25 59 16 34 gallup 3 1 5 17 24 67 9 43 cnn orc 3 1 4 17 28 69 3 41 nbc wsj 2 18 22 17 29 60 11 31 cb 2 17 21 17 22 67 12 45 gallup 2 1 5 17 28 67 5 39 quinnipiac rv 1 20 25 17 19 67 14 48 fox rv 1 15 18 17 17 74 9 57 cb 1 13 16 17 24 71 6 47 cnn orc 1 12 15 17 20 77 3 57 monmouth u 1 12 15 17 23 66 11 43 quinnipiac rv 1 5 9 17 12 79 9 67 gallup 1 4 8 17 19 76 5 57 gallup 12 7 11 16 18 78 4 60 allstat atlant media 11 16 21 16 17 73 10 56 gallup 11 9 13 16 19 74 7 55 cb new york time 10 28 11 1 16 15 76 8 61 gallup 10 5 9 16 18 79 3 61 fox rv 9 27 29 16 19 74 7 55 monmouth u rv 9 22 25 16 15 77 8 62 gallup 9 7 11 16 20 76 5 56 gallup 8 3 7 16 18 78 4 60 monmouth u rv 8 4 7 16 14 78 9 64 gallup 7 13 17 16 13 83 4 70 cb new york time 7 8 12 16 15 79 7 64 allstat atlant media 6 19 24 16 13 80 7 67 monmouth u rv 6 15 19 16 17 76 7 59 gallup 6 1 5 16 16 80 4 64 cb new york time 5 13 17 16 14 77 9 63 gallup 5 4 8 16 18 78 4 60 cb 4 8 12 16 14 77 9 63 gallup 4 6 10 16 17 79 4 62 fox rv 3 20 22 16 14 77 9 63 cb new york time 3 17 20 16 17 75 8 58 cnn orc 3 17 20 16 15 81 3 66 monmouth u rv 3 17 20 16 19 72 9 53 gallup 3 2 6 16 13 84 3 71 gallup 2 3 7 16 14 81 4 67 monmouth u rv 1 15 18 16 15 78 7 63 cb new york time 1 7 10 16 15 75 10 60 gallup 1 6 10 16 16 80 4 64 allstat nat l journal 1 2 6 16 15 77 8 62 cnn orc 12 17 21 15 14 85 2 71 gallup 12 2 6 15 13 82 5 69 cb new york time 12 4 8 15 15 74 11 59 gallup 11 4 8 15 11 86 3 75 cb new york time 10 21 25 15 13 75 12 62 fox rv 10 10 12 15 13 78 8 65 gallup 10 7 11 15 13 82 4 69 cb 10 4 8 15 12 79 9 67 allstat nat l journal 9 10 15 15 13 78 10 65 gallup 9 9 13 15 14 83 2 69 gallup 8 5 9 15 14 82 5 68 cb 7 29 8 2 15 17 74 9 57 gallup 7 8 12 15 17 78 5 61 gallup 6 2 7 15 17 79 4 62 cb new york time 5 28 31 15 15 78 8 63 allstat nat l journal 5 17 27 15 17 73 10 56 gallup 5 6 10 15 19 77 5 58 cb new york time 4 30 5 3 15 12 80 9 68 fox rv 4 19 21 15 19 75 7 56 suffolk usa today 4 8 13 15 11 77 13 66 gallup 4 9 12 15 15 80 5 65 fox rv 3 29 31 15 21 70 8 49 abc washington post 3 26 29 15 22 70 7 48 cb 3 21 24 15 22 70 8 48 gallup 3 5 8 15 18 75 7 57 fox rv 3 1 3 15 17 76 7 59 allstat nat l journal 2 18 22 15 18 71 11 53 cb 2 13 17 15 18 73 9 55 cnn orc 2 12 15 15 21 78 2 57 gallup 2 8 11 15 20 75 5 55 fox rv 2 8 10 15 21 72 7 51 fox rv 1 25 27 15 18 73 8 55 nbc wall street journal 1 14 17 15 16 76 8 60 fox rv 1 11 13 15 15 74 11 59 cb 1 9 12 15 16 72 12 56 gallup 1 5 8 15 16 76 8 60 nbc wall street journal 12 10 14 14 16 78 6 62 gallup 12 8 11 14 16 80 4 64 fox rv 12 7 9 14 14 80 6 66 gallup 11 6 9 14 15 79 6 64 gallup 10 29 11 2 14 20 75 5 55 fox rv 10 25 27 14 13 80 7 67 cb 10 23 27 14 14 76 10 62 cnn orc 10 24 26 14 13 85 2 72 allstat nat l journal 10 22 26 14 9 80 11 71 abc washington post 10 15 19 14 20 77 3 57 gallup 10 12 15 14 14 82 4 68 fox rv 10 12 14 14 12 78 9 66 nbc wall street journal rv 10 8 12 14 12 83 5 71 cb 10 3 6 14 15 78 7 63 fox rv 9 7 9 14 13 78 9 65 cnn orc 9 5 7 14 14 83 3 69 abc washington post 9 4 7 14 15 77 7 62 gallup 9 4 7 14 14 82 4 68 battleground lv 8 23 28 14 16 80 5 64 gallup 8 7 10 14 13 83 4 70 cb 7 29 8 4 14 15 78 7 63 nbc wall street journal 7 30 8 3 14 14 79 7 65 fox rv 7 20 22 14 13 79 8 66 gallup 7 7 10 14 15 80 5 65 cb new york time 6 20 22 14 14 78 8 64 gallup 6 5 8 14 16 81 3 65 fox rv 6 1 3 14 13 78 8 65 cb 5 16 19 14 12 80 8 68 fox rv 5 10 12 13 14 16 73 11 57 gallup 5 8 11 14 15 80 6 65 fox rv 4 13 15 14 15 76 9 61 allstat nat l journal 4 9 13 14 11 80 9 69 gallup 4 3 6 14 13 83 3 70 cb 3 20 23 14 18 76 6 58 battleground lv 3 16 20 14 13 82 5 69 gallup 3 6 9 14 15 83 2 68 fox rv 3 2 4 14 12 78 10 66 cb new york time 2 19 23 14 13 80 7 67 fox rv 2 9 11 14 14 81 5 67 gallup 2 6 9 14 12 83 6 71 nbc wall street journal 1 22 25 14 13 81 6 68 abc washington post 1 20 23 14 16 81 3 65 fox rv 1 19 21 14 13 81 5 68 cb 1 17 21 14 11 82 7 71 battleground lv 1 12 16 14 14 81 4 67 gallup 1 5 8 14 13 82 5 69 fox rv 12 14 16 13 16 79 5 63 abc washington post 12 12 15 13 16 81 3 65 cb new york time 12 5 8 13 10 83 7 73 gallup 12 5 8 13 12 85 3 73 cb 11 15 18 13 11 85 5 74 fox rv 11 10 12 13 10 85 5 75 gallup 11 7 10 13 9 86 5 77 allstat nat l journal 11 2 6 13 9 84 6 75 battleground lv 10 27 31 13 9 87 4 78 fox rv 10 20 22 13 9 85 6 76 cb 10 18 21 13 9 85 6 76 cnn orc 10 18 20 13 12 86 2 74 abc washington post 10 17 20 13 12 85 3 73 gallup 10 3 6 13 11 85 4 74 fox rv 10 1 2 13 13 81 6 68 cnn orc 9 27 29 13 10 87 4 77 cb new york time 9 19 23 13 14 80 6 66 cb new york time 9 6 8 13 24 68 8 44 cnn orc 9 6 8 13 20 78 3 58 fox rv 9 6 8 13 17 75 7 58 gallup 9 5 8 13 19 76 5 57 allstat nat l journal 9 3 7 13 13 76 11 63 fox rv 7 21 23 13 18 74 7 56 cb 7 18 22 13 17 76 6 59 abc washington post 7 18 21 13 21 73 7 52 nbc wall street journal 7 17 21 13 12 83 5 71 gallup 7 10 14 13 15 78 7 63 fox rv 6 22 24 13 15 77 8 62 cnn orc 6 11 13 13 16 83 1 67 gallup 6 1 4 13 17 78 5 61 cb new york time 5 31 6 4 13 13 80 7 67 allstat nat l journal 5 29 6 2 13 17 77 6 60 fox rv 5 18 20 13 16 76 8 60 gallup 5 2 7 13 16 79 5 63 cb new york time 4 24 28 13 17 75 8 58 fox rv 4 20 22 13 17 74 9 57 allstat nat l journal 4 5 9 13 17 76 7 59 gallup 4 4 7 13 15 79 6 64 cb 3 20 24 13 11 81 8 70 fox rv 3 17 19 13 14 79 6 65 abc washington post 3 7 10 13 16 80 4 64 gallup 3 7 10 13 13 83 4 70 fox rv 2 25 27 13 16 77 8 61 gallup 2 7 10 13 15 81 4 66 cb 2 6 10 13 14 77 8 63 fox rv 2 4 6 13 17 77 6 60 fox rv 1 15 17 13 16 76 8 60 cnn orc 1 14 15 13 21 79 1 58 nbc wall street journal 1 12 15 13 14 81 5 67 cb new york time 1 11 15 13 12 82 6 70 ap gfk 1 10 14 13 17 77 60 abc washington post 1 10 13 13 19 76 4 57 gallup 1 7 10 13 14 81 6 67 usa today gallup 12 14 17 12 18 76 5 58 cb 12 12 16 12 11 81 9 70 fox rv 12 9 11 12 17 74 9 57 ap gfk 11 29 12 3 12 23 74 51 allstat nat l journal 11 25 12 1 12 21 72 8 51 gallup 11 15 18 12 18 75 7 57 cnn orc 11 2 4 12 17 74 9 57 cb new york time 10 25 28 12 15 75 10 60 npr lv 10 23 25 12 16 79 5 63 gallup 10 15 16 12 21 69 11 48 cb new york time 9 8 12 12 16 74 10 58 gallup 9 6 9 12 13 83 4 70 cb 8 22 26 12 14 74 12 60 gallup 8 9 12 12 10 83 7 73 cb new york time 7 11 16 12 12 79 9 67 gallup 7 9 12 12 16 78 7 62 npr lv 7 9 12 12 19 74 7 55 ap gfk 6 14 18 12 22 75 53 fox rv 6 3 5 12 17 75 9 58 cb new york time 5 31 6 3 12 15 77 8 62 ap gfk 5 3 7 12 18 78 60 cb new york time 4 13 17 12 13 77 10 64 gallup 4 9 12 12 17 79 4 62 fox rv 4 9 11 12 12 78 10 66 gallup 3 8 11 12 12 82 6 70 ap gfk 2 16 20 12 19 78 59 cb new york time 2 8 13 12 10 82 8 72 fox rv 2 6 9 12 13 79 8 66 gallup 2 2 5 12 10 86 4 76 nbc wall street journal 1 22 24 12 13 80 7 67 cb new york time 1 12 17 12 13 79 8 66 abc washington post 1 12 15 12 13 84 3 71 cnn orc 1 11 12 12 11 86 2 75 gallup 1 5 8 12 13 81 6 68 cb 1 4 8 12 12 80 8 68 cnn orc 12 16 18 11 16 83 1 67 gallup 12 15 18 11 11 86 3 75 cb 12 14 18 11 11 83 6 72 ap gfk 12 8 12 11 15 84 69 cb 12 5 7 11 11 82 7 71 fox rv 12 5 7 11 12 83 5 71 fox rv 11 13 15 11 12 80 8 68 cb 11 6 10 11 9 83 8 74 gallup 11 3 6 11 13 82 5 69 cb new york time 10 19 24 11 9 84 7 75 ap gfk 10 13 17 11 16 82 66 gallup 10 6 9 11 13 81 6 68 abc washington post 9 29 10 2 11 14 82 4 68 cb 9 28 10 2 11 11 80 9 69 fox rv 9 25 27 11 11 83 6 72 cb new york time 9 10 15 11 12 80 8 68 cnn orc 9 9 11 11 15 84 1 69 gallup 9 8 11 11 15 82 3 67 nbc wall street journal 8 27 31 11 13 82 5 69 ap gfk 8 18 22 11 12 87 75 gallup 8 11 14 11 13 84 4 71 fox rv 8 7 9 11 10 81 8 71 cnn orc 8 1 11 14 84 2 70 gallup 7 7 10 11 18 77 5 59 fox rv 6 26 28 11 20 71 9 51 cb new york time 6 24 28 11 20 70 10 50 time 6 20 21 11 21 72 8 51 ap gfk 6 16 20 11 21 76 55 nbc wall street journal 6 9 13 11 18 74 8 56 gallup 6 9 12 11 17 76 7 59 cb 6 3 7 11 18 72 10 54 fox rv 5 15 17 11 24 69 7 45 ap gfk 5 5 9 11 30 68 38 gallup 5 5 8 11 24 70 7 46 nbc 5 5 7 11 22 70 8 48 fox rv 4 25 27 11 18 75 7 57 cb new york time 4 15 20 11 16 75 9 59 gallup 4 7 11 11 17 77 6 60 nbc wall street journal 3 31 4 4 11 20 73 7 53 ap gfk 3 24 28 11 27 71 44 cb 3 18 21 11 21 66 13 45 fox rv 3 14 16 11 24 65 12 41 abc washington post 3 10 13 11 27 69 4 42 gallup 3 3 6 11 18 74 7 56 nbc wall street journal 2 24 28 11 22 69 9 47 cb 2 11 14 11 24 62 14 38 fox rv 2 7 9 11 31 60 9 29 gallup 2 2 5 11 23 71 5 48 cnn opinion research 1 21 23 11 26 72 2 46 fox opinion dynam rv 1 18 19 11 22 65 13 43 abc washington post 1 13 16 11 28 66 7 38 ap gfk 1 5 10 11 26 69 43 gallup 1 7 9 11 20 73 7 53 gallup 12 10 12 10 13 83 4 70 cb 11 29 12 2 10 17 72 11 55 ap gfk 11 3 8 10 26 71 45 gallup 11 4 7 10 17 77 6 60 usa today gallup 10 28 31 10 21 73 6 52 fox opinion dynam rv 10 26 28 10 19 70 11 51 abc washington post rv 10 25 28 10 23 74 3 51 cb new york time lv 10 21 26 10 10 82 8 72 ap gfk 10 13 18 10 23 75 52 cb 10 1 5 10 18 71 11 53 abc washington post 9 30 10 3 10 24 73 3 49 fox opinion dynam rv 9 28 29 10 17 72 11 55 nbc wall street journal 9 22 26 10 20 73 7 53 cb new york time 9 10 14 10 21 70 9 49 ap gfk 9 8 13 10 26 73 47 fox opinion dynam rv 9 1 2 10 22 70 8 48 abc washington post 8 30 9 2 10 25 72 4 47 nbc wall street journal 8 26 30 10 21 71 8 50 cb 8 20 24 10 22 71 7 49 ap gfk 8 11 16 10 24 74 50 nbc wall street journal 8 5 9 10 21 72 7 51 gallup 8 5 8 10 19 75 6 56 fox opinion dynam rv 7 27 28 10 21 71 8 50 gallup 7 8 11 10 20 73 7 53 fox opinion dynam rv 6 29 30 10 24 66 10 42 nbc wall street journal 6 17 21 10 22 73 5 51 cb new york time 6 16 20 10 19 70 11 51 ap gfk 6 9 14 10 24 73 49 usa today gallup 6 11 13 10 20 74 6 54 fox opinion dynam rv 6 8 9 10 22 69 8 47 abc washington post 6 3 6 10 26 71 2 45 cb 5 20 24 10 15 77 8 62 fox opinion dynam rv 5 18 19 10 22 65 13 43 ap gfk 5 7 11 10 28 71 43 nbc wall street journal 5 6 10 10 21 72 7 51 gallup 5 3 6 10 21 73 6 52 fox opinion dynam rv 4 20 21 10 22 68 10 46 quinnipiac rv 4 14 19 10 20 71 9 51 ap gfk 4 7 12 10 28 70 42 cb new york time 4 5 12 10 17 73 10 56 gallup 4 8 11 10 23 72 6 49 fox opinion dynam rv 4 6 7 10 21 72 6 51 cb 3 29 4 1 10 16 74 10 58 washington post 3 23 26 10 24 72 4 48 cb 3 18 21 10 14 76 10 62 fox opinion dynam rv 3 16 17 10 18 76 7 58 nbc wall street journal 3 11 13 14 10 17 77 6 60 ap gfk 3 3 8 10 22 76 54 gallup 3 4 7 10 16 80 4 64 fox opinion dynam rv 2 23 24 10 14 80 6 66 cb new york time 2 5 8 10 15 75 10 60 abc washington post 2 4 8 10 26 71 3 45 fox opinion dynam rv 2 2 3 10 22 69 8 47 gallup 2 1 3 10 18 78 4 60 ipso mcclatchi 1 28 31 10 21 74 53 npr lv 1 20 21 23 10 28 67 5 39 cb 1 14 17 10 23 63 14 40 ap gfk 1 12 17 10 32 66 34 nbc wall street journal 1 10 14 10 21 67 12 46 fox opinion dynam rv 1 12 13 10 27 63 10 36 cnn opinion research 1 8 10 10 27 72 1 45 gallup 1 8 10 10 24 71 5 47 nbc wall street journal 12 11 14 09 22 68 10 46 ap gfk 12 10 14 09 33 65 32 gallup 12 11 13 09 25 69 5 44 fox opinion dynam rv 12 8 9 09 33 59 8 26 fox opinion dynam rv 11 17 18 09 26 63 11 37 cb 11 13 16 09 26 60 14 34 ap gfk 11 5 9 09 30 66 36 gallup 11 5 8 09 26 68 6 42 ipso mcclatchi 10 29 11 1 09 29 68 39 nbc wall street journal 10 22 25 09 24 65 11 41 cnn opinion research 10 16 18 09 29 69 2 40 fox opinion dynam rv 10 13 14 09 24 66 10 42 cb 10 5 8 09 22 65 13 43 ap gfk 10 1 5 09 33 64 31 gallup 10 1 4 09 21 72 7 51 nbc wall street journal 9 17 20 09 22 66 12 44 fox opinion dynam rv 9 15 16 09 27 64 9 37 ap gfk 9 3 8 09 28 69 41 gallup 8 31 9 2 09 31 63 6 32 cb 8 27 31 09 26 58 16 32 fox opinion dynam rv 8 11 12 09 30 59 11 29 gallup 8 6 9 09 31 62 6 31 nbc wall street journal 7 24 27 09 24 63 13 39 npr lv 7 22 26 09 33 61 6 28 fox opinion dynam rv 7 21 22 09 30 60 10 30 ap gfk 7 16 20 09 32 63 31 gallup 7 10 12 09 32 54 14 22 cb 7 9 12 09 22 65 13 43 gallup 6 14 17 09 33 61 6 28 nbc wall street journal 6 12 15 09 29 57 14 28 ipso mcclatchi 6 4 8 09 39 52 13 ap gfk 5 28 6 1 09 38 55 17 fox opinion dynam rv 5 12 13 09 41 49 10 8 gallup 5 7 10 09 37 57 7 20 nbc wall street journal 4 23 26 09 28 58 14 30 cb new york time 4 22 26 09 28 55 17 27 ap gfk 4 16 20 09 38 57 19 gallup 4 6 9 09 36 55 9 19 cnn opinion research 4 3 5 09 35 63 2 28 cb new york time 4 1 5 09 26 64 10 38 fox opinion dynam rv 3 31 4 1 09 38 52 10 14 cb 3 20 22 09 30 56 14 26 cb 3 12 16 09 30 56 14 26 npr lv 3 10 12 14 09 36 58 6 22 gallup 3 5 8 09 39 54 7 15 fox opinion dynam rv 3 3 4 09 41 48 10 7 nbc wall street journal 2 26 3 1 09 31 54 15 23 cb new york time 2 18 22 09 26 63 11 37 fox opinion dynam rv 2 17 18 09 39 50 10 11 ap gfk 2 12 17 09 31 59 28 gallup 2 9 12 09 31 61 9 30 ipso mcclatchi 2 6 9 09 37 59 22 cnn opinion research 2 7 8 09 29 71 42 cb 2 2 4 09 26 62 12 36 fox opinion dynam rv 1 27 28 09 40 46 14 6 fox opinion dynam rv 1 13 14 09 23 68 10 45 nbc wall street journal 1 9 12 09 23 68 9 45 usa today gallup 1 9 11 09 19 76 5 57 fox opinion dynam rv 12 9 10 08 20 71 9 51 nbc wall street journal 12 5 8 08 21 69 10 48 ap gfk 12 3 8 08 24 67 43 gallup 12 4 7 08 20 74 6 54 gallup 11 13 16 08 19 74 7 55 ap gfk 11 6 10 08 21 71 50 fox opinion dynam rv 11 1 2 08 18 75 7 57 fox opinion dynam rv 10 28 29 08 17 76 6 59 cb new york time 10 25 29 08 15 75 10 60 cb new york time 10 19 22 08 17 70 13 53 fox opinion dynam rv 10 20 21 08 19 72 9 53 nbc wall street journal rv 10 17 20 08 12 79 9 67 ap gfk 10 16 20 08 23 74 51 cb new york time 10 10 13 08 12 74 14 62 fox opinion dynam rv 10 8 9 08 13 77 10 64 nbc wall street journal rv 10 4 5 08 13 78 9 65 cb 10 3 5 08 15 73 12 58 cnn opinion research 10 3 5 08 23 76 1 53 gallup 10 3 5 08 18 77 5 59 cb 9 27 30 08 15 72 13 57 fox opinion dynam rv 9 22 23 08 17 73 9 56 nbc wall street journal rv 9 19 22 08 15 73 12 58 cnn opinion research 9 19 21 08 22 78 1 56 gallup 9 8 11 08 18 77 6 59 fox opinion dynam rv 9 8 9 08 23 68 8 45 diageo hotlin rv 8 29 31 08 18 75 7 57 diageo hotlin rv 8 18 24 08 16 78 6 62 fox opinion dynam rv 8 19 20 08 20 73 7 53 l time bloomberg 8 15 18 08 17 73 10 56 quinnipiac lv 8 12 17 08 16 74 10 58 gallup 8 7 10 08 18 73 9 55 ap ipso 7 31 8 4 08 19 75 56 cnn opinion research 7 27 29 08 22 77 1 55 research 2000 lv 7 25 27 08 13 81 6 68 fox opinion dynam rv 7 22 23 08 21 68 11 47 nbc wall street journal rv 7 18 21 08 15 75 10 60 ap ipso 7 10 14 08 18 77 59 abc washington post 7 10 13 08 23 71 6 48 gallup 7 10 13 08 14 75 10 61 quinnipiac lv 7 8 13 08 14 77 9 63 fox opinion dynam rv 6 17 18 08 19 69 13 50 ap ipso 6 12 16 08 23 72 49 gallup 6 9 12 08 19 74 7 55 nbc wall street journal rv 6 6 9 08 13 79 8 66 quinnipiac rv 5 8 12 08 16 76 8 60 gallup 5 8 11 08 18 76 6 58 npr lv 5 7 8 10 08 22 73 4 51 diageo hotlin rv 4 30 5 3 08 18 75 8 57 fox opinion dynam rv 4 28 29 08 22 67 11 45 cb new york time 4 25 29 08 21 68 11 47 ap ipso 4 7 9 08 23 71 48 gallup 4 6 9 08 20 71 9 51 diageo hotlin rv 3 28 31 08 23 72 6 49 fox opinion dynam rv 3 18 19 08 20 67 12 47 nbc wall street journal rv 3 7 10 08 19 69 12 50 gallup 3 6 9 08 21 71 8 50 ap ipso 3 3 5 08 24 72 48 fox opinion dynam rv 2 19 20 08 22 68 10 46 diageo hotlin rv 2 14 17 08 28 63 9 35 ap ipso 2 4 6 08 22 74 52 abc washington post 1 30 2 1 08 33 59 8 26 fox opinion dynam rv 1 30 31 08 22 66 12 44 npr lv 1 29 31 08 28 65 7 37 nbc wall street journal 1 20 22 08 18 70 12 52 diageo hotlin rv 1 10 12 08 23 70 7 47 ap ipso 1 7 9 08 26 69 43 gallup 1 4 6 08 23 71 6 48 fox opinion dynam rv 12 18 19 07 25 60 15 35 nbc wall street journal 12 14 17 07 18 70 12 52 diageo hotlin rv 12 10 14 07 22 69 10 47 abc washington post 12 6 9 07 32 60 8 28 gallup 12 6 9 07 22 70 8 48 cb new york time 12 5 9 07 21 64 15 43 ap ipso 12 3 5 07 25 70 45 fox opinion dynam rv 11 13 14 07 26 61 14 35 gallup 11 11 14 07 20 69 11 49 ap ipso 11 5 7 07 25 70 45 nbc wall street journal 11 1 5 07 19 68 13 49 abc washington post 10 29 11 1 07 28 65 7 37 quinnipiac rv 10 23 29 07 21 70 10 49 fox opinion dynam rv 10 23 24 07 25 54 22 29 l time bloomberg rv 10 19 22 07 22 69 9 47 cb 10 12 16 07 27 59 14 32 cnn opinion research 10 12 14 07 22 75 3 53 gallup 10 12 14 07 29 64 6 35 fox opinion dynam rv 10 9 10 07 24 63 12 39 npr lv 10 4 6 7 07 25 69 6 44 gallup 10 4 7 07 23 71 6 48 ap ipso 10 1 3 07 22 73 51 abc washington post 9 27 30 07 29 65 6 36 fox opinion dynam rv 9 25 26 07 24 63 13 39 cb 9 14 16 07 27 65 8 38 gallup 9 14 16 07 24 71 5 47 fox opinion dynam rv 9 11 12 07 32 56 11 24 ap ipso 9 10 12 07 26 71 45 nbc wall street journal 9 7 10 07 23 65 12 42 cb new york time 9 4 8 07 23 66 11 43 fox opinion dynam rv 8 21 22 07 24 60 17 36 pew 8 1 18 07 21 65 14 44 gallup 8 13 16 07 18 76 6 58 quinnipiac rv 8 7 13 07 20 70 10 50 cb 8 8 12 07 25 63 12 38 ap ipso 8 6 8 07 25 72 47 nbc wall street journal 7 27 30 07 24 63 13 39 cb new york time 7 20 22 07 26 61 13 35 diageo hotlin rv 7 19 22 07 25 68 8 43 abc washington post 7 18 21 07 37 60 4 23 cb new york time 7 9 17 07 29 59 12 30 gallup 7 12 15 07 27 66 7 39 ap ipso 7 9 11 07 24 70 46 cb 6 26 28 07 27 60 13 33 newsweek 6 18 19 07 25 63 12 38 gallup 6 11 14 07 24 71 5 47 nbc wall street journal 6 8 11 07 23 64 13 41 quinnipiac rv 6 5 11 07 23 66 11 43 l time bloomberg 6 7 10 07 27 65 8 38 fox opinion dynam rv 6 5 6 07 29 55 15 26 abc washington post 5 29 6 1 07 39 53 8 14 cb new york time 5 18 23 07 36 52 12 16 diageo hotlin rv 5 16 20 07 31 61 8 30 fox opinion dynam rv 5 15 16 07 32 53 15 21 gallup 5 10 13 07 29 64 7 35 ap ipso 5 7 9 07 35 60 25 quinnipiac rv 4 25 5 1 07 39 52 9 13 diageo hotlin rv 4 26 30 07 38 54 8 16 npr lv 4 26 29 07 35 59 6 24 nbc wall street journal 4 20 23 07 31 52 17 21 fox opinion dynam rv 4 17 18 07 35 49 16 14 abc washington post 4 12 15 07 44 54 3 10 cb 4 9 12 07 34 54 12 20 l time bloomberg 4 5 9 07 34 58 8 24 gallup 4 2 5 07 33 60 7 27 ap ipso 4 2 4 07 40 57 17 diageo hotlin rv 3 29 4 1 07 37 52 11 15 fox opinion dynam rv 3 27 28 07 30 54 16 24 gallup 3 11 14 07 28 64 8 36 cb new york time 3 7 11 07 31 53 16 22 ap ipso 3 5 7 07 33 63 30 nbc wall street journal 3 2 5 07 31 53 16 22 fox opinion dynam rv 2 27 28 07 32 49 20 17 cb new york time 2 23 27 07 33 50 17 17 abc washington post 2 22 25 07 41 54 5 13 diageo hotlin rv 2 21 24 07 30 55 16 25 cb 2 8 11 07 32 52 16 20 ap ipso 2 5 7 07 34 58 24 gallup 2 1 4 07 37 55 8 18 fox opinion dynam rv 1 30 31 07 33 44 22 11 cb 1 18 21 07 33 49 18 16 abc washington post 1 16 19 07 43 50 8 7 ap ipso 1 16 18 07 34 60 26 gallup 1 15 18 07 35 56 9 21 fox opinion dynam rv 1 16 17 07 32 47 21 15 l time bloomberg 1 13 16 07 36 44 20 8 diageo hotlin rv 1 11 14 07 31 49 21 18 ap ipso 1 8 10 07 32 62 30 gallup 12 11 14 06 21 74 5 53 abc washington post 12 7 11 06 37 57 6 20 ap ipso 12 4 6 06 27 67 40 ap ipso 11 13 15 06 26 70 44 gallup 11 9 12 06 26 67 7 41 diageo hotlin rv 11 8 12 06 27 63 11 36 fox opinion dynam lv 11 4 5 06 29 57 13 28 usa today gallup 11 2 5 06 26 63 11 37 abc washington post rv 11 1 4 06 36 60 4 24 cb new york time 10 27 31 06 29 56 15 27 ap aol 10 20 25 06 25 72 47 diageo hotlin rv 10 19 23 06 27 65 9 38 usa today gallup 10 20 22 06 26 67 6 41 abc washington post 10 19 22 06 31 65 4 34 nbc wall street journal rv 10 13 16 06 16 75 9 59 gallup 10 9 12 06 23 71 6 48 fox opinion dynam lv 10 10 11 06 31 63 6 32 cnn 10 6 8 06 28 63 9 35 usa today gallup 10 6 8 06 24 68 7 44 abc washington post 10 5 8 06 32 66 2 34 cb new york time 10 5 8 06 27 64 9 37 time 10 3 4 06 31 57 12 26 ap ipso 10 2 4 06 27 69 42 diageo hotlin rv 9 24 26 06 28 65 7 37 l time bloomberg 9 16 19 06 30 57 13 27 cb new york time 9 15 19 06 25 61 14 36 fox opinion dynam lv 9 12 13 06 29 53 18 24 ap ipso 9 11 13 06 29 68 39 nbc wall street journal rv 9 8 11 06 20 65 15 45 gallup 9 7 10 06 29 63 8 34 abc 9 5 7 06 40 55 5 15 fox opinion dynam rv 8 29 30 06 24 61 15 37 cook rt strategi rv 8 25 27 06 31 58 12 27 time 8 22 24 06 30 59 11 29 cb new york time 8 17 21 06 29 60 11 31 diageo hotlin rv 8 17 20 06 31 61 8 30 fox opinion dynam rv 8 8 9 06 24 58 17 34 gallup 8 7 10 06 27 65 8 38 ap ipso 8 7 9 06 29 69 30 abc washington post 8 3 6 06 36 60 4 24 cook rt strategi rv 7 28 30 06 28 57 15 29 cb new york time 7 21 25 06 28 58 14 30 nbc wall street journal 7 21 24 06 25 60 15 35 diageo hotlin rv 7 20 23 06 31 58 11 27 fox opinion dynam rv 7 11 12 06 25 61 14 36 ap ipso 7 10 12 06 27 68 41 gallup 7 6 9 06 29 61 10 32 time 6 27 29 06 31 55 14 24 diageo hotlin rv 6 21 25 06 30 62 8 32 fox opinion dynam rv 6 13 14 06 29 59 12 30 nbc wall street journal 6 9 12 06 23 64 13 41 cb 6 10 11 06 26 60 14 34 ap ipso 6 5 7 06 24 73 49 cook rt strategi rv 6 1 4 06 27 56 17 29 gallup 6 1 4 06 27 63 10 36 diageo hotlin rv 5 18 21 06 29 64 7 35 fox opinion dynam rv 5 16 18 06 27 56 17 29 cb 5 16 17 06 26 59 15 33 abc washington post 5 11 15 06 33 63 4 30 gallup 5 8 11 06 21 71 8 50 cb new york time 5 4 8 06 23 64 13 41 ap ipso 5 1 3 06 25 71 46 nbc wall street journal 4 21 24 06 22 65 13 43 fox opinion dynam rv 4 18 19 06 25 52 23 27 gallup 4 10 13 06 23 70 7 47 l time bloomberg 4 8 11 06 28 61 11 33 abc washington post 4 6 9 06 35 62 3 27 cb 4 6 9 06 27 61 12 34 ap ipso 4 3 5 06 30 67 37 time 3 22 23 06 39 49 12 10 gallup 3 13 16 06 27 65 8 38 fox opinion dynam rv 3 14 15 06 29 55 16 26 nbc wall street journal 3 10 13 06 33 53 14 20 cb 3 9 12 06 32 54 14 22 ap ipso 3 6 8 06 31 66 35 abc washington post 3 2 5 06 36 62 3 26 quinnipiac rv 2 21 28 06 25 63 11 38 cb 2 22 26 06 28 61 11 33 diageo hotlin rv 2 16 19 06 30 61 8 31 gallup 2 6 9 06 25 65 10 40 ap ipso 2 6 8 06 35 61 26 nbc wall street journal 1 26 29 06 29 56 15 27 abc washington post 1 23 26 06 43 53 4 10 fox opinion dynam rv 1 24 25 06 34 51 16 17 l time bloomberg 1 22 25 06 35 55 10 20 cb new york time 1 20 25 06 29 61 10 32 diageo hotlin rv 1 12 15 06 31 59 10 28 gallup 1 9 12 06 27 67 7 40 abc washington post 1 5 8 06 41 55 5 14 cb 1 5 8 06 27 57 16 30 ap ipso 1 3 5 06 34 63 29 abc washington post 12 15 18 05 43 53 4 10 npr lv 12 15 17 18 05 43 51 6 8 fox opinion dynam rv 12 13 14 05 30 52 18 22 diageo hotlin rv 12 12 13 05 26 64 10 38 nbc wall street journal 12 9 12 05 25 60 15 35 gallup 12 5 8 05 29 63 8 34 ap ipso 12 5 7 05 31 65 34 cb new york time 12 2 6 05 33 53 14 20 quinnipiac rv 11 28 12 4 05 27 61 11 34 time 11 29 12 1 05 33 55 13 22 diageo hotlin rv 11 11 15 05 36 53 12 17 gallup 11 7 10 05 29 63 8 34 nbc wall street journal 11 4 7 05 28 57 15 29 ap ipso 10 31 11 2 05 37 59 22 abc washington post 10 30 11 2 05 37 59 4 22 cb 10 30 11 1 05 34 53 13 19 gallup 10 13 16 05 29 64 7 35 diageo hotlin rv 10 12 16 05 29 62 10 33 ap ipso 10 3 5 05 35 61 26 cb 10 3 5 05 31 57 12 26 newsweek 9 29 30 05 32 56 12 24 fox opinion dynam rv 9 13 14 05 34 49 17 15 gallup 9 12 15 05 35 59 6 24 cb new york time 9 9 13 05 34 54 12 20 nbc wall street journal 9 9 12 05 29 53 18 24 rv regist voter lv like voter ap gfk question includ neither option ap ipso question includ mix feel option\n",
            "\n",
            "\n",
            "Article ID: 2595\n",
            "Before Pre-processing: Blake Shelton and Gwen Stefani remain more than cool. They’re great!  http://www.eonline.com/news/921998/blake-shelton-reminds-fans-that-gwen-stefani-is-the-greatest\n",
            "After Pre-processing: blake shelton gwen stefani remain cool great http www eonlin com news 921998 blake shelton remind fan gwen stefani greatest\n",
            "\n",
            "\n",
            "Article ID: 2803\n",
            "Before Pre-processing: It may not look like it on screen, what with the seemingly endless emotional blows, but Mariska Hargitay said she is “having the time of my life” on Law & Order: SVU, 19 seasons on the…  from E! Online (US) – TV News http://www.eonline.com/news/896993/svu-s-mariska-hargitay-on-reopening-benson-s-old-wounds-emerging-a-true-heroine?cmpid=rss-000000-rssfeed-365-tvnews&utm_source=eonline&utm_medium=rssfeeds&utm_campaign=rss_tvnews  Advertisements\n",
            "After Pre-processing: may look like screen seemingli endless emot blow mariska hargitay said time life law order svu 19 season e onlin us tv news http www eonlin com news 896993 svu mariska hargitay reopen benson old wound emerg true heroin cmpid rss 000000 rssfeed 365 tvnew utm_sourc eonlin utm_medium rssfeed utm_campaign rss_tvnew advertis\n",
            "\n",
            "\n",
            "Article ID: 3098\n",
            "Before Pre-processing: After weeks of tireless voting, Girl on Top 2017 has a winner!  And it’s definitely not a surprise, because this girl was at the top of every round throughout the competition. Her…  from E! Online (US) – TV News http://www.eonline.com/news/877846/girl-on-top-2017-melanie-scrofano-or-alycia-debnam-carey-the-winner-is?cmpid=rss-000000-rssfeed-365-tvnews&utm_source=eonline&utm_medium=rssfeeds&utm_campaign=rss_tvnews  Advertisements\n",
            "After Pre-processing: week tireless vote girl top 2017 winner definit surpris girl top everi round throughout competit e onlin us tv news http www eonlin com news 877846 girl top 2017 melani scrofano alycia debnam carey winner cmpid rss 000000 rssfeed 365 tvnew utm_sourc eonlin utm_medium rssfeed utm_campaign rss_tvnew advertis\n",
            "\n",
            "\n",
            "Article ID: 3160\n",
            "Before Pre-processing: ни чего нового как правильноНичего страшного. View more. 1. И Новый год как раз и есть такой пункт. Чтобы вы могли правильно воспользоваться «остановкой», AdMe.ru расскажет, как составить планы наНикто вам ничем не обязан. Если вы задействуете в своем списке третьи лица — совсем не факт, что план реализуется. Отрицательные местоимения часто вызывают вопросы об их правильном написании. Как видим, в середине нет никаких предлогов, поэтому смело пишем слитно: ничего.Новое. Правильно писать \"что бы я ни делал\". Речь идёт не о простом рождении нового мема и не о массовой эпидемии чей-то внезапно рождённой мысли, а о появлении принципиально новой конструкции русского языка0 комментариев to the \"Как правильно: ничто или ничего?\" Добавить комментарий. ничего can be an adverb also, with meaning close to English, not to badly or quite well. - как дела? - how are you - ничего - quite well.Достигнуть или достичь? (7). прочитать и прочесть - как правильно??? (3). Perfect and Imperfective (4). Иногда может быть даже полезно ( о том, как правильно гулять по магазинам - я расскажу как-нибудь отдельно).Существует масса более приятных, полезных и интересных трат:) Я не сказала в этой статье в общем-то ничего нового. Однако в этом статье мы обратимся к словам, которые имеют более сложную историю. Разберемся, как правильно - \"нуль\" или \"ноль\".Оба варианта произошли от лат.nullus «ничто». Проникнув в русский язык, два варианта нового слова начали бороться за сферу Вы хотели бы узнать, как пишется слово «ничего»? В этом случае рекомендую, почитать эту познавательную статью.Помогите в финансировании нового проекта полезного всем интернет-пользователям, пожертвуйте деньги, отправив СМС. Слово \"ничего\" всегда пишется слитно. Исключением является наличие предлогов между частицей \"ни\" и местоимением.В предложении «Наступил Новый год», «Новый год» подлежащее или нет? Каким членом предложения является? Смотря где. В некоторых местах \"нечего\",это там, где \"превед, медвед! Кагдила? \"Если желаешь употребить эрратив, то \"нечего ни произошло\" в самый раз. правильно - ничего. Комментарии (0): 0.Не купил НИЧЕГО (ударение на последнем слоге), потому что денег не было. Купить совершенно НЕЧЕГО (ударение на первом слоге), товаров не завезли. В русском языке в равной степени существуют как слово ничего, так и слово нечего, вот только употреблять их нужно совершенно в разных ситуациях.Как правильно писать чтобы или что бы? Например, спрашивают, как пишется \"не чего\". Правильный вариант: пишется слитно - нечего, отрицание в данном случае - часть местоимения.Теперь вы знаете, как правильно пишется \"нечего\". У нас появились новые, необычные материалы! Как правильно пишется: ничего не потерял или ни чего не потерял? Какое правило применяется?Статистика проекта за месяц. Новых пользователей: 7914. Создано вопросов: 38236. Сделать с этим ничего не удастся, но, похоже, со всем этим приходилось сталкиваться и раньше, так что ничего нового здесь не предвидится.На текущей странице размещена информация о том, на какой слог правильно ставить ударение в слове нового. Почти гарантировано (почему почти — об этом будет отдельный пост про людей, которые все делают правильно, но при этом почему-то не худеют). И, увы, я не открою для Вас ничего (или почти ничего) нового в этом блоге по этому вопросу. С существительными, если отрицание придаёт слову новое, противоположное значение, например: неприятель, несчастье, еслиВ местоимениях, если частица ни не отделена от последующего местоимения предлогом, например: никто, ничто, никого, ничего, никакой НЕ и НИ. В известном шлягере поется: \"Я отправлюсь за тобой, что бы путь мне не пророчил\" Или все-таки \"ни пророчил\"? Что перед нами - утверждение или отрицание? По сравнению с отрицательной частицей не частица ни употребляется гораздо реже, но именно с различением Во первых - слитно, а по смыслу : нечего делать , но ничего не надо! нечего (местоимение). 1. нет ничего, что могло бы произойти. 2. нет ничего, на что могло бы быть обращено действие. 3. нет ничего, что позволило бы делать (сделать) что-либо. нечего (наречие). 1. предик. разг. то же, что неча не приходится, не следует не полагается. Как правильно учиться. Опубликовано Сентябрь 22, 2016Декабрь 2, 2017 автором admin.Да ничего нового, всё уже давно прочитано, услышано и прочувствовано. Все Америки давно открыты, а велосипеды изобретены. Ничего и нечего - правильны оба варианта, смотря какой контекст, например: От нечего делать он стал собирать марки.16. Этот вопрос архивный. Добавить новый вопрос. ни ни. ничего не скажешь. но в то же время. но вместе с тем. Правильно писать \"ничего\". Сочетание \"ни чего\" не пишется ни в каких случаях. Как правильно сформулировать желание.Я стал предсказуемым. Какой смысл доводить дело до конца, если ничего НОВОГО я не покажу? Вопрос 277616 Здравствуйте, разъясните, пожалуйста, как правильно писать: Почтенных дам и красавцев кавалеров приветствовалиИ то, что там нет ничего нового только свидетельствует о назревших изменениях. КРОМЕ (кого, чего), предлог. Обороты с предлогом «кроме» обычно обособляются, если предлог можно заменить словами «исключая, не считая кого-либо, чего-либо». На моих глазах произошло следующее возмутительное происшествие, рисующее яркими красками наши Тогда вы точно ничего не упустите.С новым языком у нас появляется новый взгляд на мир, новые эмоции, новый способ мышления.Как правильно стирать спортивную одежду. «Ничего страшного» — короткометражный художественный фильм режиссёра Ульяны Шилкиной, снятый в 2000 году по рассказу Виктора Пелевина «Синий фонарь». В пионерском лагере после отбоя мальчики рассказывают друг другу перед сном страшные истории про Оно, конечно, можно спросить \"Чего случилось?\" и получить ответ \"Ничего не случилось\". Но вопрос \"Что случилось?\" с тем же самым ответом кажется более правильным, что лиНовых вопросов: 4, обновленных вопросов: 9. Полный список сегодняшних обновлений FAQ 162 просмотра7 месяцев назад. прямо сейчас. Илья Сапегин. Когда долгое время не происходит ничего нового, то начинает казаться, что наша жизнь не представляет из себя ничего ценного.Допустим, вы хотите сбросить достаточно большое количество килограммов, но не знаете, как правильно это сделать. Правильное ударение в слове ничего на сайте Текстология.ру.Как правильно поставить ударение и какие имеет словоформы слово (словосочетание) ничего? Я везде исправил И на Е. Как правильно?LetiZ, ничто мне так не нравится, как указания на ошибки. Мне прикипело издавна мягкое произношение Р в этом слове.Впрочем, вы можете претендовать на введение нового правила в великий и могучий НИЧЕГО НОВОГО. Matilda Shnurova. Загрузка Сергей Шнуров взрывает инстаграм! Лучшее и новое из инстаграма Шнура 2017 - Продолжительность: 6:08 Звездный Instagram 565 681 просмотр. Что ж, откроем наш секретный способ сделать талию стройной, не делая ровным счётом ничего.Новое многофункциональное пространство для самосовершенствования и отдыха начало работу в отелеКак правильно увлажнять кожу до и после тренировки на улице зимой. Желаем, чтобы перемены наступили резко, прямо с Нового года. И потом расстраиваемся, видя, что ничего не получается.Вот как сейчас живет очаровательная героиня фильма. Пошаговая инструкция правильной стирки пуховика. Сохраните себе! В отрицательном местоимении «ничего» «ни» является приставкой и пишется слитно.Одеть или надеть, — как правильно? Почему слово «длина» иногда пишется с двумя «н»?Новые публикации. Чтобы правильно написать слово \"ничего\" или \"ни чего\", определим, какой частью речи оно является. Начальной формой этого слова является \" ничто\".Получать новые комментарии по электронной почте.Все пишется раздельно. Смотрите простые примеры правильного написания этого слова и пояснения.Смотрим на смысловую нагрузку предложения и ставим ударение. Примеры правильного. Он ни в чем не виноват! Старайтесь подбирать проверочные слова или поставить незнакомое слово в разные предложения, чтобы понять, как правильно его написать. Поэтому правильный вариант правописания как НЕЧЕГО, так и НИЧЕГО. НИЧЕГО, НИЧЕГО правописание, НИЧЕГО орфография, как пишется НИЧЕГО, как писать НИЧЕГО, НИЧЕГО как правильно писать, Орфографический словарь.Т.Ф. Ефремова Новый словарь русского языка. Толково- словообразовательный. Современный толковый словарь изд. За что мы любим Флавию де Люс? Кофейня. Как правильно не сказать ничего нового.Слово автору Я хотел написать путеводитель по новому образу действий. Вот что я придумал: перед вами книга для тех, кому противна сама мысль о саморекламе. Перевод контекст \"Ничего нового\" c русский на английский от Reverso Context: Ничего нового в Сплетнице уже З часа.Ничего нового, но если заметите, что стало меньше ошибок, то это потому, что текст набирала Райан. \"Ничего\" - тоже отрицательное местоимение, употребляется оно в значении (НЕТ ничего) .Пример: Есть было нехуй. Пишите правильно, господа.Сюжет к новому фильму ужасов на женском форуме. Сколько ни сплю, а все спать хочется. 1) Вглядывался, но в тумане не мог разглядеть ничего. 2) Он торопился, но все равно опаздывал. Ему не оставалось ничего другого, как вернуться домой. Отец ничего не ответил, лишь пристально посмотрел мне в глаза и покачал головой.Какой из вариантов правильный? (по статистике прошлой недели только 60 ответили правильно).Новые тесты. Легко запомнить как правильно пишется ничего и нечего, стоит лишь узнать и запомнить несложное правило, давайте разберемся вместе. Правильно пишется. Ничего и нечего. Какое правило? Правильно. ничегО местоимение ничто в винительном падеже, ударение приходится на последний слог на букву о. Ничего страшного, это нормально Я ему ничего не дам Сегодня нам ничего не привезли.Похожие: Конченый или конченный как правильно?Новое на сайте:\n",
            "After Pre-processing: ни чего нового как правильноничего страшного view 1 и новый год как раз и есть такой пункт чтобы вы могли правильно воспользоваться остановкой adm ru расскажет как составить планы наникто вам ничем не обязан если вы задействуете в своем списке третьи лица совсем не факт что план реализуется отрицательные местоимения часто вызывают вопросы об их правильном написании как видим в середине нет никаких предлогов поэтому смело пишем слитно ничего новое правильно писать что бы я ни делал речь идёт не о простом рождении нового мема и не о массовой эпидемии чей то внезапно рождённой мысли а о появлении принципиально новой конструкции русского языка0 комментариев как правильно ничто или ничего добавить комментарий ничего adverb also mean close english badli quit well как дела ничего quit well достигнуть или достичь 7 прочитать и прочесть как правильно 3 perfect imperfect 4 иногда может быть даже полезно о том как правильно гулять по магазинам я расскажу как нибудь отдельно существует масса более приятных полезных и интересных трат я не сказала в этой статье в общем то ничего нового однако в этом статье мы обратимся к словам которые имеют более сложную историю разберемся как правильно нуль или ноль оба варианта произошли от лат nullu ничто проникнув в русский язык два варианта нового слова начали бороться за сферу вы хотели бы узнать как пишется слово ничего в этом случае рекомендую почитать эту познавательную статью помогите в финансировании нового проекта полезного всем интернет пользователям пожертвуйте деньги отправив смс слово ничего всегда пишется слитно исключением является наличие предлогов между частицей ни и местоимением в предложении наступил новый год новый год подлежащее или нет каким членом предложения является смотря где в некоторых местах нечего это там где превед медвед кагдила если желаешь употребить эрратив то нечего ни произошло в самый раз правильно ничего комментарии 0 0 не купил ничего ударение на последнем слоге потому что денег не было купить совершенно нечего ударение на первом слоге товаров не завезли в русском языке в равной степени существуют как слово ничего так и слово нечего вот только употреблять их нужно совершенно в разных ситуациях как правильно писать чтобы или что бы например спрашивают как пишется не чего правильный вариант пишется слитно нечего отрицание в данном случае часть местоимения теперь вы знаете как правильно пишется нечего у нас появились новые необычные материалы как правильно пишется ничего не потерял или ни чего не потерял какое правило применяется статистика проекта за месяц новых пользователей 7914 создано вопросов 38236 сделать с этим ничего не удастся но похоже со всем этим приходилось сталкиваться и раньше так что ничего нового здесь не предвидится на текущей странице размещена информация о том на какой слог правильно ставить ударение в слове нового почти гарантировано почему почти об этом будет отдельный пост про людей которые все делают правильно но при этом почему то не худеют и увы я не открою для вас ничего или почти ничего нового в этом блоге по этому вопросу с существительными если отрицание придаёт слову новое противоположное значение например неприятель несчастье еслив местоимениях если частица ни не отделена от последующего местоимения предлогом например никто ничто никого ничего никакой не и ни в известном шлягере поется я отправлюсь за тобой что бы путь мне не пророчил или все таки ни пророчил что перед нами утверждение или отрицание по сравнению с отрицательной частицей не частица ни употребляется гораздо реже но именно с различением во первых слитно а по смыслу нечего делать но ничего не надо нечего местоимение 1 нет ничего что могло бы произойти 2 нет ничего на что могло бы быть обращено действие 3 нет ничего что позволило бы делать сделать что либо нечего наречие 1 предик разг то же что неча не приходится не следует не полагается как правильно учиться опубликовано сентябрь 22 2016декабрь 2 2017 автором admin да ничего нового всё уже давно прочитано услышано и прочувствовано все америки давно открыты а велосипеды изобретены ничего и нечего правильны оба варианта смотря какой контекст например от нечего делать он стал собирать марки 16 этот вопрос архивный добавить новый вопрос ни ни ничего не скажешь но в то же время но вместе с тем правильно писать ничего сочетание ни чего не пишется ни в каких случаях как правильно сформулировать желание я стал предсказуемым какой смысл доводить дело до конца если ничего нового я не покажу вопрос 277616 здравствуйте разъясните пожалуйста как правильно писать почтенных дам и красавцев кавалеров приветствовалии то что там нет ничего нового только свидетельствует о назревших изменениях кроме кого чего предлог обороты с предлогом кроме обычно обособляются если предлог можно заменить словами исключая не считая кого либо чего либо на моих глазах произошло следующее возмутительное происшествие рисующее яркими красками наши тогда вы точно ничего не упустите с новым языком у нас появляется новый взгляд на мир новые эмоции новый способ мышления как правильно стирать спортивную одежду ничего страшного короткометражный художественный фильм режиссёра ульяны шилкиной снятый в 2000 году по рассказу виктора пелевина синий фонарь в пионерском лагере после отбоя мальчики рассказывают друг другу перед сном страшные истории про оно конечно можно спросить чего случилось и получить ответ ничего не случилось но вопрос что случилось с тем же самым ответом кажется более правильным что линовых вопросов 4 обновленных вопросов 9 полный список сегодняшних обновлений faq 162 просмотра7 месяцев назад прямо сейчас илья сапегин когда долгое время не происходит ничего нового то начинает казаться что наша жизнь не представляет из себя ничего ценного допустим вы хотите сбросить достаточно большое количество килограммов но не знаете как правильно это сделать правильное ударение в слове ничего на сайте текстология ру как правильно поставить ударение и какие имеет словоформы слово словосочетание ничего я везде исправил и на е как правильно letiz ничто мне так не нравится как указания на ошибки мне прикипело издавна мягкое произношение р в этом слове впрочем вы можете претендовать на введение нового правила в великий и могучий ничего нового matilda shnurova загрузка сергей шнуров взрывает инстаграм лучшее и новое из инстаграма шнура 2017 продолжительность 6 08 звездный instagram 565 681 просмотр что ж откроем наш секретный способ сделать талию стройной не делая ровным счётом ничего новое многофункциональное пространство для самосовершенствования и отдыха начало работу в отелекак правильно увлажнять кожу до и после тренировки на улице зимой желаем чтобы перемены наступили резко прямо с нового года и потом расстраиваемся видя что ничего не получается вот как сейчас живет очаровательная героиня фильма пошаговая инструкция правильной стирки пуховика сохраните себе в отрицательном местоимении ничего ни является приставкой и пишется слитно одеть или надеть как правильно почему слово длина иногда пишется с двумя н новые публикации чтобы правильно написать слово ничего или ни чего определим какой частью речи оно является начальной формой этого слова является ничто получать новые комментарии по электронной почте все пишется раздельно смотрите простые примеры правильного написания этого слова и пояснения смотрим на смысловую нагрузку предложения и ставим ударение примеры правильного он ни в чем не виноват старайтесь подбирать проверочные слова или поставить незнакомое слово в разные предложения чтобы понять как правильно его написать поэтому правильный вариант правописания как нечего так и ничего ничего ничего правописание ничего орфография как пишется ничего как писать ничего ничего как правильно писать орфографический словарь т ф ефремова новый словарь русского языка толково словообразовательный современный толковый словарь изд за что мы любим флавию де люс кофейня как правильно не сказать ничего нового слово автору я хотел написать путеводитель по новому образу действий вот что я придумал перед вами книга для тех кому противна сама мысль о саморекламе перевод контекст ничего нового c русский на английский от reverso context ничего нового в сплетнице уже з часа ничего нового но если заметите что стало меньше ошибок то это потому что текст набирала райан ничего тоже отрицательное местоимение употребляется оно в значении нет ничего пример есть было нехуй пишите правильно господа сюжет к новому фильму ужасов на женском форуме сколько ни сплю а все спать хочется 1 вглядывался но в тумане не мог разглядеть ничего 2 он торопился но все равно опаздывал ему не оставалось ничего другого как вернуться домой отец ничего не ответил лишь пристально посмотрел мне в глаза и покачал головой какой из вариантов правильный по статистике прошлой недели только 60 ответили правильно новые тесты легко запомнить как правильно пишется ничего и нечего стоит лишь узнать и запомнить несложное правило давайте разберемся вместе правильно пишется ничего и нечего какое правило правильно ничего местоимение ничто в винительном падеже ударение приходится на последний слог на букву о ничего страшного это нормально я ему ничего не дам сегодня нам ничего не привезли похожие конченый или конченный как правильно новое на сайте\n",
            "\n",
            "\n",
            "Article ID: 3662\n",
            "Before Pre-processing: A third NBA championship ring is on the way, a baby boy has just arrived, and Stephen and Ayesha Curry are counting their blessings.  https://www.eonline.com/news/926708/how-stephen-and-ayesha-curry-have-defied-the-basketball-couple-curse-and-make-their-marriage-work\n",
            "After Pre-processing: third nba championship ring way babi boy arriv stephen ayesha curri count bless http www eonlin com news 926708 stephen ayesha curri defi basketbal coupl curs make marriag work\n",
            "\n",
            "\n",
            "Article ID: 5157\n",
            "Before Pre-processing: Fake story here…http://abcnews.com.co/donald-trump-protester-speaks-out-i-was-paid-to-protestFools Trump campaign manager Corey Lewandowski…http://www.thatsnonsense.com/trump-campaign-manager-lewandowski-falls-parody-website/Some background on the hoaxer, I think this might be his dad… http://www.reviewjournal.com/news/las-vegas/unusual-steve-horner-battles-feminismI laughed out loud at Fappy the anti-masturbation dolphin.\n",
            "\n",
            "After Pre-processing: fake stori http abcnew com co donald trump protest speak paid protestfool trump campaign manag corey lewandowski http www thatsnonsens com trump campaign manag lewandowski fall parodi websit background hoaxer think might dad http www reviewjourn com news la vega unusu steve horner battl feminismi laugh loud fappi anti masturb dolphin\n",
            "\n",
            "\n"
          ],
          "name": "stdout"
        }
      ]
    },
    {
      "cell_type": "markdown",
      "metadata": {
        "id": "OrnuHEWTIkk9"
      },
      "source": [
        "Based on the texts, there are 3 reasons why the pre-processing increased the word count. \n",
        "1. A long website link that the pre-processor breaks down into multiple words\n",
        "2. Poll data that have connected numbers (like dates) that the pre-processor reads as separate numbers.\n",
        "3. An article in Russian. Not quite sure exactly why but it is likely because we used English stop words. \n",
        "\n",
        "While the potential non-English articles appear concerning, I still need to include them in model in case they also appear in the test set. Otherwise it seems fine that the word count increases in these other cases."
      ]
    },
    {
      "cell_type": "markdown",
      "metadata": {
        "id": "w9Izdu1XJdjH"
      },
      "source": [
        "## The Model"
      ]
    },
    {
      "cell_type": "markdown",
      "metadata": {
        "id": "G-ZeBeobrIsd"
      },
      "source": [
        "### New Train/Test"
      ]
    },
    {
      "cell_type": "markdown",
      "metadata": {
        "id": "dJuplKy0mFHY"
      },
      "source": [
        "Remember that the test data from Kaggle doesn't have labels. This means we can't gauge how the model performs with unseen data. Therefore we have to create a NEW train and test set out of our current train data so we can have a test set with labels.\n",
        "\n",
        "The code below splits our training data into a new train and test. This new train and test data is called X2 and y2, but keep in mind going forward that they originate from the original (pre-processed) train data."
      ]
    },
    {
      "cell_type": "code",
      "metadata": {
        "colab": {
          "base_uri": "https://localhost:8080/"
        },
        "id": "TBMsT2Z52A6Q",
        "outputId": "df41d0d2-9301-4852-ac90-4a6a74d17ffa"
      },
      "source": [
        "X2_train, X2_test, y2_train, y2_test = train_test_split(X_train_ready, y_train, test_size=0.30, random_state=104)\n",
        "print(X2_train.shape, X2_test.shape, y2_train.shape, y2_test.shape)"
      ],
      "execution_count": 27,
      "outputs": [
        {
          "output_type": "stream",
          "text": [
            "(3035,) (1302,) (3035,) (1302,)\n"
          ],
          "name": "stdout"
        }
      ]
    },
    {
      "cell_type": "markdown",
      "metadata": {
        "id": "SY_yYBAQqAry"
      },
      "source": [
        "As shown above, the new training data has 3035 articles with 3035 labels, and the new test data has 1302 articles and 1302 labels."
      ]
    },
    {
      "cell_type": "markdown",
      "metadata": {
        "id": "_uyCnLXurMtw"
      },
      "source": [
        "###Vectorization"
      ]
    },
    {
      "cell_type": "markdown",
      "metadata": {
        "id": "QaVX1ei0nhQX"
      },
      "source": [
        "The final step before we can create a model is to vectorize the text data. Essentially this is the process by which we convert text to numbers for the model to read in. The [Tf-Idf](https://en.wikipedia.org/wiki/Tf%E2%80%93idf) (term frequency–inverse document frequency) vectorizer takes words in a given article and turns them into the features to go into the model. An example of a specific article is shown below."
      ]
    },
    {
      "cell_type": "code",
      "metadata": {
        "colab": {
          "base_uri": "https://localhost:8080/",
          "height": 0
        },
        "id": "4PDkjLd4Aox1",
        "outputId": "2decee45-b733-4ef3-db92-d66ddaca4de8"
      },
      "source": [
        "vectorizer_example = TfidfVectorizer()\n",
        "\n",
        "vectorizer_example_fit = vectorizer_example.fit_transform(X2_train)\n",
        "\n",
        "\n",
        "df = pd.DataFrame(vectorizer_example_fit[0].T.todense(), index=vectorizer_example.get_feature_names(), columns=[\"TfIdf\"])\n",
        "df = df.sort_values('TfIdf', ascending=False)\n",
        "df"
      ],
      "execution_count": 28,
      "outputs": [
        {
          "output_type": "execute_result",
          "data": {
            "text/html": [
              "<div>\n",
              "<style scoped>\n",
              "    .dataframe tbody tr th:only-of-type {\n",
              "        vertical-align: middle;\n",
              "    }\n",
              "\n",
              "    .dataframe tbody tr th {\n",
              "        vertical-align: top;\n",
              "    }\n",
              "\n",
              "    .dataframe thead th {\n",
              "        text-align: right;\n",
              "    }\n",
              "</style>\n",
              "<table border=\"1\" class=\"dataframe\">\n",
              "  <thead>\n",
              "    <tr style=\"text-align: right;\">\n",
              "      <th></th>\n",
              "      <th>TfIdf</th>\n",
              "    </tr>\n",
              "  </thead>\n",
              "  <tbody>\n",
              "    <tr>\n",
              "      <th>cleveland</th>\n",
              "      <td>0.294249</td>\n",
              "    </tr>\n",
              "    <tr>\n",
              "      <th>summer</th>\n",
              "      <td>0.293662</td>\n",
              "    </tr>\n",
              "    <tr>\n",
              "      <th>movi</th>\n",
              "      <td>0.247122</td>\n",
              "    </tr>\n",
              "    <tr>\n",
              "      <th>despic</th>\n",
              "      <td>0.194179</td>\n",
              "    </tr>\n",
              "    <tr>\n",
              "      <th>dunkirk</th>\n",
              "      <td>0.188466</td>\n",
              "    </tr>\n",
              "    <tr>\n",
              "      <th>...</th>\n",
              "      <td>...</td>\n",
              "    </tr>\n",
              "    <tr>\n",
              "      <th>fd_2008_949</th>\n",
              "      <td>0.000000</td>\n",
              "    </tr>\n",
              "    <tr>\n",
              "      <th>fda</th>\n",
              "      <td>0.000000</td>\n",
              "    </tr>\n",
              "    <tr>\n",
              "      <th>fdgvpxo8at</th>\n",
              "      <td>0.000000</td>\n",
              "    </tr>\n",
              "    <tr>\n",
              "      <th>fdoi</th>\n",
              "      <td>0.000000</td>\n",
              "    </tr>\n",
              "    <tr>\n",
              "      <th>𝖅𝖆𝖈𝖍</th>\n",
              "      <td>0.000000</td>\n",
              "    </tr>\n",
              "  </tbody>\n",
              "</table>\n",
              "<p>39343 rows × 1 columns</p>\n",
              "</div>"
            ],
            "text/plain": [
              "                TfIdf\n",
              "cleveland    0.294249\n",
              "summer       0.293662\n",
              "movi         0.247122\n",
              "despic       0.194179\n",
              "dunkirk      0.188466\n",
              "...               ...\n",
              "fd_2008_949  0.000000\n",
              "fda          0.000000\n",
              "fdgvpxo8at   0.000000\n",
              "fdoi         0.000000\n",
              "𝖅𝖆𝖈𝖍         0.000000\n",
              "\n",
              "[39343 rows x 1 columns]"
            ]
          },
          "metadata": {
            "tags": []
          },
          "execution_count": 28
        }
      ]
    },
    {
      "cell_type": "code",
      "metadata": {
        "colab": {
          "base_uri": "https://localhost:8080/"
        },
        "id": "aMR3VyFxDXo6",
        "outputId": "0c88aae0-f24c-4849-c3e5-11b74b973113"
      },
      "source": [
        "vectorizer_example_fit.shape"
      ],
      "execution_count": 29,
      "outputs": [
        {
          "output_type": "execute_result",
          "data": {
            "text/plain": [
              "(3035, 39343)"
            ]
          },
          "metadata": {
            "tags": []
          },
          "execution_count": 29
        }
      ]
    },
    {
      "cell_type": "markdown",
      "metadata": {
        "id": "Vko4Ag00DYPN"
      },
      "source": [
        "Each feature column of the vectorizer is a given word in our dictionary of words from the text, and each row represents a given article. Note the number of rows in the vectorizer correspond to the number of articles in the train data, and the number of columns are all the possible words found in the train data."
      ]
    },
    {
      "cell_type": "code",
      "metadata": {
        "colab": {
          "base_uri": "https://localhost:8080/"
        },
        "id": "motUa_dtDoCQ",
        "outputId": "e649e3a8-0ec8-4788-e419-deecf4e19d8d"
      },
      "source": [
        "vectorizer_example_fit"
      ],
      "execution_count": 30,
      "outputs": [
        {
          "output_type": "execute_result",
          "data": {
            "text/plain": [
              "<3035x39343 sparse matrix of type '<class 'numpy.float64'>'\n",
              "\twith 691108 stored elements in Compressed Sparse Row format>"
            ]
          },
          "metadata": {
            "tags": []
          },
          "execution_count": 30
        }
      ]
    },
    {
      "cell_type": "markdown",
      "metadata": {
        "id": "PQh_vl0wqQOL"
      },
      "source": [
        "This data type is stored as a sparse matrix since it is mostly comprised of 0s. This is because each article only contains a few words in comparison to the huge dictionary of words that is formed from the text. "
      ]
    },
    {
      "cell_type": "markdown",
      "metadata": {
        "id": "-Iu1ppdmrW5O"
      },
      "source": [
        "###Model Choice"
      ]
    },
    {
      "cell_type": "markdown",
      "metadata": {
        "id": "CcEM_0Ugt5Lt"
      },
      "source": [
        "I choose to use the [Multinomial Naive Bayes](https://scikit-learn.org/stable/modules/generated/sklearn.naive_bayes.MultinomialNB.html) model as it seemed to be the most commonly used model from my research on other fake news classifiers. In the future I might try other models to see if they perform better, but I only use the multinomial NB for purposes of this project."
      ]
    },
    {
      "cell_type": "markdown",
      "metadata": {
        "id": "r3Keccvs_6s-"
      },
      "source": [
        "###Parameter Selection"
      ]
    },
    {
      "cell_type": "markdown",
      "metadata": {
        "id": "wEBjKgvurmms"
      },
      "source": [
        "In order to better optimze the model, I elect to perform a cross-validated grid search with a few parameters. Those parameters are:\n",
        "\n",
        "*   [Tfidf_ngram_range](https://scikit-learn.org/stable/modules/generated/sklearn.feature_extraction.text.TfidfVectorizer.html): Including n-grams of 1, 2, or 3.\n",
        "*   [nb_alpha](https://scikit-learn.org/stable/modules/generated/sklearn.naive_bayes.MultinomialNB.html): Smoothing parameter for the multinomial nb.\n",
        "\n"
      ]
    },
    {
      "cell_type": "code",
      "metadata": {
        "colab": {
          "base_uri": "https://localhost:8080/"
        },
        "id": "8RTkdAjphRiD",
        "outputId": "79ef0835-f58f-4795-daf6-44525a806ac6"
      },
      "source": [
        "#Assign vectorizer and model to pipeline\n",
        "pipe = Pipeline([('Tfidf', TfidfVectorizer()),    \n",
        "                 ('nb', MultinomialNB())])\n",
        "\n",
        "# Tune GridSearchCV\n",
        "pipe_params = {'Tfidf__ngram_range': [(1,1),(1,2),(1,3)],\n",
        "               'nb__alpha': [.36, .6, 1]}\n",
        "\n",
        "#Using the F1 as the scoring parameter.\n",
        "gs = GridSearchCV(pipe, param_grid=pipe_params, scoring=make_scorer(f1_score, pos_label=\"Fake\"), cv=5)\n",
        "\n",
        "gs.fit(X2_train, y2_train);\n",
        "print(\"Best score:\", gs.best_score_)\n",
        "print(\"Train score\", gs.score(X2_train, y2_train))"
      ],
      "execution_count": 31,
      "outputs": [
        {
          "output_type": "stream",
          "text": [
            "Best score: 0.5262837048887073\n",
            "Train score 0.7816867469879517\n"
          ],
          "name": "stdout"
        }
      ]
    },
    {
      "cell_type": "markdown",
      "metadata": {
        "id": "kY_tRXpMvoKa"
      },
      "source": [
        "Note that the scores seem a bit low (only getting barely over 50%?). This is because I opt to use the F1 score to optimize the model and can't exactly be interpreted the same as accuracy. I discuss this choice of scoring parameter later on in the notebook in the Model Analysis section."
      ]
    },
    {
      "cell_type": "code",
      "metadata": {
        "colab": {
          "base_uri": "https://localhost:8080/"
        },
        "id": "BApJtg8SR_RL",
        "outputId": "4c89df7c-60e0-4e60-921b-d335f2cf01b5"
      },
      "source": [
        "gs.best_params_"
      ],
      "execution_count": 32,
      "outputs": [
        {
          "output_type": "execute_result",
          "data": {
            "text/plain": [
              "{'Tfidf__ngram_range': (1, 1), 'nb__alpha': 0.36}"
            ]
          },
          "metadata": {
            "tags": []
          },
          "execution_count": 32
        }
      ]
    },
    {
      "cell_type": "markdown",
      "metadata": {
        "id": "7JQl_m4qwLf_"
      },
      "source": [
        "These parameters are the best ones from the gridsearch. I'll be using these in my model going forward."
      ]
    },
    {
      "cell_type": "markdown",
      "metadata": {
        "id": "8BydXg_yzz9e"
      },
      "source": [
        "### Feature Selection"
      ]
    },
    {
      "cell_type": "markdown",
      "metadata": {
        "id": "C2cWSDC9x8TL"
      },
      "source": [
        "The last part of creating my model is to see if we can reduce the dimensionality of the problem. In other words, I'd like to reduce the number of words in the model that aren't very useful in predicting the fake/real label. This is similar to removing the stop words in the pre-processing, but instead I remove words that aren't predictive. First, I need to figure out which words to cut without ruining the model."
      ]
    },
    {
      "cell_type": "markdown",
      "metadata": {
        "id": "U134gll8MTOE"
      },
      "source": [
        "#### Chi-Squared Analysis"
      ]
    },
    {
      "cell_type": "markdown",
      "metadata": {
        "id": "y1nU7rSMzsDH"
      },
      "source": [
        "The metric I use to see which words to cut is the [chi-squared](https://en.wikipedia.org/wiki/Chi-squared_test) statistic. This measures how evenly distributed real and fake news articles are for a given word. For example, if 60% of the total articles are real and 40% are fake, but 90% of the articles with a given word are real and 10% are fake, it will have a high chi-squared statistic."
      ]
    },
    {
      "cell_type": "code",
      "metadata": {
        "id": "XAmF649OZFdp"
      },
      "source": [
        "vectorizer1 = TfidfVectorizer(ngram_range = gs.best_params_['Tfidf__ngram_range'])\n",
        "\n",
        "vectorizer_all = vectorizer1.fit_transform(X2_train)\n",
        "vocab_all = vectorizer1.get_feature_names()\n",
        "\n",
        "#Creating new vectorizers so that the train and test share a vocabulary\n",
        "vectorizer2 = TfidfVectorizer(ngram_range = gs.best_params_['Tfidf__ngram_range'], vocabulary=vocab_all)\n",
        "vectorizer3 = TfidfVectorizer(ngram_range = gs.best_params_['Tfidf__ngram_range'], vocabulary=vocab_all)\n",
        "\n",
        "vectorizer_train = vectorizer2.fit_transform(X2_train)\n",
        "vectorizer_test = vectorizer3.fit_transform(X2_test)\n",
        "\n",
        "scores, p_values = chi2(vectorizer_train, y2_train)"
      ],
      "execution_count": 33,
      "outputs": []
    },
    {
      "cell_type": "markdown",
      "metadata": {
        "id": "uKqIvc5c0lZQ"
      },
      "source": [
        "Below is a table with each word in our vocabulary with its chi-squared stat and its corresponding p-value. Remember high chi-squared and low p-values are linked and indicate that a given word isn't evenly distributed between fake and real news (though it doesn't say which way it leans.)"
      ]
    },
    {
      "cell_type": "code",
      "metadata": {
        "colab": {
          "base_uri": "https://localhost:8080/",
          "height": 0
        },
        "id": "lCEi5BXY0U93",
        "outputId": "c39e7b81-37f6-40aa-dd37-e52a4ca8a829"
      },
      "source": [
        "chi2_words = pd.DataFrame({\"Word\": vocab_all, \"chi2\": scores, \"p\": p_values}).sort_values(\"chi2\",ascending=False)\n",
        "chi2_words"
      ],
      "execution_count": 34,
      "outputs": [
        {
          "output_type": "execute_result",
          "data": {
            "text/html": [
              "<div>\n",
              "<style scoped>\n",
              "    .dataframe tbody tr th:only-of-type {\n",
              "        vertical-align: middle;\n",
              "    }\n",
              "\n",
              "    .dataframe tbody tr th {\n",
              "        vertical-align: top;\n",
              "    }\n",
              "\n",
              "    .dataframe thead th {\n",
              "        text-align: right;\n",
              "    }\n",
              "</style>\n",
              "<table border=\"1\" class=\"dataframe\">\n",
              "  <thead>\n",
              "    <tr style=\"text-align: right;\">\n",
              "      <th></th>\n",
              "      <th>Word</th>\n",
              "      <th>chi2</th>\n",
              "      <th>p</th>\n",
              "    </tr>\n",
              "  </thead>\n",
              "  <tbody>\n",
              "    <tr>\n",
              "      <th>5932</th>\n",
              "      <td>brad</td>\n",
              "      <td>3.520526e+01</td>\n",
              "      <td>2.967212e-09</td>\n",
              "    </tr>\n",
              "    <tr>\n",
              "      <th>27185</th>\n",
              "      <td>pitt</td>\n",
              "      <td>3.176604e+01</td>\n",
              "      <td>1.739074e-08</td>\n",
              "    </tr>\n",
              "    <tr>\n",
              "      <th>32729</th>\n",
              "      <td>sourc</td>\n",
              "      <td>2.094737e+01</td>\n",
              "      <td>4.720760e-06</td>\n",
              "    </tr>\n",
              "    <tr>\n",
              "      <th>18943</th>\n",
              "      <td>joli</td>\n",
              "      <td>1.898240e+01</td>\n",
              "      <td>1.319295e-05</td>\n",
              "    </tr>\n",
              "    <tr>\n",
              "      <th>3229</th>\n",
              "      <td>angelina</td>\n",
              "      <td>1.717027e+01</td>\n",
              "      <td>3.417432e-05</td>\n",
              "    </tr>\n",
              "    <tr>\n",
              "      <th>...</th>\n",
              "      <td>...</td>\n",
              "      <td>...</td>\n",
              "      <td>...</td>\n",
              "    </tr>\n",
              "    <tr>\n",
              "      <th>34258</th>\n",
              "      <td>tabl</td>\n",
              "      <td>1.188018e-08</td>\n",
              "      <td>9.999130e-01</td>\n",
              "    </tr>\n",
              "    <tr>\n",
              "      <th>38203</th>\n",
              "      <td>wiig</td>\n",
              "      <td>9.449578e-09</td>\n",
              "      <td>9.999224e-01</td>\n",
              "    </tr>\n",
              "    <tr>\n",
              "      <th>4622</th>\n",
              "      <td>batcav</td>\n",
              "      <td>5.514338e-09</td>\n",
              "      <td>9.999408e-01</td>\n",
              "    </tr>\n",
              "    <tr>\n",
              "      <th>33495</th>\n",
              "      <td>storybook</td>\n",
              "      <td>4.512456e-09</td>\n",
              "      <td>9.999464e-01</td>\n",
              "    </tr>\n",
              "    <tr>\n",
              "      <th>30816</th>\n",
              "      <td>scath</td>\n",
              "      <td>2.567150e-09</td>\n",
              "      <td>9.999596e-01</td>\n",
              "    </tr>\n",
              "  </tbody>\n",
              "</table>\n",
              "<p>39343 rows × 3 columns</p>\n",
              "</div>"
            ],
            "text/plain": [
              "            Word          chi2             p\n",
              "5932        brad  3.520526e+01  2.967212e-09\n",
              "27185       pitt  3.176604e+01  1.739074e-08\n",
              "32729      sourc  2.094737e+01  4.720760e-06\n",
              "18943       joli  1.898240e+01  1.319295e-05\n",
              "3229    angelina  1.717027e+01  3.417432e-05\n",
              "...          ...           ...           ...\n",
              "34258       tabl  1.188018e-08  9.999130e-01\n",
              "38203       wiig  9.449578e-09  9.999224e-01\n",
              "4622      batcav  5.514338e-09  9.999408e-01\n",
              "33495  storybook  4.512456e-09  9.999464e-01\n",
              "30816      scath  2.567150e-09  9.999596e-01\n",
              "\n",
              "[39343 rows x 3 columns]"
            ]
          },
          "metadata": {
            "tags": []
          },
          "execution_count": 34
        }
      ]
    },
    {
      "cell_type": "markdown",
      "metadata": {
        "id": "cTgLuxBu30bg"
      },
      "source": [
        "####Cutting Words"
      ]
    },
    {
      "cell_type": "markdown",
      "metadata": {
        "id": "eHnrF0cm0FwY"
      },
      "source": [
        "Now that we have chi-squared stats and p-values for each word, we can try removing sets of words above a certain p-value and see what happens to our model. The function below does just that by cutting words for a list of p-values and returning the [accuracy](https://scikit-learn.org/stable/modules/generated/sklearn.metrics.accuracy_score.html#sklearn.metrics.accuracy_score), [precision, recall, f1, and support](https://scikit-learn.org/stable/modules/generated/sklearn.metrics.precision_recall_fscore_support.html#sklearn.metrics.precision_recall_fscore_support) for each p-value and each label."
      ]
    },
    {
      "cell_type": "code",
      "metadata": {
        "id": "c_PfqiwpJ0nU"
      },
      "source": [
        "def P_scorings(P_possible):\n",
        "    #Matrices that are shape (s, l, p) with s=score type, l=label, p=p-value\n",
        "    scores_train_all = np.zeros((5,2,len(P_possible)))\n",
        "    scores_test_all = np.zeros((5,2,len(P_possible)))\n",
        "\n",
        "    for i,p_cutoff in enumerate(P_possible):\n",
        "        \n",
        "        reduced_train = vectorizer_train[:,p_values<p_cutoff]\n",
        "        reduced_test = vectorizer_test[:,p_values<p_cutoff]\n",
        "\n",
        "        NB_optimal = MultinomialNB(alpha = gs.best_params_['nb__alpha'])\n",
        "        NB_optimal.fit(reduced_train, y2_train)\n",
        "\n",
        "\n",
        "        accuracy_train = NB_optimal.score(reduced_train, y2_train)\n",
        "        precision_train, recall_train, f1_train, support_train = precision_recall_fscore_support(y2_train, NB_optimal.predict(reduced_train), pos_label=\"Fake\")\n",
        "        scores_train_all[:,:,i] = np.vstack((np.ones((1,2))*accuracy_train, precision_train, recall_train, f1_train, support_train))\n",
        "\n",
        "\n",
        "        accuracy_test = NB_optimal.score(reduced_test, y2_test)\n",
        "        precision_test, recall_test, f1_test, support_test = precision_recall_fscore_support(y2_test, NB_optimal.predict(reduced_test), pos_label=\"Fake\")\n",
        "        scores_test_all[:,:,i] = np.vstack((np.ones((1,2))*accuracy_test, precision_test, recall_test, f1_test, support_test))\n",
        "\n",
        "    return scores_train_all, scores_test_all"
      ],
      "execution_count": 35,
      "outputs": []
    },
    {
      "cell_type": "code",
      "metadata": {
        "id": "vrZUlTKTCVSK"
      },
      "source": [
        "#List of p-values\n",
        "P_possible = [0.1, .05, .1, .2, .3, .4, .5, .6, .7, .8, .9, .95, .99]\n",
        "\n",
        "#Getting the scores from the function\n",
        "scores_train_all, scores_test_all = P_scorings(P_possible)"
      ],
      "execution_count": 36,
      "outputs": []
    },
    {
      "cell_type": "markdown",
      "metadata": {
        "id": "8_KHCjl03pfj"
      },
      "source": [
        "Let's plot these results to better visualize what is happening with the different scores as we cut off more and more words from the model. Keep in mind we want to balance 3 competing goals in choosing our p-value:\n",
        "\n",
        "\n",
        "1.   Minimize p-value (remove as many words as possible).\n",
        "2.   Maximize train and test scores (best performing model).\n",
        "3.   Minimize distance between train and test scores (model performance consistent when introducing new data). \n",
        "\n"
      ]
    },
    {
      "cell_type": "code",
      "metadata": {
        "colab": {
          "base_uri": "https://localhost:8080/",
          "height": 0
        },
        "id": "Tiog_Ts92CFY",
        "outputId": "38e58446-9e4d-4672-9790-368b38487ec5"
      },
      "source": [
        "sns.set(rc={'figure.figsize':(22,2.5)})\n",
        "plt.clf()\n",
        "plt.subplot(121)\n",
        "plt.plot(P_possible, scores_train_all[0,0,:], label=\"Train\")\n",
        "plt.plot(P_possible, scores_test_all[0,0,:], label=\"Test\")\n",
        "plt.plot(P_possible, scores_train_all[0,0,:]-scores_test_all[0,0,:], label=\"Difference\")\n",
        "plt.title(\"Accuracy Score\")\n",
        "plt.xlabel(\"p_cutoff\")\n",
        "plt.ylabel(\"Score\")\n",
        "plt.legend()"
      ],
      "execution_count": 37,
      "outputs": [
        {
          "output_type": "execute_result",
          "data": {
            "text/plain": [
              "<matplotlib.legend.Legend at 0x7fc02e885350>"
            ]
          },
          "metadata": {
            "tags": []
          },
          "execution_count": 37
        },
        {
          "output_type": "display_data",
          "data": {
            "image/png": "[encoded data removed]",
            "text/plain": [
              "<Figure size 1584x180 with 1 Axes>"
            ]
          },
          "metadata": {
            "tags": []
          }
        }
      ]
    },
    {
      "cell_type": "markdown",
      "metadata": {
        "id": "pCbjkp156fTH"
      },
      "source": [
        "Accuracy scores behave mostly how we would expect. Generally fewer words mean a less accurate model, but less distance between train and test score. However, the test score actually starts to get slightly worse (at around p=.6) as we include more words in the model. Likely this is a result of overfitting."
      ]
    },
    {
      "cell_type": "markdown",
      "metadata": {
        "id": "bDRbk-Ji8rKj"
      },
      "source": [
        "Lets see what happens with our other metrics."
      ]
    },
    {
      "cell_type": "code",
      "metadata": {
        "colab": {
          "base_uri": "https://localhost:8080/",
          "height": 0
        },
        "id": "WqtyU2R3bccY",
        "outputId": "17d37145-4332-4119-bcd2-f88bf0f6e09b"
      },
      "source": [
        "for i, name in enumerate([\"Precision\", \"Recall\", \"F1\"]):\n",
        "    sns.set(rc={'figure.figsize':(22,2.5)})\n",
        "    plt.clf()\n",
        "    plt.subplot(121)\n",
        "    plt.plot(P_possible, scores_train_all[i+1,0,:], label=\"Train\")\n",
        "    plt.plot(P_possible, scores_test_all[i+1,0,:], label=\"Test\")\n",
        "    plt.plot(P_possible, scores_train_all[i+1,0,:]-scores_test_all[i+1,0,:], label=\"Difference\")\n",
        "    plt.title(name+\" (Fake)\")\n",
        "    plt.xlabel(\"p_cutoff\")\n",
        "    plt.ylabel(\"Score\")\n",
        "    plt.legend()\n",
        "\n",
        "    plt.subplot(122)\n",
        "    plt.plot(P_possible, scores_train_all[i+1,1,:], label=\"Train\")\n",
        "    plt.plot(P_possible, scores_test_all[i+1,1,:], label=\"Test\")\n",
        "    plt.plot(P_possible, scores_train_all[i+1,1,:]-scores_test_all[i+1,1,:], label=\"Difference\")\n",
        "    plt.title(name+\" (Real)\")\n",
        "    plt.xlabel(\"p_cutoff\")\n",
        "    plt.ylabel(\"Score\")\n",
        "    plt.legend()\n",
        "    plt.show()"
      ],
      "execution_count": 38,
      "outputs": [
        {
          "output_type": "display_data",
          "data": {
            "image/png": "[encoded data removed]",
            "text/plain": [
              "<Figure size 1584x180 with 2 Axes>"
            ]
          },
          "metadata": {
            "tags": []
          }
        },
        {
          "output_type": "display_data",
          "data": {
            "image/png": "[encoded data removed]",
            "text/plain": [
              "<Figure size 1584x180 with 2 Axes>"
            ]
          },
          "metadata": {
            "tags": []
          }
        },
        {
          "output_type": "display_data",
          "data": {
            "image/png": "[encoded data removed]",
            "text/plain": [
              "<Figure size 1584x180 with 2 Axes>"
            ]
          },
          "metadata": {
            "tags": []
          }
        }
      ]
    },
    {
      "cell_type": "markdown",
      "metadata": {
        "id": "_DuHbDaGlUe9"
      },
      "source": [
        "By examining the above plots with our 3 goals in mind, **I ended up going with .7 for my p_cutoff**. It is the best f1 for fake news (which was the bigger problem between the 2 classes.) I chose to prioritize f1 over just precision or recall since both of them seem important for this type of problem in my opinion. (Incorrectly labeling a fake news article as real seems about as problematic as labeling a real news article as fake.) Coincidentally, this .7 is the same as what I'd choose by just looking at accuracy. My guess this is because the disparity in frequencies between real/fake classes isn't that large (only 60-40 real-fake)."
      ]
    },
    {
      "cell_type": "markdown",
      "metadata": {
        "id": "c_fh2g2s-k5A"
      },
      "source": [
        "Lets see how our vocabulary changes when we remove these words."
      ]
    },
    {
      "cell_type": "code",
      "metadata": {
        "colab": {
          "base_uri": "https://localhost:8080/",
          "height": 0
        },
        "id": "Z8zSXOP0dEVL",
        "outputId": "5125d805-1e54-4e48-e91f-12cb38efc933"
      },
      "source": [
        "p_cutoff_best = .7\n",
        "\n",
        "word_stats = chi2_words[chi2_words[\"p\"]<p_cutoff_best]\n",
        "word_stats"
      ],
      "execution_count": 39,
      "outputs": [
        {
          "output_type": "execute_result",
          "data": {
            "text/html": [
              "<div>\n",
              "<style scoped>\n",
              "    .dataframe tbody tr th:only-of-type {\n",
              "        vertical-align: middle;\n",
              "    }\n",
              "\n",
              "    .dataframe tbody tr th {\n",
              "        vertical-align: top;\n",
              "    }\n",
              "\n",
              "    .dataframe thead th {\n",
              "        text-align: right;\n",
              "    }\n",
              "</style>\n",
              "<table border=\"1\" class=\"dataframe\">\n",
              "  <thead>\n",
              "    <tr style=\"text-align: right;\">\n",
              "      <th></th>\n",
              "      <th>Word</th>\n",
              "      <th>chi2</th>\n",
              "      <th>p</th>\n",
              "    </tr>\n",
              "  </thead>\n",
              "  <tbody>\n",
              "    <tr>\n",
              "      <th>5932</th>\n",
              "      <td>brad</td>\n",
              "      <td>35.205259</td>\n",
              "      <td>2.967212e-09</td>\n",
              "    </tr>\n",
              "    <tr>\n",
              "      <th>27185</th>\n",
              "      <td>pitt</td>\n",
              "      <td>31.766036</td>\n",
              "      <td>1.739074e-08</td>\n",
              "    </tr>\n",
              "    <tr>\n",
              "      <th>32729</th>\n",
              "      <td>sourc</td>\n",
              "      <td>20.947368</td>\n",
              "      <td>4.720760e-06</td>\n",
              "    </tr>\n",
              "    <tr>\n",
              "      <th>18943</th>\n",
              "      <td>joli</td>\n",
              "      <td>18.982403</td>\n",
              "      <td>1.319295e-05</td>\n",
              "    </tr>\n",
              "    <tr>\n",
              "      <th>3229</th>\n",
              "      <td>angelina</td>\n",
              "      <td>17.170269</td>\n",
              "      <td>3.417432e-05</td>\n",
              "    </tr>\n",
              "    <tr>\n",
              "      <th>...</th>\n",
              "      <td>...</td>\n",
              "      <td>...</td>\n",
              "      <td>...</td>\n",
              "    </tr>\n",
              "    <tr>\n",
              "      <th>10015</th>\n",
              "      <td>deboer</td>\n",
              "      <td>0.148568</td>\n",
              "      <td>6.999076e-01</td>\n",
              "    </tr>\n",
              "    <tr>\n",
              "      <th>13785</th>\n",
              "      <td>food</td>\n",
              "      <td>0.148531</td>\n",
              "      <td>6.999432e-01</td>\n",
              "    </tr>\n",
              "    <tr>\n",
              "      <th>5630</th>\n",
              "      <td>boe</td>\n",
              "      <td>0.148517</td>\n",
              "      <td>6.999566e-01</td>\n",
              "    </tr>\n",
              "    <tr>\n",
              "      <th>29707</th>\n",
              "      <td>rink</td>\n",
              "      <td>0.148514</td>\n",
              "      <td>6.999595e-01</td>\n",
              "    </tr>\n",
              "    <tr>\n",
              "      <th>38441</th>\n",
              "      <td>wola</td>\n",
              "      <td>0.148483</td>\n",
              "      <td>6.999896e-01</td>\n",
              "    </tr>\n",
              "  </tbody>\n",
              "</table>\n",
              "<p>6601 rows × 3 columns</p>\n",
              "</div>"
            ],
            "text/plain": [
              "           Word       chi2             p\n",
              "5932       brad  35.205259  2.967212e-09\n",
              "27185      pitt  31.766036  1.739074e-08\n",
              "32729     sourc  20.947368  4.720760e-06\n",
              "18943      joli  18.982403  1.319295e-05\n",
              "3229   angelina  17.170269  3.417432e-05\n",
              "...         ...        ...           ...\n",
              "10015    deboer   0.148568  6.999076e-01\n",
              "13785      food   0.148531  6.999432e-01\n",
              "5630        boe   0.148517  6.999566e-01\n",
              "29707      rink   0.148514  6.999595e-01\n",
              "38441      wola   0.148483  6.999896e-01\n",
              "\n",
              "[6601 rows x 3 columns]"
            ]
          },
          "metadata": {
            "tags": []
          },
          "execution_count": 39
        }
      ]
    },
    {
      "cell_type": "markdown",
      "metadata": {
        "id": "GCN_MPGe-2uG"
      },
      "source": [
        "By removing words with p<.7, we only have 6601 of the original 39343 words, which is only about 17% of the original vocabulary! This should greatly reduce our likelihood of overfitting while not sacrificing too much in model performance."
      ]
    },
    {
      "cell_type": "markdown",
      "metadata": {
        "id": "nZzSWZEbAN6N"
      },
      "source": [
        "###Final Model"
      ]
    },
    {
      "cell_type": "markdown",
      "metadata": {
        "id": "5JtWRDssEX9P"
      },
      "source": [
        "Now that we have selected our model type, parameters, and features, we can generate our final model we'll use to submit to Kaggle. "
      ]
    },
    {
      "cell_type": "code",
      "metadata": {
        "colab": {
          "base_uri": "https://localhost:8080/"
        },
        "id": "UJTMXNS5APnF",
        "outputId": "3e4e436e-cab5-4475-c624-f1e9d8790a3e"
      },
      "source": [
        "reduced_vocab = word_stats[\"Word\"]\n",
        "\n",
        "vectorizer_final_train = TfidfVectorizer(ngram_range = gs.best_params_['Tfidf__ngram_range'], \n",
        "                                   vocabulary=reduced_vocab)\\\n",
        "                                    .fit_transform(X2_train)\n",
        "\n",
        "vectorizer_final_test = TfidfVectorizer(ngram_range = gs.best_params_['Tfidf__ngram_range'], \n",
        "                                   vocabulary=reduced_vocab)\\\n",
        "                                    .fit_transform(X2_test)\n",
        "\n",
        "NB_optimal = MultinomialNB(alpha = gs.best_params_['nb__alpha'])\n",
        "\n",
        "# fitting the model\n",
        "NB_optimal.fit(vectorizer_final_train, y2_train)"
      ],
      "execution_count": 40,
      "outputs": [
        {
          "output_type": "execute_result",
          "data": {
            "text/plain": [
              "MultinomialNB(alpha=0.36, class_prior=None, fit_prior=True)"
            ]
          },
          "metadata": {
            "tags": []
          },
          "execution_count": 40
        }
      ]
    },
    {
      "cell_type": "markdown",
      "metadata": {
        "id": "v_ulAD4xJ9pG"
      },
      "source": [
        "## Model Analysis"
      ]
    },
    {
      "cell_type": "markdown",
      "metadata": {
        "id": "XgfXHS-OLlzI"
      },
      "source": [
        "Now that we have our final model, let's see if we can get more information on what the model is doing."
      ]
    },
    {
      "cell_type": "markdown",
      "metadata": {
        "id": "qVPRSJooN5wk"
      },
      "source": [
        "### Log-probabilities"
      ]
    },
    {
      "cell_type": "markdown",
      "metadata": {
        "id": "NTHFzYeNN8mG"
      },
      "source": [
        " One metric we can examine is the empirical log-probability of each word. These number are all negative, and numbers closer to 0 signify a higher probability that, given a certain class, a given word is present in that class. For example, if an article is real, the word 'show' is very likely to appear in that article, as shown below."
      ]
    },
    {
      "cell_type": "code",
      "metadata": {
        "id": "sVoQVH7lfyzN"
      },
      "source": [
        "neg_class_sorted_index = (NB_optimal.feature_log_prob_[1, :].argsort())[::-1]\n",
        "pos_class_sorted_index = (NB_optimal.feature_log_prob_[0, :].argsort())[::-1]\n",
        "\n",
        "top_realwords = np.take(reduced_vocab, neg_class_sorted_index)\n",
        "top_fakewords = np.take(reduced_vocab, pos_class_sorted_index)\n",
        "\n",
        "top_realwords_logprob = np.take(NB_optimal.feature_log_prob_[1, :], neg_class_sorted_index)\n",
        "top_fakewords_logprob = np.take(NB_optimal.feature_log_prob_[0, :], pos_class_sorted_index)\n",
        "\n",
        "top_realwords = pd.DataFrame({\"Word\": top_realwords, \"LogProb\": top_realwords_logprob})\n",
        "top_fakewords = pd.DataFrame({\"Word\": top_fakewords, \"LogProb\": top_fakewords_logprob})"
      ],
      "execution_count": 41,
      "outputs": []
    },
    {
      "cell_type": "code",
      "metadata": {
        "colab": {
          "base_uri": "https://localhost:8080/",
          "height": 402
        },
        "id": "CPoNqmB9N7pm",
        "outputId": "91545c6c-aa14-4174-efb2-3230bf31c5f0"
      },
      "source": [
        "#Words that are common in real articles.\n",
        "top_realwords"
      ],
      "execution_count": 42,
      "outputs": [
        {
          "output_type": "execute_result",
          "data": {
            "text/html": [
              "<div>\n",
              "<style scoped>\n",
              "    .dataframe tbody tr th:only-of-type {\n",
              "        vertical-align: middle;\n",
              "    }\n",
              "\n",
              "    .dataframe tbody tr th {\n",
              "        vertical-align: top;\n",
              "    }\n",
              "\n",
              "    .dataframe thead th {\n",
              "        text-align: right;\n",
              "    }\n",
              "</style>\n",
              "<table border=\"1\" class=\"dataframe\">\n",
              "  <thead>\n",
              "    <tr style=\"text-align: right;\">\n",
              "      <th></th>\n",
              "      <th>Word</th>\n",
              "      <th>LogProb</th>\n",
              "    </tr>\n",
              "  </thead>\n",
              "  <tbody>\n",
              "    <tr>\n",
              "      <th>31830</th>\n",
              "      <td>show</td>\n",
              "      <td>-5.474328</td>\n",
              "    </tr>\n",
              "    <tr>\n",
              "      <th>31121</th>\n",
              "      <td>season</td>\n",
              "      <td>-5.537182</td>\n",
              "    </tr>\n",
              "    <tr>\n",
              "      <th>21067</th>\n",
              "      <td>like</td>\n",
              "      <td>-5.547098</td>\n",
              "    </tr>\n",
              "    <tr>\n",
              "      <th>14755</th>\n",
              "      <td>get</td>\n",
              "      <td>-5.662967</td>\n",
              "    </tr>\n",
              "    <tr>\n",
              "      <th>13460</th>\n",
              "      <td>first</td>\n",
              "      <td>-5.729996</td>\n",
              "    </tr>\n",
              "    <tr>\n",
              "      <th>...</th>\n",
              "      <td>...</td>\n",
              "      <td>...</td>\n",
              "    </tr>\n",
              "    <tr>\n",
              "      <th>9290</th>\n",
              "      <td>credo</td>\n",
              "      <td>-10.416427</td>\n",
              "    </tr>\n",
              "    <tr>\n",
              "      <th>36600</th>\n",
              "      <td>unproduct</td>\n",
              "      <td>-10.416427</td>\n",
              "    </tr>\n",
              "    <tr>\n",
              "      <th>18355</th>\n",
              "      <td>istockphoto</td>\n",
              "      <td>-10.416427</td>\n",
              "    </tr>\n",
              "    <tr>\n",
              "      <th>574</th>\n",
              "      <td>1million</td>\n",
              "      <td>-10.416427</td>\n",
              "    </tr>\n",
              "    <tr>\n",
              "      <th>38441</th>\n",
              "      <td>wola</td>\n",
              "      <td>-10.416427</td>\n",
              "    </tr>\n",
              "  </tbody>\n",
              "</table>\n",
              "<p>6601 rows × 2 columns</p>\n",
              "</div>"
            ],
            "text/plain": [
              "              Word    LogProb\n",
              "31830         show  -5.474328\n",
              "31121       season  -5.537182\n",
              "21067         like  -5.547098\n",
              "14755          get  -5.662967\n",
              "13460        first  -5.729996\n",
              "...            ...        ...\n",
              "9290         credo -10.416427\n",
              "36600    unproduct -10.416427\n",
              "18355  istockphoto -10.416427\n",
              "574       1million -10.416427\n",
              "38441         wola -10.416427\n",
              "\n",
              "[6601 rows x 2 columns]"
            ]
          },
          "metadata": {
            "tags": []
          },
          "execution_count": 42
        }
      ]
    },
    {
      "cell_type": "code",
      "metadata": {
        "colab": {
          "base_uri": "https://localhost:8080/",
          "height": 402
        },
        "id": "e10SIgtKN9I4",
        "outputId": "b111fd95-cb95-4e16-deb2-df52c55ddefd"
      },
      "source": [
        "#Words that are common in fake articles\n",
        "top_fakewords"
      ],
      "execution_count": 43,
      "outputs": [
        {
          "output_type": "execute_result",
          "data": {
            "text/html": [
              "<div>\n",
              "<style scoped>\n",
              "    .dataframe tbody tr th:only-of-type {\n",
              "        vertical-align: middle;\n",
              "    }\n",
              "\n",
              "    .dataframe tbody tr th {\n",
              "        vertical-align: top;\n",
              "    }\n",
              "\n",
              "    .dataframe thead th {\n",
              "        text-align: right;\n",
              "    }\n",
              "</style>\n",
              "<table border=\"1\" class=\"dataframe\">\n",
              "  <thead>\n",
              "    <tr style=\"text-align: right;\">\n",
              "      <th></th>\n",
              "      <th>Word</th>\n",
              "      <th>LogProb</th>\n",
              "    </tr>\n",
              "  </thead>\n",
              "  <tbody>\n",
              "    <tr>\n",
              "      <th>32729</th>\n",
              "      <td>sourc</td>\n",
              "      <td>-5.459801</td>\n",
              "    </tr>\n",
              "    <tr>\n",
              "      <th>5932</th>\n",
              "      <td>brad</td>\n",
              "      <td>-5.594774</td>\n",
              "    </tr>\n",
              "    <tr>\n",
              "      <th>19331</th>\n",
              "      <td>kardashian</td>\n",
              "      <td>-5.618375</td>\n",
              "    </tr>\n",
              "    <tr>\n",
              "      <th>21067</th>\n",
              "      <td>like</td>\n",
              "      <td>-5.653032</td>\n",
              "    </tr>\n",
              "    <tr>\n",
              "      <th>30749</th>\n",
              "      <td>say</td>\n",
              "      <td>-5.682120</td>\n",
              "    </tr>\n",
              "    <tr>\n",
              "      <th>...</th>\n",
              "      <td>...</td>\n",
              "      <td>...</td>\n",
              "    </tr>\n",
              "    <tr>\n",
              "      <th>36331</th>\n",
              "      <td>undat</td>\n",
              "      <td>-10.189453</td>\n",
              "    </tr>\n",
              "    <tr>\n",
              "      <th>14881</th>\n",
              "      <td>gimpl</td>\n",
              "      <td>-10.189453</td>\n",
              "    </tr>\n",
              "    <tr>\n",
              "      <th>21322</th>\n",
              "      <td>locationy</td>\n",
              "      <td>-10.189453</td>\n",
              "    </tr>\n",
              "    <tr>\n",
              "      <th>10408</th>\n",
              "      <td>desire</td>\n",
              "      <td>-10.189453</td>\n",
              "    </tr>\n",
              "    <tr>\n",
              "      <th>18403</th>\n",
              "      <td>ivovonniederhaeusern</td>\n",
              "      <td>-10.189453</td>\n",
              "    </tr>\n",
              "  </tbody>\n",
              "</table>\n",
              "<p>6601 rows × 2 columns</p>\n",
              "</div>"
            ],
            "text/plain": [
              "                       Word    LogProb\n",
              "32729                 sourc  -5.459801\n",
              "5932                   brad  -5.594774\n",
              "19331            kardashian  -5.618375\n",
              "21067                  like  -5.653032\n",
              "30749                   say  -5.682120\n",
              "...                     ...        ...\n",
              "36331                 undat -10.189453\n",
              "14881                 gimpl -10.189453\n",
              "21322             locationy -10.189453\n",
              "10408                desire -10.189453\n",
              "18403  ivovonniederhaeusern -10.189453\n",
              "\n",
              "[6601 rows x 2 columns]"
            ]
          },
          "metadata": {
            "tags": []
          },
          "execution_count": 43
        }
      ]
    },
    {
      "cell_type": "markdown",
      "metadata": {
        "id": "fgxstWZ6Q_ZE"
      },
      "source": [
        "###Confusion Matrices"
      ]
    },
    {
      "cell_type": "markdown",
      "metadata": {
        "id": "xS07v1jEN0fW"
      },
      "source": [
        "Another way to look at our model performance is to look at a [confusion matrix](https://en.wikipedia.org/wiki/Confusion_matrix). This gives us a quick look at how accurate our model is."
      ]
    },
    {
      "cell_type": "code",
      "metadata": {
        "id": "zNlb2w74btDZ"
      },
      "source": [
        "pred_train = NB_optimal.predict(vectorizer_final_train)\n",
        "pred_test = NB_optimal.predict(vectorizer_final_test)"
      ],
      "execution_count": 44,
      "outputs": []
    },
    {
      "cell_type": "code",
      "metadata": {
        "colab": {
          "base_uri": "https://localhost:8080/",
          "height": 421
        },
        "id": "UOzhMl00V_65",
        "outputId": "67352856-ab98-426f-be8e-7257277ad453"
      },
      "source": [
        "mat = confusion_matrix(y2_train, pred_train, labels=(\"Fake\", \"Real\"))\n",
        "ConfusionMatrixDisplay(mat, display_labels=[\"Fake\", \"Real\"]).plot(values_format='d')\n",
        "plt.title(\"Train\")\n",
        "plt.grid(False)\n",
        "plt.show()\n",
        "\n",
        "mat = confusion_matrix(y2_test, pred_test, labels=(\"Fake\", \"Real\"))\n",
        "ConfusionMatrixDisplay(mat, display_labels=[\"Fake\", \"Real\"]).plot(values_format='d')\n",
        "plt.title(\"Test\")\n",
        "plt.grid(False)\n",
        "plt.show()"
      ],
      "execution_count": 45,
      "outputs": [
        {
          "output_type": "display_data",
          "data": {
            "image/png": "[encoded data removed]",
            "text/plain": [
              "<Figure size 1584x180 with 2 Axes>"
            ]
          },
          "metadata": {
            "tags": []
          }
        },
        {
          "output_type": "display_data",
          "data": {
            "image/png": "[encoded data removed]",
            "text/plain": [
              "<Figure size 1584x180 with 2 Axes>"
            ]
          },
          "metadata": {
            "tags": []
          }
        }
      ]
    },
    {
      "cell_type": "markdown",
      "metadata": {
        "id": "BNcLTFGrceH3"
      },
      "source": [
        "As we can see, the model does pretty well on the training data, but the recall becomes much worse on the test set."
      ]
    },
    {
      "cell_type": "markdown",
      "metadata": {
        "id": "GtSqhUxMdSqZ"
      },
      "source": [
        "We can also examine how well the model performs if we narrow it down to individual words. The matrices below show us articles with the word \"brad\" in them, which was our word with the highest chi-squared value from before."
      ]
    },
    {
      "cell_type": "code",
      "metadata": {
        "colab": {
          "base_uri": "https://localhost:8080/",
          "height": 421
        },
        "id": "oEhqoMbKYT2y",
        "outputId": "b464def9-8cfc-4122-bd8e-db7eaaf0f504"
      },
      "source": [
        "wordtocheck = \"brad\"\n",
        "contains_word_train = X2_train.str.contains(wordtocheck)\n",
        "contains_word_test = X2_test.str.contains(wordtocheck)\n",
        "\n",
        "mat = confusion_matrix(y2_train[contains_word_train], pred_train[contains_word_train], labels=(\"Fake\", \"Real\"))\n",
        "ConfusionMatrixDisplay(mat, display_labels=[\"Fake\", \"Real\"]).plot(values_format='d')\n",
        "plt.title(\"Train \"+\"(only articles with \"+\"'brad')\")\n",
        "plt.grid(False)\n",
        "plt.show()\n",
        "\n",
        "mat = confusion_matrix(y2_test[contains_word_test], pred_test[contains_word_test], labels=(\"Fake\", \"Real\"))\n",
        "ConfusionMatrixDisplay(mat, display_labels=[\"Fake\", \"Real\"]).plot(values_format='d')\n",
        "plt.title(\"Test \"+\"(only articles with \"+\"'brad')\")\n",
        "plt.grid(False)\n",
        "plt.show()"
      ],
      "execution_count": 46,
      "outputs": [
        {
          "output_type": "display_data",
          "data": {
            "image/png": "[encoded data removed]",
            "text/plain": [
              "<Figure size 1584x180 with 2 Axes>"
            ]
          },
          "metadata": {
            "tags": []
          }
        },
        {
          "output_type": "display_data",
          "data": {
            "image/png": "[encoded data removed]",
            "text/plain": [
              "<Figure size 1584x180 with 2 Axes>"
            ]
          },
          "metadata": {
            "tags": []
          }
        }
      ]
    },
    {
      "cell_type": "markdown",
      "metadata": {
        "id": "KWY24Xg5fxDc"
      },
      "source": [
        "###Word Stats"
      ]
    },
    {
      "cell_type": "markdown",
      "metadata": {
        "id": "SVrMTJFaf7AY"
      },
      "source": [
        "Lets take a look at both of these elements for each word, the log-probs and the confusion matrix data. "
      ]
    },
    {
      "cell_type": "code",
      "metadata": {
        "id": "zE1N7G0VwBcn"
      },
      "source": [
        "word_stats = pd.merge(pd.merge(word_stats, top_fakewords, on=\"Word\"), top_realwords, on=\"Word\", suffixes=(\"_Fake\", \"_Real\"))"
      ],
      "execution_count": 47,
      "outputs": []
    },
    {
      "cell_type": "code",
      "metadata": {
        "id": "QW9p-Ql3yuAX"
      },
      "source": [
        "def add_stats(w):\n",
        "    wordtocheck = w[\"Word\"]\n",
        "    contains_word = X2_train.str.contains(wordtocheck)\n",
        "    w[\"TP\"], w[\"FP\"], w[\"FN\"], w[\"TN\"] = confusion_matrix(y2_train[contains_word], pred_train[contains_word], labels=(\"Fake\", \"Real\")).ravel()\n",
        "    w[\"TP_norm\"], w[\"FP_norm\"], w[\"FN_norm\"], w[\"TN_norm\"] = confusion_matrix(y2_train[contains_word], pred_train[contains_word], labels=(\"Fake\", \"Real\"), normalize=\"all\").ravel()\n",
        "    return w\n",
        "\n",
        "word_stats = word_stats.apply(add_stats, axis=1)"
      ],
      "execution_count": 48,
      "outputs": []
    },
    {
      "cell_type": "code",
      "metadata": {
        "id": "eIwGV4NE3ryt",
        "colab": {
          "base_uri": "https://localhost:8080/",
          "height": 491
        },
        "outputId": "7b64e56d-3380-41ae-aa11-017ffb5f8a7d"
      },
      "source": [
        "word_stats.sort_values(\"chi2\", ascending=False).head(15)\n",
        "#Note sorted by chi2"
      ],
      "execution_count": 49,
      "outputs": [
        {
          "output_type": "execute_result",
          "data": {
            "text/html": [
              "<div>\n",
              "<style scoped>\n",
              "    .dataframe tbody tr th:only-of-type {\n",
              "        vertical-align: middle;\n",
              "    }\n",
              "\n",
              "    .dataframe tbody tr th {\n",
              "        vertical-align: top;\n",
              "    }\n",
              "\n",
              "    .dataframe thead th {\n",
              "        text-align: right;\n",
              "    }\n",
              "</style>\n",
              "<table border=\"1\" class=\"dataframe\">\n",
              "  <thead>\n",
              "    <tr style=\"text-align: right;\">\n",
              "      <th></th>\n",
              "      <th>Word</th>\n",
              "      <th>chi2</th>\n",
              "      <th>p</th>\n",
              "      <th>LogProb_Fake</th>\n",
              "      <th>LogProb_Real</th>\n",
              "      <th>TP</th>\n",
              "      <th>FP</th>\n",
              "      <th>FN</th>\n",
              "      <th>TN</th>\n",
              "      <th>TP_norm</th>\n",
              "      <th>FP_norm</th>\n",
              "      <th>FN_norm</th>\n",
              "      <th>TN_norm</th>\n",
              "    </tr>\n",
              "  </thead>\n",
              "  <tbody>\n",
              "    <tr>\n",
              "      <th>0</th>\n",
              "      <td>brad</td>\n",
              "      <td>35.205259</td>\n",
              "      <td>2.967212e-09</td>\n",
              "      <td>-5.594774</td>\n",
              "      <td>-8.018549</td>\n",
              "      <td>155</td>\n",
              "      <td>19</td>\n",
              "      <td>15</td>\n",
              "      <td>53</td>\n",
              "      <td>0.640496</td>\n",
              "      <td>0.078512</td>\n",
              "      <td>0.061983</td>\n",
              "      <td>0.219008</td>\n",
              "    </tr>\n",
              "    <tr>\n",
              "      <th>1</th>\n",
              "      <td>pitt</td>\n",
              "      <td>31.766036</td>\n",
              "      <td>1.739074e-08</td>\n",
              "      <td>-5.687666</td>\n",
              "      <td>-8.125464</td>\n",
              "      <td>139</td>\n",
              "      <td>3</td>\n",
              "      <td>15</td>\n",
              "      <td>15</td>\n",
              "      <td>0.808140</td>\n",
              "      <td>0.017442</td>\n",
              "      <td>0.087209</td>\n",
              "      <td>0.087209</td>\n",
              "    </tr>\n",
              "    <tr>\n",
              "      <th>2</th>\n",
              "      <td>sourc</td>\n",
              "      <td>20.947368</td>\n",
              "      <td>4.720760e-06</td>\n",
              "      <td>-5.459801</td>\n",
              "      <td>-6.643690</td>\n",
              "      <td>494</td>\n",
              "      <td>31</td>\n",
              "      <td>46</td>\n",
              "      <td>254</td>\n",
              "      <td>0.598788</td>\n",
              "      <td>0.037576</td>\n",
              "      <td>0.055758</td>\n",
              "      <td>0.307879</td>\n",
              "    </tr>\n",
              "    <tr>\n",
              "      <th>3</th>\n",
              "      <td>joli</td>\n",
              "      <td>18.982403</td>\n",
              "      <td>1.319295e-05</td>\n",
              "      <td>-6.016032</td>\n",
              "      <td>-7.906682</td>\n",
              "      <td>113</td>\n",
              "      <td>2</td>\n",
              "      <td>12</td>\n",
              "      <td>17</td>\n",
              "      <td>0.784722</td>\n",
              "      <td>0.013889</td>\n",
              "      <td>0.083333</td>\n",
              "      <td>0.118056</td>\n",
              "    </tr>\n",
              "    <tr>\n",
              "      <th>4</th>\n",
              "      <td>angelina</td>\n",
              "      <td>17.170269</td>\n",
              "      <td>3.417432e-05</td>\n",
              "      <td>-6.259558</td>\n",
              "      <td>-8.487052</td>\n",
              "      <td>111</td>\n",
              "      <td>2</td>\n",
              "      <td>12</td>\n",
              "      <td>13</td>\n",
              "      <td>0.804348</td>\n",
              "      <td>0.014493</td>\n",
              "      <td>0.086957</td>\n",
              "      <td>0.094203</td>\n",
              "    </tr>\n",
              "    <tr>\n",
              "      <th>5</th>\n",
              "      <td>aniston</td>\n",
              "      <td>14.865728</td>\n",
              "      <td>1.154415e-04</td>\n",
              "      <td>-6.279318</td>\n",
              "      <td>-8.189229</td>\n",
              "      <td>82</td>\n",
              "      <td>4</td>\n",
              "      <td>11</td>\n",
              "      <td>6</td>\n",
              "      <td>0.796117</td>\n",
              "      <td>0.038835</td>\n",
              "      <td>0.106796</td>\n",
              "      <td>0.058252</td>\n",
              "    </tr>\n",
              "    <tr>\n",
              "      <th>6</th>\n",
              "      <td>caitlyn</td>\n",
              "      <td>12.990575</td>\n",
              "      <td>3.130628e-04</td>\n",
              "      <td>-6.625143</td>\n",
              "      <td>-9.130981</td>\n",
              "      <td>38</td>\n",
              "      <td>5</td>\n",
              "      <td>6</td>\n",
              "      <td>6</td>\n",
              "      <td>0.690909</td>\n",
              "      <td>0.090909</td>\n",
              "      <td>0.109091</td>\n",
              "      <td>0.109091</td>\n",
              "    </tr>\n",
              "    <tr>\n",
              "      <th>7</th>\n",
              "      <td>insid</td>\n",
              "      <td>12.445218</td>\n",
              "      <td>4.190633e-04</td>\n",
              "      <td>-6.053616</td>\n",
              "      <td>-7.349737</td>\n",
              "      <td>311</td>\n",
              "      <td>28</td>\n",
              "      <td>30</td>\n",
              "      <td>175</td>\n",
              "      <td>0.571691</td>\n",
              "      <td>0.051471</td>\n",
              "      <td>0.055147</td>\n",
              "      <td>0.321691</td>\n",
              "    </tr>\n",
              "    <tr>\n",
              "      <th>8</th>\n",
              "      <td>jen</td>\n",
              "      <td>12.405813</td>\n",
              "      <td>4.279994e-04</td>\n",
              "      <td>-6.323265</td>\n",
              "      <td>-7.866155</td>\n",
              "      <td>261</td>\n",
              "      <td>48</td>\n",
              "      <td>54</td>\n",
              "      <td>219</td>\n",
              "      <td>0.448454</td>\n",
              "      <td>0.082474</td>\n",
              "      <td>0.092784</td>\n",
              "      <td>0.376289</td>\n",
              "    </tr>\n",
              "    <tr>\n",
              "      <th>9</th>\n",
              "      <td>kany</td>\n",
              "      <td>11.405864</td>\n",
              "      <td>7.321264e-04</td>\n",
              "      <td>-6.190414</td>\n",
              "      <td>-7.531865</td>\n",
              "      <td>83</td>\n",
              "      <td>11</td>\n",
              "      <td>14</td>\n",
              "      <td>34</td>\n",
              "      <td>0.584507</td>\n",
              "      <td>0.077465</td>\n",
              "      <td>0.098592</td>\n",
              "      <td>0.239437</td>\n",
              "    </tr>\n",
              "    <tr>\n",
              "      <th>10</th>\n",
              "      <td>jenner</td>\n",
              "      <td>11.362227</td>\n",
              "      <td>7.495292e-04</td>\n",
              "      <td>-5.840508</td>\n",
              "      <td>-6.829059</td>\n",
              "      <td>116</td>\n",
              "      <td>15</td>\n",
              "      <td>33</td>\n",
              "      <td>48</td>\n",
              "      <td>0.547170</td>\n",
              "      <td>0.070755</td>\n",
              "      <td>0.155660</td>\n",
              "      <td>0.226415</td>\n",
              "    </tr>\n",
              "    <tr>\n",
              "      <th>11</th>\n",
              "      <td>gwen</td>\n",
              "      <td>11.041149</td>\n",
              "      <td>8.911159e-04</td>\n",
              "      <td>-6.624384</td>\n",
              "      <td>-8.594044</td>\n",
              "      <td>39</td>\n",
              "      <td>4</td>\n",
              "      <td>6</td>\n",
              "      <td>11</td>\n",
              "      <td>0.650000</td>\n",
              "      <td>0.066667</td>\n",
              "      <td>0.100000</td>\n",
              "      <td>0.183333</td>\n",
              "    </tr>\n",
              "    <tr>\n",
              "      <th>12</th>\n",
              "      <td>justin</td>\n",
              "      <td>10.730525</td>\n",
              "      <td>1.053825e-03</td>\n",
              "      <td>-5.943334</td>\n",
              "      <td>-6.950053</td>\n",
              "      <td>146</td>\n",
              "      <td>23</td>\n",
              "      <td>17</td>\n",
              "      <td>98</td>\n",
              "      <td>0.514085</td>\n",
              "      <td>0.080986</td>\n",
              "      <td>0.059859</td>\n",
              "      <td>0.345070</td>\n",
              "    </tr>\n",
              "    <tr>\n",
              "      <th>13</th>\n",
              "      <td>season</td>\n",
              "      <td>10.424546</td>\n",
              "      <td>1.243514e-03</td>\n",
              "      <td>-6.898985</td>\n",
              "      <td>-5.537182</td>\n",
              "      <td>93</td>\n",
              "      <td>57</td>\n",
              "      <td>20</td>\n",
              "      <td>407</td>\n",
              "      <td>0.161179</td>\n",
              "      <td>0.098787</td>\n",
              "      <td>0.034662</td>\n",
              "      <td>0.705373</td>\n",
              "    </tr>\n",
              "    <tr>\n",
              "      <th>14</th>\n",
              "      <td>hollywoodlif</td>\n",
              "      <td>9.837130</td>\n",
              "      <td>1.710241e-03</td>\n",
              "      <td>-6.961444</td>\n",
              "      <td>-9.947012</td>\n",
              "      <td>71</td>\n",
              "      <td>2</td>\n",
              "      <td>2</td>\n",
              "      <td>4</td>\n",
              "      <td>0.898734</td>\n",
              "      <td>0.025316</td>\n",
              "      <td>0.025316</td>\n",
              "      <td>0.050633</td>\n",
              "    </tr>\n",
              "  </tbody>\n",
              "</table>\n",
              "</div>"
            ],
            "text/plain": [
              "            Word       chi2             p  ...   FP_norm   FN_norm   TN_norm\n",
              "0           brad  35.205259  2.967212e-09  ...  0.078512  0.061983  0.219008\n",
              "1           pitt  31.766036  1.739074e-08  ...  0.017442  0.087209  0.087209\n",
              "2          sourc  20.947368  4.720760e-06  ...  0.037576  0.055758  0.307879\n",
              "3           joli  18.982403  1.319295e-05  ...  0.013889  0.083333  0.118056\n",
              "4       angelina  17.170269  3.417432e-05  ...  0.014493  0.086957  0.094203\n",
              "5        aniston  14.865728  1.154415e-04  ...  0.038835  0.106796  0.058252\n",
              "6        caitlyn  12.990575  3.130628e-04  ...  0.090909  0.109091  0.109091\n",
              "7          insid  12.445218  4.190633e-04  ...  0.051471  0.055147  0.321691\n",
              "8            jen  12.405813  4.279994e-04  ...  0.082474  0.092784  0.376289\n",
              "9           kany  11.405864  7.321264e-04  ...  0.077465  0.098592  0.239437\n",
              "10        jenner  11.362227  7.495292e-04  ...  0.070755  0.155660  0.226415\n",
              "11          gwen  11.041149  8.911159e-04  ...  0.066667  0.100000  0.183333\n",
              "12        justin  10.730525  1.053825e-03  ...  0.080986  0.059859  0.345070\n",
              "13        season  10.424546  1.243514e-03  ...  0.098787  0.034662  0.705373\n",
              "14  hollywoodlif   9.837130  1.710241e-03  ...  0.025316  0.025316  0.050633\n",
              "\n",
              "[15 rows x 13 columns]"
            ]
          },
          "metadata": {
            "tags": []
          },
          "execution_count": 49
        }
      ]
    },
    {
      "cell_type": "markdown",
      "metadata": {
        "id": "5JjA_ecsgJ-f"
      },
      "source": [
        "Most of the words with high chi2 values seem to correspond more closely to fake news (with the exception of 'season'). This may indicate that most of the most impactful words appear in fake articles. Additionally, words in fake articles don't appear at the same rate in real articles as words in real articles appearing in fake ones. For example, a fake article may have the words \"say\", \"go\" and \"brad\", while a typical real article may only have the words \"say\" and \"go\". This makes it tricky to identify fake news articles without these flagging words."
      ]
    },
    {
      "cell_type": "code",
      "metadata": {
        "id": "Vnu5LYWItRrQ"
      },
      "source": [
        ""
      ],
      "execution_count": 49,
      "outputs": []
    },
    {
      "cell_type": "code",
      "metadata": {
        "id": "1Wbce1PMDB9a",
        "colab": {
          "base_uri": "https://localhost:8080/",
          "height": 207
        },
        "outputId": "d9d6ff90-4af7-4bca-db0d-f3bb72dcd9fd"
      },
      "source": [
        "sns.histplot(data = word_stats, x=\"LogProb_Real\")\n",
        "sns.set(rc={'figure.figsize':(18,5)})\n",
        "xmin = min(min(word_stats['LogProb_Real']), min(word_stats['LogProb_Fake']))-.25\n",
        "xmax = max(max(word_stats['LogProb_Real']), max(word_stats['LogProb_Fake']))+.25\n",
        "ymax = 2000\n",
        "plt.subplot(121)\n",
        "g = sns.histplot(data = word_stats, x=\"LogProb_Real\")\n",
        "g.set_xlim(xmin,xmax)\n",
        "g.set_ylim(0,ymax)\n",
        "plt.subplot(122)\n",
        "g = sns.histplot(data = word_stats, x=\"LogProb_Fake\")\n",
        "g.set_xlim(xmin,xmax)\n",
        "g.set_ylim(0,ymax)\n",
        "plt.show()"
      ],
      "execution_count": 50,
      "outputs": [
        {
          "output_type": "display_data",
          "data": {
            "image/png": "[encoded data removed]",
            "text/plain": [
              "<Figure size 1584x180 with 2 Axes>"
            ]
          },
          "metadata": {
            "tags": []
          }
        }
      ]
    },
    {
      "cell_type": "markdown",
      "metadata": {
        "id": "fDlMptZJnHad"
      },
      "source": [
        "##Final Results"
      ]
    },
    {
      "cell_type": "markdown",
      "metadata": {
        "id": "oaipBsPPnJ4i"
      },
      "source": [
        "###Original Test Set Predictions"
      ]
    },
    {
      "cell_type": "markdown",
      "metadata": {
        "id": "lqnM4d0GnX0w"
      },
      "source": [
        "After all my analysis, it's time to use the final model to generate predictions for our ORIGINAL test set. Remember, this test data was given to us from Kaggle and hasn't been used at all in our model since it doesn't have labels."
      ]
    },
    {
      "cell_type": "code",
      "metadata": {
        "id": "Vf0DKCLIqgt3"
      },
      "source": [
        "vectorizer_train_toKagg = TfidfVectorizer(ngram_range = gs.best_params_['Tfidf__ngram_range'], vocabulary=reduced_vocab).fit_transform(X_train_ready)\n",
        "vectorizer_test_toKagg = TfidfVectorizer(ngram_range = gs.best_params_['Tfidf__ngram_range'], vocabulary=reduced_vocab).fit_transform(X_test_ready)\n",
        "\n",
        "# fitting the model\n",
        "NB_optimal.fit(vectorizer_train_toKagg, y_train)\n",
        "\n",
        "pred_toKagg = NB_optimal.predict(vectorizer_test_toKagg)\n",
        "\n",
        "#Re-labeling Fake and Real as 1 and 0 for the Kaggle submission\n",
        "pred_toKagg[pred_toKagg == \"Fake\"] = 1\n",
        "pred_toKagg[pred_toKagg == \"Real\"] = 0"
      ],
      "execution_count": 51,
      "outputs": []
    },
    {
      "cell_type": "markdown",
      "metadata": {
        "id": "2gmCbe_lIMCf"
      },
      "source": [
        "### Saving Output"
      ]
    },
    {
      "cell_type": "code",
      "metadata": {
        "id": "6fUTZtxROpHs"
      },
      "source": [
        "to_submit = pd.DataFrame({'id': test_data['id'], 'label': pred_toKagg})"
      ],
      "execution_count": 52,
      "outputs": []
    },
    {
      "cell_type": "code",
      "metadata": {
        "id": "XWUp4s7JOqkr"
      },
      "source": [
        "to_submit.to_csv(\"to_submit.csv\",index=False)"
      ],
      "execution_count": 53,
      "outputs": []
    },
    {
      "cell_type": "markdown",
      "metadata": {
        "id": "8HVWedbDoXka"
      },
      "source": [
        "###Kaggle Results"
      ]
    },
    {
      "cell_type": "markdown",
      "metadata": {
        "id": "oOw5yN8WodVL"
      },
      "source": [
        "My final model generated a score of 0.75344 from Kaggle, which would place me at #19 on the leaderboard. "
      ]
    },
    {
      "cell_type": "markdown",
      "metadata": {
        "id": "NPR7sP3Uonvq"
      },
      "source": [
        "## Conclusion"
      ]
    },
    {
      "cell_type": "markdown",
      "metadata": {
        "id": "ON-XFUJAnfG0"
      },
      "source": [
        "Overall, I'm pleased with how this Capstone project ended up. Of course, the model didn't end up placing that well compared to the other Kaggle submissions, but it was still a valuable learning experience. If I were to work more on improving the model in the future, I'd definitely try other algorithms besides Multinomial Naive Bayes like a random forest, logistic regression, or SVM. I’d also try to implement some sort of named-entity recognition to capture all of the celebrity names better.  "
      ]
    },
    {
      "cell_type": "code",
      "metadata": {
        "id": "ZewrNwhWoxI4"
      },
      "source": [
        ""
      ],
      "execution_count": null,
      "outputs": []
    }
  ]
}